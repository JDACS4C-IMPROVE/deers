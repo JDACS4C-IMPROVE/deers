{
 "cells": [
  {
   "cell_type": "markdown",
   "metadata": {},
   "source": [
    "# Prototype hybrid matrix factorization model for drug reccomendations using PyTorch"
   ]
  },
  {
   "cell_type": "markdown",
   "metadata": {},
   "source": [
    "## Setup and data load"
   ]
  },
  {
   "cell_type": "markdown",
   "metadata": {},
   "source": [
    "Imports"
   ]
  },
  {
   "cell_type": "code",
   "execution_count": 1,
   "metadata": {},
   "outputs": [],
   "source": [
    "import numpy as np\n",
    "import pandas as pd\n",
    "import matplotlib.pyplot as plt\n",
    "import seaborn as sns\n",
    "import time\n",
    "\n",
    "from scipy.stats import pearsonr\n",
    "\n",
    "import torch\n",
    "from torch.autograd import Variable\n",
    "from torch.nn import functional as F\n",
    "\n",
    "from sklearn import metrics"
   ]
  },
  {
   "cell_type": "markdown",
   "metadata": {},
   "source": [
    "Data load"
   ]
  },
  {
   "cell_type": "code",
   "execution_count": 2,
   "metadata": {},
   "outputs": [
    {
     "name": "stdout",
     "output_type": "stream",
     "text": [
      "(224202, 13)\n"
     ]
    },
    {
     "data": {
      "text/html": [
       "<div>\n",
       "<style scoped>\n",
       "    .dataframe tbody tr th:only-of-type {\n",
       "        vertical-align: middle;\n",
       "    }\n",
       "\n",
       "    .dataframe tbody tr th {\n",
       "        vertical-align: top;\n",
       "    }\n",
       "\n",
       "    .dataframe thead th {\n",
       "        text-align: right;\n",
       "    }\n",
       "</style>\n",
       "<table border=\"1\" class=\"dataframe\">\n",
       "  <thead>\n",
       "    <tr style=\"text-align: right;\">\n",
       "      <th></th>\n",
       "      <th>DATASET_VERSION</th>\n",
       "      <th>IC50_RESULTS_ID</th>\n",
       "      <th>COSMIC_ID</th>\n",
       "      <th>CELL_LINE_NAME</th>\n",
       "      <th>DRUG_ID</th>\n",
       "      <th>DRUG_NAME</th>\n",
       "      <th>PUTATIVE_TARGET</th>\n",
       "      <th>MAX_CONC_MICROMOLAR</th>\n",
       "      <th>MIN_CONC_MICROMOLAR</th>\n",
       "      <th>LN_IC50</th>\n",
       "      <th>AUC</th>\n",
       "      <th>RMSE</th>\n",
       "      <th>Z_SCORE</th>\n",
       "    </tr>\n",
       "  </thead>\n",
       "  <tbody>\n",
       "    <tr>\n",
       "      <th>0</th>\n",
       "      <td>17.3</td>\n",
       "      <td>1</td>\n",
       "      <td>683665</td>\n",
       "      <td>MC-CAR</td>\n",
       "      <td>1</td>\n",
       "      <td>Erlotinib</td>\n",
       "      <td>EGFR</td>\n",
       "      <td>2.0</td>\n",
       "      <td>0.007812</td>\n",
       "      <td>2.453524</td>\n",
       "      <td>0.982610</td>\n",
       "      <td>0.021678</td>\n",
       "      <td>-0.015505</td>\n",
       "    </tr>\n",
       "    <tr>\n",
       "      <th>1</th>\n",
       "      <td>17.3</td>\n",
       "      <td>1482</td>\n",
       "      <td>684055</td>\n",
       "      <td>ES3</td>\n",
       "      <td>1</td>\n",
       "      <td>Erlotinib</td>\n",
       "      <td>EGFR</td>\n",
       "      <td>2.0</td>\n",
       "      <td>0.007812</td>\n",
       "      <td>3.376592</td>\n",
       "      <td>0.985169</td>\n",
       "      <td>0.029915</td>\n",
       "      <td>0.779999</td>\n",
       "    </tr>\n",
       "    <tr>\n",
       "      <th>2</th>\n",
       "      <td>17.3</td>\n",
       "      <td>1791</td>\n",
       "      <td>684057</td>\n",
       "      <td>ES5</td>\n",
       "      <td>1</td>\n",
       "      <td>Erlotinib</td>\n",
       "      <td>EGFR</td>\n",
       "      <td>2.0</td>\n",
       "      <td>0.007812</td>\n",
       "      <td>3.614664</td>\n",
       "      <td>0.983207</td>\n",
       "      <td>0.031201</td>\n",
       "      <td>0.985170</td>\n",
       "    </tr>\n",
       "  </tbody>\n",
       "</table>\n",
       "</div>"
      ],
      "text/plain": [
       "   DATASET_VERSION  IC50_RESULTS_ID  COSMIC_ID CELL_LINE_NAME  DRUG_ID  \\\n",
       "0             17.3                1     683665         MC-CAR        1   \n",
       "1             17.3             1482     684055            ES3        1   \n",
       "2             17.3             1791     684057            ES5        1   \n",
       "\n",
       "   DRUG_NAME PUTATIVE_TARGET  MAX_CONC_MICROMOLAR  MIN_CONC_MICROMOLAR  \\\n",
       "0  Erlotinib            EGFR                  2.0             0.007812   \n",
       "1  Erlotinib            EGFR                  2.0             0.007812   \n",
       "2  Erlotinib            EGFR                  2.0             0.007812   \n",
       "\n",
       "    LN_IC50       AUC      RMSE   Z_SCORE  \n",
       "0  2.453524  0.982610  0.021678 -0.015505  \n",
       "1  3.376592  0.985169  0.029915  0.779999  \n",
       "2  3.614664  0.983207  0.031201  0.985170  "
      ]
     },
     "execution_count": 2,
     "metadata": {},
     "output_type": "execute_result"
    }
   ],
   "source": [
    "# Drug sensitivity values from GDSC v2\n",
    "filepath = \"/media/krzysztof/Nowy/Doktorat - Modelling drug efficacy in cancer/Data/Original Data/Genomics of Drug Sensitivity in Cancer/Original GDSC Data/Sensitivity profiles/v17.3_fitted_dose_response-March_27th_2018.xlsx\"\n",
    "\n",
    "drug_response_df = pd.read_excel(filepath)\n",
    "print(drug_response_df.shape)\n",
    "drug_response_df.head(3)"
   ]
  },
  {
   "cell_type": "code",
   "execution_count": 3,
   "metadata": {},
   "outputs": [
    {
     "name": "stdout",
     "output_type": "stream",
     "text": [
      "(17737, 1019)\n"
     ]
    },
    {
     "data": {
      "text/html": [
       "<div>\n",
       "<style scoped>\n",
       "    .dataframe tbody tr th:only-of-type {\n",
       "        vertical-align: middle;\n",
       "    }\n",
       "\n",
       "    .dataframe tbody tr th {\n",
       "        vertical-align: top;\n",
       "    }\n",
       "\n",
       "    .dataframe thead th {\n",
       "        text-align: right;\n",
       "    }\n",
       "</style>\n",
       "<table border=\"1\" class=\"dataframe\">\n",
       "  <thead>\n",
       "    <tr style=\"text-align: right;\">\n",
       "      <th></th>\n",
       "      <th>ensembl_gene</th>\n",
       "      <th>906826</th>\n",
       "      <th>687983</th>\n",
       "      <th>910927</th>\n",
       "      <th>1240138</th>\n",
       "      <th>1240139</th>\n",
       "      <th>906792</th>\n",
       "      <th>910688</th>\n",
       "      <th>1240135</th>\n",
       "      <th>1290812</th>\n",
       "      <th>...</th>\n",
       "      <th>753584</th>\n",
       "      <th>907044</th>\n",
       "      <th>998184</th>\n",
       "      <th>908145</th>\n",
       "      <th>1659787</th>\n",
       "      <th>1298157</th>\n",
       "      <th>1480372</th>\n",
       "      <th>1298533</th>\n",
       "      <th>930299</th>\n",
       "      <th>905954.1</th>\n",
       "    </tr>\n",
       "  </thead>\n",
       "  <tbody>\n",
       "    <tr>\n",
       "      <th>0</th>\n",
       "      <td>ENSG00000000003</td>\n",
       "      <td>7.632023</td>\n",
       "      <td>7.548671</td>\n",
       "      <td>8.712338</td>\n",
       "      <td>7.797142</td>\n",
       "      <td>7.729268</td>\n",
       "      <td>7.074533</td>\n",
       "      <td>3.285198</td>\n",
       "      <td>6.961606</td>\n",
       "      <td>5.943046</td>\n",
       "      <td>...</td>\n",
       "      <td>7.105637</td>\n",
       "      <td>3.236503</td>\n",
       "      <td>3.038892</td>\n",
       "      <td>8.373223</td>\n",
       "      <td>6.932178</td>\n",
       "      <td>8.441628</td>\n",
       "      <td>8.422922</td>\n",
       "      <td>8.089255</td>\n",
       "      <td>3.112333</td>\n",
       "      <td>7.153127</td>\n",
       "    </tr>\n",
       "    <tr>\n",
       "      <th>1</th>\n",
       "      <td>ENSG00000000005</td>\n",
       "      <td>2.964585</td>\n",
       "      <td>2.777716</td>\n",
       "      <td>2.643508</td>\n",
       "      <td>2.817923</td>\n",
       "      <td>2.957739</td>\n",
       "      <td>2.889677</td>\n",
       "      <td>2.828203</td>\n",
       "      <td>2.874751</td>\n",
       "      <td>2.686874</td>\n",
       "      <td>...</td>\n",
       "      <td>2.798847</td>\n",
       "      <td>2.745137</td>\n",
       "      <td>2.976406</td>\n",
       "      <td>2.852552</td>\n",
       "      <td>2.622630</td>\n",
       "      <td>2.639276</td>\n",
       "      <td>2.879890</td>\n",
       "      <td>2.521169</td>\n",
       "      <td>2.870468</td>\n",
       "      <td>2.834285</td>\n",
       "    </tr>\n",
       "    <tr>\n",
       "      <th>2</th>\n",
       "      <td>ENSG00000000419</td>\n",
       "      <td>10.379553</td>\n",
       "      <td>11.807341</td>\n",
       "      <td>9.880733</td>\n",
       "      <td>9.883471</td>\n",
       "      <td>10.418840</td>\n",
       "      <td>9.773987</td>\n",
       "      <td>10.264385</td>\n",
       "      <td>10.205931</td>\n",
       "      <td>10.299757</td>\n",
       "      <td>...</td>\n",
       "      <td>10.486486</td>\n",
       "      <td>10.442951</td>\n",
       "      <td>10.311962</td>\n",
       "      <td>10.454830</td>\n",
       "      <td>10.418475</td>\n",
       "      <td>11.463742</td>\n",
       "      <td>10.557777</td>\n",
       "      <td>10.792750</td>\n",
       "      <td>9.873902</td>\n",
       "      <td>10.788218</td>\n",
       "    </tr>\n",
       "  </tbody>\n",
       "</table>\n",
       "<p>3 rows × 1019 columns</p>\n",
       "</div>"
      ],
      "text/plain": [
       "      ensembl_gene     906826     687983    910927   1240138    1240139  \\\n",
       "0  ENSG00000000003   7.632023   7.548671  8.712338  7.797142   7.729268   \n",
       "1  ENSG00000000005   2.964585   2.777716  2.643508  2.817923   2.957739   \n",
       "2  ENSG00000000419  10.379553  11.807341  9.880733  9.883471  10.418840   \n",
       "\n",
       "     906792     910688    1240135    1290812    ...         753584     907044  \\\n",
       "0  7.074533   3.285198   6.961606   5.943046    ...       7.105637   3.236503   \n",
       "1  2.889677   2.828203   2.874751   2.686874    ...       2.798847   2.745137   \n",
       "2  9.773987  10.264385  10.205931  10.299757    ...      10.486486  10.442951   \n",
       "\n",
       "      998184     908145    1659787    1298157    1480372    1298533    930299  \\\n",
       "0   3.038892   8.373223   6.932178   8.441628   8.422922   8.089255  3.112333   \n",
       "1   2.976406   2.852552   2.622630   2.639276   2.879890   2.521169  2.870468   \n",
       "2  10.311962  10.454830  10.418475  11.463742  10.557777  10.792750  9.873902   \n",
       "\n",
       "    905954.1  \n",
       "0   7.153127  \n",
       "1   2.834285  \n",
       "2  10.788218  \n",
       "\n",
       "[3 rows x 1019 columns]"
      ]
     },
     "execution_count": 3,
     "metadata": {},
     "output_type": "execute_result"
    }
   ],
   "source": [
    "# Full gene expression data\n",
    "filepath = \"/media/krzysztof/Nowy/Doktorat - Modelling drug efficacy in cancer/Data/Original Data/Genomics of Drug Sensitivity in Cancer/Original GDSC Data/Gene expression/sanger1018_brainarray_ensemblgene_rma-March_2nd_2017.txt\"\n",
    "gene_expression_df = pd.read_table(filepath)\n",
    "print(gene_expression_df.shape)\n",
    "gene_expression_df.head(3)"
   ]
  },
  {
   "cell_type": "markdown",
   "metadata": {},
   "source": [
    "## Model prototyping\n",
    "Try to build simple linear model with fake data"
   ]
  },
  {
   "cell_type": "markdown",
   "metadata": {},
   "source": [
    "#### Model definition"
   ]
  },
  {
   "cell_type": "code",
   "execution_count": 4,
   "metadata": {},
   "outputs": [],
   "source": [
    "# class LinearMatrixFactorizationWithFeatures(torch.nn.Module):\n",
    "#     def __init__(self, cell_line_input_dim, drug_input_dim, output_dim):\n",
    "#         super(LinearMatrixFactorizationWithFeatures, self).__init__()\n",
    "#         self.cell_line_linear = torch.nn.Linear(cell_line_input_dim, output_dim)\n",
    "#         self.drug_linear = torch.nn.Linear(drug_input_dim, output_dim)\n",
    "        \n",
    "#     def forward(self, drug_features, cell_line_features):\n",
    "#         drug_outputs = self.drug_linear(drug_features)\n",
    "#         cell_line_outputs = self.cell_line_linear(cell_line_features)\n",
    "        \n",
    "#         final_outputs = torch.mm(drug_outputs, cell_line_outputs.t())\n",
    "#         return final_outputs\n",
    "    \n",
    "#     def cl_outputs(self, cell_line_features):\n",
    "#         cell_line_outputs = self.cell_line_linear(cell_line_features)\n",
    "#         return cell_line_outputs\n",
    "#     def drug_outputs(self, drug_features):\n",
    "#         drug_outputs = self.drug_linear(drug_features)\n",
    "#         return drug_outputs\n",
    "\n",
    "class LinearMatrixFactorizationWithFeatures(torch.nn.Module):\n",
    "    def __init__(self, cell_line_input_dim, drug_input_dim, output_dim):\n",
    "        super(LinearMatrixFactorizationWithFeatures, self).__init__()\n",
    "        self.cell_line_linear = torch.nn.Linear(cell_line_input_dim, output_dim)\n",
    "        self.drug_linear = torch.nn.Linear(drug_input_dim, output_dim)\n",
    "        \n",
    "    def forward(self, drug_features, cell_line_features):\n",
    "        drug_outputs = self.drug_linear(drug_features)\n",
    "        cell_line_outputs = self.cell_line_linear(cell_line_features)\n",
    "        \n",
    "        final_outputs = torch.zeros(drug_outputs.shape[0])\n",
    "        for k in range(drug_outputs.shape[1]):\n",
    "            final_outputs = final_outputs + drug_outputs[:, k] * cell_line_outputs[:, k]\n",
    "            \n",
    "        # final_outputs = cell_line_outputs[:, 0]\n",
    "        return final_outputs\n",
    "    \n",
    "    def cl_outputs(self, cell_line_features):\n",
    "        cell_line_outputs = self.cell_line_linear(cell_line_features)\n",
    "        return cell_line_outputs\n",
    "    def drug_outputs(self, drug_features):\n",
    "        drug_outputs = self.drug_linear(drug_features)\n",
    "        return drug_outputs"
   ]
  },
  {
   "cell_type": "markdown",
   "metadata": {},
   "source": [
    "#### Dummy data without relationships (just to check if model does forward pass)"
   ]
  },
  {
   "cell_type": "code",
   "execution_count": 5,
   "metadata": {},
   "outputs": [
    {
     "name": "stdout",
     "output_type": "stream",
     "text": [
      "(1000, 10) (200, 5)\n"
     ]
    }
   ],
   "source": [
    "# Create random \"cell line\" data\n",
    "cell_line_data = np.random.uniform(0.0001, 3., size=(1000, 10))\n",
    "\n",
    "# Create random \"drug\" data\n",
    "N = 200 * 5\n",
    "K = 50   # How many ones\n",
    "\n",
    "drug_data = np.array([1] * K + [0] * (N-K))\n",
    "np.random.shuffle(drug_data)\n",
    "drug_data = drug_data.reshape(200, -1)\n",
    "# Make sure that every row in drug_data has at least one one\n",
    "for i in range(drug_data.shape[0]):\n",
    "    if drug_data[i].sum() == 0:\n",
    "        drug_data[i, np.random.randint(drug_data.shape[1])] = 1\n",
    "\n",
    "print(cell_line_data.shape, drug_data.shape)"
   ]
  },
  {
   "cell_type": "code",
   "execution_count": 6,
   "metadata": {},
   "outputs": [
    {
     "data": {
      "text/plain": [
       "LinearMatrixFactorizationWithFeatures(\n",
       "  (cell_line_linear): Linear(in_features=10, out_features=2, bias=True)\n",
       "  (drug_linear): Linear(in_features=5, out_features=2, bias=True)\n",
       ")"
      ]
     },
     "execution_count": 6,
     "metadata": {},
     "output_type": "execute_result"
    }
   ],
   "source": [
    "# Instantiate the model\n",
    "cell_line_dim = 10\n",
    "drug_dim = 5\n",
    "output_dim = 2\n",
    "\n",
    "model = LinearMatrixFactorizationWithFeatures(cell_line_dim, drug_dim, output_dim)\n",
    "# Display text representation of model\n",
    "model"
   ]
  },
  {
   "cell_type": "code",
   "execution_count": 7,
   "metadata": {},
   "outputs": [
    {
     "name": "stdout",
     "output_type": "stream",
     "text": [
      "torch.Size([2, 10])\n",
      "torch.Size([2])\n",
      "torch.Size([2, 5])\n",
      "torch.Size([2])\n",
      "\n",
      "Number of parameters (tensors): 4\n"
     ]
    }
   ],
   "source": [
    "# Print info about model parameters\n",
    "s = 0\n",
    "for param in model.parameters():\n",
    "    print(param.shape)\n",
    "    s += 1\n",
    "print()\n",
    "print(\"Number of parameters (tensors):\", s)"
   ]
  },
  {
   "cell_type": "code",
   "execution_count": 8,
   "metadata": {},
   "outputs": [
    {
     "name": "stdout",
     "output_type": "stream",
     "text": [
      "torch.float64 torch.int64\n"
     ]
    }
   ],
   "source": [
    "# Compute inputs for the model\n",
    "cell_line_input = Variable(torch.from_numpy(cell_line_data))\n",
    "drug_input = Variable(torch.from_numpy(drug_data))\n",
    "print(cell_line_input.dtype, drug_input.dtype)"
   ]
  },
  {
   "cell_type": "code",
   "execution_count": 9,
   "metadata": {},
   "outputs": [],
   "source": [
    "# Test forward passes for cell lines and drugs\n",
    "cl_outputs = model.cl_outputs(cell_line_input.float()[:16])\n",
    "drug_outputs = model.drug_outputs(drug_input.float()[:16])"
   ]
  },
  {
   "cell_type": "code",
   "execution_count": 10,
   "metadata": {},
   "outputs": [
    {
     "name": "stdout",
     "output_type": "stream",
     "text": [
      "torch.Size([16, 2]) torch.float32\n",
      "torch.Size([16, 2]) torch.float32\n"
     ]
    }
   ],
   "source": [
    "print(cl_outputs.shape, cl_outputs.dtype)\n",
    "print(drug_outputs.shape, drug_outputs.dtype)"
   ]
  },
  {
   "cell_type": "code",
   "execution_count": 11,
   "metadata": {},
   "outputs": [
    {
     "name": "stdout",
     "output_type": "stream",
     "text": [
      "torch.Size([10, 2]) torch.Size([5, 2])\n"
     ]
    }
   ],
   "source": [
    "A = cl_outputs[:10]\n",
    "B = drug_outputs[:5]\n",
    "print(A.shape, B.shape)"
   ]
  },
  {
   "cell_type": "code",
   "execution_count": 12,
   "metadata": {},
   "outputs": [
    {
     "name": "stdout",
     "output_type": "stream",
     "text": [
      "tensor([-0.2532,  0.3023], grad_fn=<SelectBackward>)\n",
      "tensor([0.1349, 0.0666], grad_fn=<SelectBackward>)\n",
      "tensor(-0.0140, grad_fn=<DotBackward>) -0.014005105942487717\n",
      "tensor([[-0.0140]], grad_fn=<MmBackward>) -0.014005105942487717\n"
     ]
    }
   ],
   "source": [
    "# Check out dot products and matrix multiplication of two vectors\n",
    "print(A[0])\n",
    "print(B[0])\n",
    "print(torch.dot(A[0], B[0]), torch.dot(A[0], B[0]).item())\n",
    "print(torch.mm(A[0].view(2, 1).t(), B[0].view(2, 1)),\n",
    "     torch.mm(A[0].view(2, 1).t(), B[0].view(2, 1)).item())"
   ]
  },
  {
   "cell_type": "code",
   "execution_count": 13,
   "metadata": {},
   "outputs": [
    {
     "name": "stdout",
     "output_type": "stream",
     "text": [
      "torch.Size([10, 2]) torch.Size([5, 2])\n",
      "torch.Size([5, 10])\n",
      "tensor([[-0.0140,  0.0341, -0.2181, -0.0821, -0.0998,  0.1758, -0.1272,  0.0640,\n",
      "         -0.0053, -0.1006],\n",
      "        [-0.0140,  0.0341, -0.2181, -0.0821, -0.0998,  0.1758, -0.1272,  0.0640,\n",
      "         -0.0053, -0.1006],\n",
      "        [ 0.0913,  0.1727, -0.1863, -0.0294, -0.0888,  0.2594,  0.1641,  0.1455,\n",
      "          0.2507,  0.1431],\n",
      "        [ 0.0913,  0.1727, -0.1863, -0.0294, -0.0888,  0.2594,  0.1641,  0.1455,\n",
      "          0.2507,  0.1431],\n",
      "        [-0.0140,  0.0341, -0.2181, -0.0821, -0.0998,  0.1758, -0.1272,  0.0640,\n",
      "         -0.0053, -0.1006]], grad_fn=<MmBackward>)\n"
     ]
    }
   ],
   "source": [
    "# Check out matrix multiplication\n",
    "print(A.shape, B.shape)\n",
    "print(torch.mm(B, A.t()).shape)\n",
    "print(torch.mm(B, A.t()))"
   ]
  },
  {
   "cell_type": "code",
   "execution_count": 14,
   "metadata": {},
   "outputs": [
    {
     "name": "stdout",
     "output_type": "stream",
     "text": [
      "tensor([-1.2043, -0.8345], grad_fn=<SelectBackward>) tensor([0.1349, 0.0666], grad_fn=<SelectBackward>)\n",
      "-0.21805094182491302\n",
      "-0.21805094182491302\n"
     ]
    }
   ],
   "source": [
    "# Check if entries in above matrix corresponds to dot products of corresponding cell line and\n",
    "# drug latent representations\n",
    "cl_idx = 2\n",
    "dr_idx = 4\n",
    "print(A[cl_idx], B[dr_idx])\n",
    "print(torch.dot(A[cl_idx], B[dr_idx]).item())\n",
    "print(torch.mm(B, A.t())[dr_idx, cl_idx].item())"
   ]
  },
  {
   "cell_type": "code",
   "execution_count": 15,
   "metadata": {},
   "outputs": [
    {
     "name": "stdout",
     "output_type": "stream",
     "text": [
      "torch.Size([4, 5]) torch.Size([4, 10])\n",
      "torch.Size([4])\n"
     ]
    }
   ],
   "source": [
    "# Check out if model does final forward passing\n",
    "drug_input = Variable(torch.from_numpy(drug_data)[:4])\n",
    "cell_line_input = Variable(torch.from_numpy(cell_line_data)[:4])\n",
    "print(drug_input.shape, cell_line_input.shape)\n",
    "\n",
    "sample_output = model(drug_input.float(), cell_line_input.float())\n",
    "print(sample_output.shape)"
   ]
  },
  {
   "cell_type": "code",
   "execution_count": 16,
   "metadata": {},
   "outputs": [
    {
     "data": {
      "text/plain": [
       "tensor([-0.0140,  0.0341, -0.1863, -0.0294], grad_fn=<AddBackward0>)"
      ]
     },
     "execution_count": 16,
     "metadata": {},
     "output_type": "execute_result"
    }
   ],
   "source": [
    "sample_output"
   ]
  },
  {
   "cell_type": "markdown",
   "metadata": {},
   "source": [
    "#### Try to train the model on dummy data"
   ]
  },
  {
   "cell_type": "code",
   "execution_count": 17,
   "metadata": {},
   "outputs": [
    {
     "name": "stdout",
     "output_type": "stream",
     "text": [
      "(10, 2) (10, 2)\n"
     ]
    }
   ],
   "source": [
    "# Generate dummy data\n",
    "cell_line_data = np.random.uniform(0.0001, 3., size=(10, 2))\n",
    "drug_data = np.random.random(size=(10, 2))\n",
    "\n",
    "A = np.array([[2, 3],\n",
    "             [1, 1]])\n",
    "cell_line_outputs = cell_line_data @ A\n",
    "drug_outputs = drug_data @ A\n",
    "\n",
    "print(drug_outputs.shape, cell_line_outputs.shape)\n",
    "\n",
    "final_output = drug_outputs @ cell_line_outputs.T"
   ]
  },
  {
   "cell_type": "code",
   "execution_count": 18,
   "metadata": {},
   "outputs": [
    {
     "name": "stdout",
     "output_type": "stream",
     "text": [
      "(100, 3)\n"
     ]
    },
    {
     "data": {
      "text/html": [
       "<div>\n",
       "<style scoped>\n",
       "    .dataframe tbody tr th:only-of-type {\n",
       "        vertical-align: middle;\n",
       "    }\n",
       "\n",
       "    .dataframe tbody tr th {\n",
       "        vertical-align: top;\n",
       "    }\n",
       "\n",
       "    .dataframe thead th {\n",
       "        text-align: right;\n",
       "    }\n",
       "</style>\n",
       "<table border=\"1\" class=\"dataframe\">\n",
       "  <thead>\n",
       "    <tr style=\"text-align: right;\">\n",
       "      <th></th>\n",
       "      <th>drug_id</th>\n",
       "      <th>cell_line_id</th>\n",
       "      <th>AUC</th>\n",
       "    </tr>\n",
       "  </thead>\n",
       "  <tbody>\n",
       "    <tr>\n",
       "      <th>65</th>\n",
       "      <td>6</td>\n",
       "      <td>5</td>\n",
       "      <td>41.649413</td>\n",
       "    </tr>\n",
       "    <tr>\n",
       "      <th>35</th>\n",
       "      <td>3</td>\n",
       "      <td>5</td>\n",
       "      <td>46.334148</td>\n",
       "    </tr>\n",
       "    <tr>\n",
       "      <th>89</th>\n",
       "      <td>8</td>\n",
       "      <td>9</td>\n",
       "      <td>18.680281</td>\n",
       "    </tr>\n",
       "  </tbody>\n",
       "</table>\n",
       "</div>"
      ],
      "text/plain": [
       "    drug_id  cell_line_id        AUC\n",
       "65        6             5  41.649413\n",
       "35        3             5  46.334148\n",
       "89        8             9  18.680281"
      ]
     },
     "execution_count": 18,
     "metadata": {},
     "output_type": "execute_result"
    }
   ],
   "source": [
    "# Create response data\n",
    "ys = []\n",
    "drug_ids = []\n",
    "cell_line_ids = []\n",
    "for drug in range(final_output.shape[0]):\n",
    "    for cl in range(final_output.shape[1]):\n",
    "        drug_ids.append(drug)\n",
    "        cell_line_ids.append(cl)\n",
    "        ys.append(final_output[drug, cl])\n",
    "        \n",
    "response_df = pd.DataFrame({\"drug_id\": drug_ids,\n",
    "                           \"cell_line_id\": cell_line_ids,\n",
    "                           \"AUC\": ys})\n",
    "print(response_df.shape)\n",
    "response_df.sample(3)"
   ]
  },
  {
   "cell_type": "code",
   "execution_count": 19,
   "metadata": {},
   "outputs": [
    {
     "name": "stdout",
     "output_type": "stream",
     "text": [
      "[[20.82548137]]\n"
     ]
    }
   ],
   "source": [
    "drug_output = drug_data[3:4] @ A\n",
    "cl_output = cell_line_data[2:3] @ A\n",
    "print(drug_output @ cl_output.T)"
   ]
  },
  {
   "cell_type": "code",
   "execution_count": 20,
   "metadata": {},
   "outputs": [
    {
     "data": {
      "text/plain": [
       "LinearMatrixFactorizationWithFeatures(\n",
       "  (cell_line_linear): Linear(in_features=2, out_features=2, bias=True)\n",
       "  (drug_linear): Linear(in_features=2, out_features=2, bias=True)\n",
       ")"
      ]
     },
     "execution_count": 20,
     "metadata": {},
     "output_type": "execute_result"
    }
   ],
   "source": [
    "# Specify hyperparameters\n",
    "drug_dim = 2\n",
    "cell_line_dim = 2\n",
    "output_dim = 2\n",
    "\n",
    "\n",
    "learning_rate = 0.001\n",
    "epochs = 100\n",
    "output_dim = 2\n",
    "batch_size = 8\n",
    "no_batches = response_df.shape[0] // batch_size\n",
    "\n",
    "model = LinearMatrixFactorizationWithFeatures(cell_line_dim, drug_dim, output_dim)\n",
    "\n",
    "# Define loss function and optimizer\n",
    "criterion = torch.nn.MSELoss()\n",
    "optimizer = torch.optim.SGD(model.parameters(), lr=learning_rate)\n",
    "\n",
    "\n",
    "# Display text representation of model\n",
    "model"
   ]
  },
  {
   "cell_type": "code",
   "execution_count": 21,
   "metadata": {},
   "outputs": [
    {
     "name": "stdout",
     "output_type": "stream",
     "text": [
      "Parameter containing:\n",
      "tensor([[ 0.1687, -0.3713],\n",
      "        [ 0.2256, -0.5032]], requires_grad=True)\n",
      "Parameter containing:\n",
      "tensor([ 0.2329, -0.5745], requires_grad=True)\n",
      "Parameter containing:\n",
      "tensor([[-0.4617, -0.2961],\n",
      "        [ 0.1023,  0.6634]], requires_grad=True)\n",
      "Parameter containing:\n",
      "tensor([-0.5961,  0.1589], requires_grad=True)\n"
     ]
    }
   ],
   "source": [
    "for p in model.parameters():\n",
    "    print(p)"
   ]
  },
  {
   "cell_type": "code",
   "execution_count": 22,
   "metadata": {},
   "outputs": [
    {
     "name": "stdout",
     "output_type": "stream",
     "text": [
      "Epoch 1, loss: 118.536\n",
      "Epoch 2, loss: 2.768\n",
      "Epoch 3, loss: 2.241\n",
      "Epoch 4, loss: 1.723\n",
      "Epoch 5, loss: 1.346\n",
      "Epoch 6, loss: 1.080\n",
      "Epoch 7, loss: 0.897\n",
      "Epoch 8, loss: 0.777\n",
      "Epoch 9, loss: 0.704\n",
      "Epoch 10, loss: 0.664\n",
      "Epoch 11, loss: 0.647\n",
      "Epoch 12, loss: 0.645\n",
      "Epoch 13, loss: 0.651\n",
      "Epoch 14, loss: 0.661\n",
      "Epoch 15, loss: 0.670\n",
      "Epoch 16, loss: 0.675\n",
      "Epoch 17, loss: 0.676\n",
      "Epoch 18, loss: 0.671\n",
      "Epoch 19, loss: 0.660\n",
      "Epoch 20, loss: 0.643\n",
      "Epoch 21, loss: 0.622\n",
      "Epoch 22, loss: 0.595\n",
      "Epoch 23, loss: 0.566\n",
      "Epoch 24, loss: 0.534\n",
      "Epoch 25, loss: 0.501\n",
      "Epoch 26, loss: 0.467\n",
      "Epoch 27, loss: 0.433\n",
      "Epoch 28, loss: 0.399\n",
      "Epoch 29, loss: 0.367\n",
      "Epoch 30, loss: 0.337\n",
      "Epoch 31, loss: 0.308\n",
      "Epoch 32, loss: 0.281\n",
      "Epoch 33, loss: 0.256\n",
      "Epoch 34, loss: 0.233\n",
      "Epoch 35, loss: 0.213\n",
      "Epoch 36, loss: 0.194\n",
      "Epoch 37, loss: 0.176\n",
      "Epoch 38, loss: 0.161\n",
      "Epoch 39, loss: 0.147\n",
      "Epoch 40, loss: 0.134\n",
      "Epoch 41, loss: 0.123\n",
      "Epoch 42, loss: 0.113\n",
      "Epoch 43, loss: 0.104\n",
      "Epoch 44, loss: 0.095\n",
      "Epoch 45, loss: 0.088\n",
      "Epoch 46, loss: 0.082\n",
      "Epoch 47, loss: 0.076\n",
      "Epoch 48, loss: 0.070\n",
      "Epoch 49, loss: 0.066\n",
      "Epoch 50, loss: 0.061\n",
      "Epoch 51, loss: 0.057\n",
      "Epoch 52, loss: 0.054\n",
      "Epoch 53, loss: 0.051\n",
      "Epoch 54, loss: 0.048\n",
      "Epoch 55, loss: 0.045\n",
      "Epoch 56, loss: 0.043\n",
      "Epoch 57, loss: 0.040\n",
      "Epoch 58, loss: 0.038\n",
      "Epoch 59, loss: 0.037\n",
      "Epoch 60, loss: 0.035\n",
      "Epoch 61, loss: 0.033\n",
      "Epoch 62, loss: 0.032\n",
      "Epoch 63, loss: 0.030\n",
      "Epoch 64, loss: 0.029\n",
      "Epoch 65, loss: 0.028\n",
      "Epoch 66, loss: 0.027\n",
      "Epoch 67, loss: 0.026\n",
      "Epoch 68, loss: 0.025\n",
      "Epoch 69, loss: 0.024\n",
      "Epoch 70, loss: 0.023\n",
      "Epoch 71, loss: 0.022\n",
      "Epoch 72, loss: 0.022\n",
      "Epoch 73, loss: 0.021\n",
      "Epoch 74, loss: 0.020\n",
      "Epoch 75, loss: 0.020\n",
      "Epoch 76, loss: 0.019\n",
      "Epoch 77, loss: 0.019\n",
      "Epoch 78, loss: 0.018\n",
      "Epoch 79, loss: 0.018\n",
      "Epoch 80, loss: 0.017\n",
      "Epoch 81, loss: 0.017\n",
      "Epoch 82, loss: 0.017\n",
      "Epoch 83, loss: 0.016\n",
      "Epoch 84, loss: 0.016\n",
      "Epoch 85, loss: 0.016\n",
      "Epoch 86, loss: 0.015\n",
      "Epoch 87, loss: 0.015\n",
      "Epoch 88, loss: 0.015\n",
      "Epoch 89, loss: 0.015\n",
      "Epoch 90, loss: 0.014\n",
      "Epoch 91, loss: 0.014\n",
      "Epoch 92, loss: 0.014\n",
      "Epoch 93, loss: 0.014\n",
      "Epoch 94, loss: 0.013\n",
      "Epoch 95, loss: 0.013\n",
      "Epoch 96, loss: 0.013\n",
      "Epoch 97, loss: 0.013\n",
      "Epoch 98, loss: 0.013\n",
      "Epoch 99, loss: 0.013\n",
      "Epoch 100, loss: 0.013\n"
     ]
    }
   ],
   "source": [
    "# Training the model\n",
    "for epoch in range(epochs):\n",
    "    for batch in range(no_batches):\n",
    "        # Separate response variable batch\n",
    "        response_batch = response_df.iloc[batch * batch_size:(batch + 1) * batch_size]\n",
    "        \n",
    "        # Extract output variable batch\n",
    "        y_batch = Variable(torch.from_numpy(response_batch[\"AUC\"].values))\n",
    "        \n",
    "        # Extract cell lines IDs for which data shall be extracted\n",
    "        cl_ids = response_batch[\"cell_line_id\"].values\n",
    "        # Extract corresponding cell line data\n",
    "        cell_line_input_batch = Variable(torch.from_numpy(cell_line_data[cl_ids]))\n",
    "        \n",
    "        # Extract drug IDs for which data shall be extracted\n",
    "        drug_ids = response_batch[\"drug_id\"].values\n",
    "        # Extract corresponding drug data\n",
    "        drug_input_batch = Variable(torch.from_numpy(drug_data[drug_ids]))\n",
    "        \n",
    "        # Clear gradient buffers because we don't want any gradient from previous epoch to carry forward, \n",
    "        # dont want to cummulate gradients\n",
    "        optimizer.zero_grad()\n",
    "        \n",
    "        # Perform forward pass\n",
    "        batch_output = model(drug_input_batch.float(), cell_line_input_batch.float())\n",
    "        # Compute the loss for this batch\n",
    "        loss = criterion(batch_output, y_batch.float())\n",
    "        # Get the gradients w.r.t. the parameters\n",
    "        loss.backward()\n",
    "        # Update the parameters\n",
    "        optimizer.step()\n",
    "        \n",
    "    print(\"Epoch {}, loss: {:.3f}\".format(epoch + 1, loss.item()))"
   ]
  },
  {
   "cell_type": "code",
   "execution_count": 23,
   "metadata": {},
   "outputs": [
    {
     "name": "stdout",
     "output_type": "stream",
     "text": [
      "Parameter containing:\n",
      "tensor([[-3.2435, -1.5444],\n",
      "        [ 1.3535, -0.0942]], requires_grad=True)\n",
      "Parameter containing:\n",
      "tensor([-0.2629, -0.4530], requires_grad=True)\n",
      "Parameter containing:\n",
      "tensor([[-3.4650, -1.2164],\n",
      "        [ 0.9629,  0.9375]], requires_grad=True)\n",
      "Parameter containing:\n",
      "tensor([0.0326, 0.1548], requires_grad=True)\n"
     ]
    }
   ],
   "source": [
    "for p in model.parameters():\n",
    "    print(p)"
   ]
  },
  {
   "cell_type": "code",
   "execution_count": 24,
   "metadata": {},
   "outputs": [
    {
     "data": {
      "text/html": [
       "<div>\n",
       "<style scoped>\n",
       "    .dataframe tbody tr th:only-of-type {\n",
       "        vertical-align: middle;\n",
       "    }\n",
       "\n",
       "    .dataframe tbody tr th {\n",
       "        vertical-align: top;\n",
       "    }\n",
       "\n",
       "    .dataframe thead th {\n",
       "        text-align: right;\n",
       "    }\n",
       "</style>\n",
       "<table border=\"1\" class=\"dataframe\">\n",
       "  <thead>\n",
       "    <tr style=\"text-align: right;\">\n",
       "      <th></th>\n",
       "      <th>drug_id</th>\n",
       "      <th>cell_line_id</th>\n",
       "      <th>AUC</th>\n",
       "    </tr>\n",
       "  </thead>\n",
       "  <tbody>\n",
       "    <tr>\n",
       "      <th>80</th>\n",
       "      <td>8</td>\n",
       "      <td>0</td>\n",
       "      <td>29.180183</td>\n",
       "    </tr>\n",
       "    <tr>\n",
       "      <th>57</th>\n",
       "      <td>5</td>\n",
       "      <td>7</td>\n",
       "      <td>13.046979</td>\n",
       "    </tr>\n",
       "  </tbody>\n",
       "</table>\n",
       "</div>"
      ],
      "text/plain": [
       "    drug_id  cell_line_id        AUC\n",
       "80        8             0  29.180183\n",
       "57        5             7  13.046979"
      ]
     },
     "execution_count": 24,
     "metadata": {},
     "output_type": "execute_result"
    }
   ],
   "source": [
    "response_df.sample(2)"
   ]
  },
  {
   "cell_type": "code",
   "execution_count": 25,
   "metadata": {},
   "outputs": [
    {
     "name": "stdout",
     "output_type": "stream",
     "text": [
      "tensor([39.4780])\n"
     ]
    }
   ],
   "source": [
    "# Testing\n",
    "with torch.no_grad(): # We don't need gradients in the testing phase\n",
    "    prediction = model(Variable(torch.from_numpy(drug_data[0:1])).float(), \n",
    "                       Variable(torch.from_numpy(cell_line_data[0:1])).float())\n",
    "print(prediction)"
   ]
  },
  {
   "cell_type": "markdown",
   "metadata": {},
   "source": [
    "## Model prototyping on GDSCv2 data\n",
    "Try to run the model on real data"
   ]
  },
  {
   "cell_type": "markdown",
   "metadata": {},
   "source": [
    "#### Classes and model definition"
   ]
  },
  {
   "cell_type": "code",
   "execution_count": 4,
   "metadata": {},
   "outputs": [],
   "source": [
    "# Classes and functions for data extraction\n",
    "class CellLine(object):\n",
    "    \"\"\"Basic, parent class representing cell line regradless of data source\"\"\"\n",
    "    def __init__(self, cell_line_name, cell_line_id, data_source):\n",
    "        self.name = cell_line_name\n",
    "        self.id = cell_line_id\n",
    "        self.data_source = data_source\n",
    "\n",
    "class Drug(object):\n",
    "    def __init__(self, drug_name, drug_id, data_source):\n",
    "        self.name = drug_name\n",
    "        self.id = drug_id\n",
    "        self.data_source = data_source\n",
    "        \n",
    "class CellLineGDSCv2(CellLine):\n",
    "    \"\"\"Class representing single cell line in GDSCv2\"\"\"\n",
    "    def __init__(self, cell_line_name, cell_line_id):\n",
    "        super().__init__(cell_line_name, cell_line_id, \"GDSCv2\")\n",
    "    def extract_full_gene_expression_data(self, gene_expression_df):\n",
    "        \"\"\"Extract gene expressions of all available genes\"\"\"\n",
    "        # Just extract column corresponding to the cell line COSMIC ID\n",
    "        if str(self.id) in gene_expression_df.columns:\n",
    "            return gene_expression_df[str(self.id)]\n",
    "        else:\n",
    "            raise KeyError(\"Cell line ID not present in gene expression data\")\n",
    "            \n",
    "class DrugGDSCv2(Drug):\n",
    "    \"\"\"Class representing single drug in GDSCv2\"\"\"\n",
    "    def __init__(self, drug_name, drug_id, targets):\n",
    "        super().__init__(drug_name, drug_id, \"GDSCv2\")\n",
    "        self.targets = targets\n",
    "        \n",
    "    def extract_binary_targets_vector(self, drug_response_df):\n",
    "        \"\"\"Extract binary targets vector using just data from GDSCv2, meaning sparse vector of \n",
    "        length [all unique putative targets of GDSCv2 drugs] where 1 indicates presence of a \n",
    "        given gene target\n",
    "        \"\"\"\n",
    "        all_targets = []\n",
    "        for targets in drug_response_df[\"PUTATIVE_TARGET\"].unique():\n",
    "            all_targets = all_targets + targets.split(\", \")\n",
    "        all_targets = set(all_targets)\n",
    "        return [1 if x in self.targets else 0 for x in all_targets]\n",
    "    \n",
    "class CellLinesDataGDSCv2(object):\n",
    "    @staticmethod\n",
    "    def extract_full_gene_expresson_data(gene_expression_df):\n",
    "        df = gene_expression_df.transpose()\n",
    "        df.columns = df.loc[\"ensembl_gene\"].values\n",
    "        df = df.drop(\"ensembl_gene\")\n",
    "        df.insert(0, \"cosmic_id\", df.index)\n",
    "        # Drop cell lines with strange IDs\n",
    "        df = df.drop([\"1503362.1\", \"1330983.1\", \"909976.1\", \"905954.1\"])\n",
    "        df.index = df.index.map(int)\n",
    "        return df.apply(pd.to_numeric)\n",
    "\n",
    "\n",
    "class DrugsDataGDSCv2(object):\n",
    "    @staticmethod\n",
    "    def extract_binary_targets_vectors(drug_response_df, drug_list=None):\n",
    "        \"\"\"Extract binary targets vectors for all specified drugs using just data from GDSCv2, meaning \n",
    "        sparse vectors of length [all unique putative targets of specified drugs] where 1 indicates presence \n",
    "        of a given gene target.\"\"\"\n",
    "        # Compute the set of all considered targets\n",
    "        all_targets = []\n",
    "        if drug_list:\n",
    "            for targets in drug_response_df[\n",
    "                drug_response_df[\"DRUG_ID\"].isin(drug_list)][\"PUTATIVE_TARGET\"].unique():\n",
    "                all_targets = all_targets + targets.split(\", \")\n",
    "        else:\n",
    "            for targets in drug_response_df[\"PUTATIVE_TARGET\"].unique():\n",
    "                all_targets = all_targets + targets.split(\", \")\n",
    "        all_targets = list(set(all_targets))\n",
    "        \n",
    "        # Initialize DataFrame containing binary vectors for drugs\n",
    "        columns=[\"drug_id\", \"drug_name\"] + all_targets\n",
    "        df = pd.DataFrame(columns=columns)\n",
    "        # Now iterate over drugs and create binary target vector for each of them\n",
    "        if drug_list:\n",
    "            for drug_id in drug_list:\n",
    "                drug_name = drug_response_df[\n",
    "                    drug_response_df[\"DRUG_ID\"] == drug_id][\"DRUG_NAME\"].iloc[0]\n",
    "                drug_targets = drug_response_df[\n",
    "                    drug_response_df[\"DRUG_ID\"] == drug_id][\"PUTATIVE_TARGET\"].iloc[0].split(\", \")\n",
    "                # Create binary target vector for this drug\n",
    "                binary_targets = [1 if x in drug_targets else 0 for x in all_targets]\n",
    "                row = pd.Series([drug_id, drug_name] + binary_targets, index=columns)\n",
    "                df = df.append(row, ignore_index=True)\n",
    "        else:\n",
    "            for drug_id in drug_response_df[\"DRUG_ID\"].unique():\n",
    "                drug_name = drug_response_df[\n",
    "                    drug_response_df[\"DRUG_ID\"] == drug_id][\"DRUG_NAME\"].iloc[0]\n",
    "                drug_targets = drug_response_df[\n",
    "                    drug_response_df[\"DRUG_ID\"] == drug_id][\"PUTATIVE_TARGET\"].iloc[0].split(\", \")\n",
    "                # Create binary target vector for this drug\n",
    "                binary_targets = [1 if x in drug_targets else 0 for x in all_targets]\n",
    "                row = pd.Series([drug_id, drug_name] + binary_targets, index=columns)\n",
    "                df = df.append(row, ignore_index=True)\n",
    "        df.index = df[\"drug_id\"]\n",
    "        df[df.columns[2:]] = df[df.columns[2:]].apply(pd.to_numeric)\n",
    "        df[\"drug_id\"] = df[\"drug_id\"].astype(int)\n",
    "        return df\n",
    "    \n",
    "def evaluate_predictions(y_true, preds):\n",
    "    \"\"\"Compute RMSE and correlation with true values for model predictions\"\"\"\n",
    "    print(\"RMSE:\", metrics.mean_squared_error(y_true, preds) ** 0.5)\n",
    "    print(\"Correlation:\", pearsonr(y_true, preds))"
   ]
  },
  {
   "cell_type": "code",
   "execution_count": 5,
   "metadata": {},
   "outputs": [],
   "source": [
    "# Model definition\n",
    "class LinearMatrixFactorizationWithFeatures(torch.nn.Module):\n",
    "    def __init__(self, drug_input_dim, cell_line_input_dim, output_dim, \n",
    "                 out_activation_func=None,\n",
    "                 drug_bias=True,\n",
    "                 cell_line_bias=True):\n",
    "        super(LinearMatrixFactorizationWithFeatures, self).__init__()\n",
    "        self.drug_linear = torch.nn.Linear(drug_input_dim, output_dim, bias=drug_bias)\n",
    "        self.cell_line_linear = torch.nn.Linear(cell_line_input_dim, output_dim, bias=cell_line_bias)\n",
    "        self.out_activation = out_activation_func\n",
    "        \n",
    "    def forward(self, drug_features, cell_line_features):\n",
    "        drug_outputs = self.drug_linear(drug_features)\n",
    "        cell_line_outputs = self.cell_line_linear(cell_line_features)\n",
    "        \n",
    "        final_outputs = torch.zeros(drug_outputs.shape[0])\n",
    "        for k in range(drug_outputs.shape[1]):\n",
    "            final_outputs = final_outputs + drug_outputs[:, k] * cell_line_outputs[:, k]\n",
    "        if self.out_activation:\n",
    "            return self.out_activation(final_outputs)\n",
    "        return final_outputs"
   ]
  },
  {
   "cell_type": "markdown",
   "metadata": {},
   "source": [
    "#### Try to train the model on real data"
   ]
  },
  {
   "cell_type": "markdown",
   "metadata": {},
   "source": [
    "Compute cell line and drug features (gene expression and binary targets vectors) and response variable"
   ]
  },
  {
   "cell_type": "code",
   "execution_count": 6,
   "metadata": {},
   "outputs": [
    {
     "name": "stdout",
     "output_type": "stream",
     "text": [
      "(1014, 17738)\n"
     ]
    },
    {
     "data": {
      "text/html": [
       "<div>\n",
       "<style scoped>\n",
       "    .dataframe tbody tr th:only-of-type {\n",
       "        vertical-align: middle;\n",
       "    }\n",
       "\n",
       "    .dataframe tbody tr th {\n",
       "        vertical-align: top;\n",
       "    }\n",
       "\n",
       "    .dataframe thead th {\n",
       "        text-align: right;\n",
       "    }\n",
       "</style>\n",
       "<table border=\"1\" class=\"dataframe\">\n",
       "  <thead>\n",
       "    <tr style=\"text-align: right;\">\n",
       "      <th></th>\n",
       "      <th>cosmic_id</th>\n",
       "      <th>ENSG00000000003</th>\n",
       "      <th>ENSG00000000005</th>\n",
       "      <th>ENSG00000000419</th>\n",
       "      <th>ENSG00000000457</th>\n",
       "      <th>ENSG00000000460</th>\n",
       "      <th>ENSG00000000938</th>\n",
       "      <th>ENSG00000000971</th>\n",
       "      <th>ENSG00000001036</th>\n",
       "      <th>ENSG00000001084</th>\n",
       "      <th>...</th>\n",
       "      <th>ENSG00000264575</th>\n",
       "      <th>ENSG00000265060</th>\n",
       "      <th>ENSG00000265246</th>\n",
       "      <th>ENSG00000265298</th>\n",
       "      <th>ENSG00000265480</th>\n",
       "      <th>ENSG00000265929</th>\n",
       "      <th>ENSG00000266066</th>\n",
       "      <th>ENSG00000266282</th>\n",
       "      <th>ENSG00000266433</th>\n",
       "      <th>ENSG00000266753</th>\n",
       "    </tr>\n",
       "  </thead>\n",
       "  <tbody>\n",
       "    <tr>\n",
       "      <th>906826</th>\n",
       "      <td>906826</td>\n",
       "      <td>7.632023</td>\n",
       "      <td>2.964585</td>\n",
       "      <td>10.379553</td>\n",
       "      <td>3.614794</td>\n",
       "      <td>3.380681</td>\n",
       "      <td>3.324692</td>\n",
       "      <td>3.566350</td>\n",
       "      <td>8.204530</td>\n",
       "      <td>5.235118</td>\n",
       "      <td>...</td>\n",
       "      <td>6.786925</td>\n",
       "      <td>2.997054</td>\n",
       "      <td>3.109774</td>\n",
       "      <td>7.882377</td>\n",
       "      <td>3.331134</td>\n",
       "      <td>2.852537</td>\n",
       "      <td>3.130696</td>\n",
       "      <td>9.986616</td>\n",
       "      <td>3.073724</td>\n",
       "      <td>7.284733</td>\n",
       "    </tr>\n",
       "    <tr>\n",
       "      <th>687983</th>\n",
       "      <td>687983</td>\n",
       "      <td>7.548671</td>\n",
       "      <td>2.777716</td>\n",
       "      <td>11.807341</td>\n",
       "      <td>4.066887</td>\n",
       "      <td>3.732485</td>\n",
       "      <td>3.152404</td>\n",
       "      <td>7.827172</td>\n",
       "      <td>6.616972</td>\n",
       "      <td>5.809264</td>\n",
       "      <td>...</td>\n",
       "      <td>5.317911</td>\n",
       "      <td>3.263745</td>\n",
       "      <td>3.059424</td>\n",
       "      <td>8.681302</td>\n",
       "      <td>2.992611</td>\n",
       "      <td>2.776771</td>\n",
       "      <td>3.260982</td>\n",
       "      <td>9.002814</td>\n",
       "      <td>3.000182</td>\n",
       "      <td>8.504804</td>\n",
       "    </tr>\n",
       "    <tr>\n",
       "      <th>910927</th>\n",
       "      <td>910927</td>\n",
       "      <td>8.712338</td>\n",
       "      <td>2.643508</td>\n",
       "      <td>9.880733</td>\n",
       "      <td>3.956230</td>\n",
       "      <td>3.236620</td>\n",
       "      <td>3.241246</td>\n",
       "      <td>2.931034</td>\n",
       "      <td>8.191246</td>\n",
       "      <td>5.426841</td>\n",
       "      <td>...</td>\n",
       "      <td>3.143006</td>\n",
       "      <td>3.112145</td>\n",
       "      <td>2.930254</td>\n",
       "      <td>8.707886</td>\n",
       "      <td>2.886574</td>\n",
       "      <td>2.685307</td>\n",
       "      <td>3.176239</td>\n",
       "      <td>9.113243</td>\n",
       "      <td>2.916274</td>\n",
       "      <td>7.059092</td>\n",
       "    </tr>\n",
       "  </tbody>\n",
       "</table>\n",
       "<p>3 rows × 17738 columns</p>\n",
       "</div>"
      ],
      "text/plain": [
       "        cosmic_id  ENSG00000000003  ENSG00000000005  ENSG00000000419  \\\n",
       "906826     906826         7.632023         2.964585        10.379553   \n",
       "687983     687983         7.548671         2.777716        11.807341   \n",
       "910927     910927         8.712338         2.643508         9.880733   \n",
       "\n",
       "        ENSG00000000457  ENSG00000000460  ENSG00000000938  ENSG00000000971  \\\n",
       "906826         3.614794         3.380681         3.324692         3.566350   \n",
       "687983         4.066887         3.732485         3.152404         7.827172   \n",
       "910927         3.956230         3.236620         3.241246         2.931034   \n",
       "\n",
       "        ENSG00000001036  ENSG00000001084       ...         ENSG00000264575  \\\n",
       "906826         8.204530         5.235118       ...                6.786925   \n",
       "687983         6.616972         5.809264       ...                5.317911   \n",
       "910927         8.191246         5.426841       ...                3.143006   \n",
       "\n",
       "        ENSG00000265060  ENSG00000265246  ENSG00000265298  ENSG00000265480  \\\n",
       "906826         2.997054         3.109774         7.882377         3.331134   \n",
       "687983         3.263745         3.059424         8.681302         2.992611   \n",
       "910927         3.112145         2.930254         8.707886         2.886574   \n",
       "\n",
       "        ENSG00000265929  ENSG00000266066  ENSG00000266282  ENSG00000266433  \\\n",
       "906826         2.852537         3.130696         9.986616         3.073724   \n",
       "687983         2.776771         3.260982         9.002814         3.000182   \n",
       "910927         2.685307         3.176239         9.113243         2.916274   \n",
       "\n",
       "        ENSG00000266753  \n",
       "906826         7.284733  \n",
       "687983         8.504804  \n",
       "910927         7.059092  \n",
       "\n",
       "[3 rows x 17738 columns]"
      ]
     },
     "execution_count": 6,
     "metadata": {},
     "output_type": "execute_result"
    }
   ],
   "source": [
    "# Compute cell line and drug features (gene expression and binary targets vectors)\n",
    "# Cell line data\n",
    "cell_line_data_df = CellLinesDataGDSCv2.extract_full_gene_expresson_data(gene_expression_df)\n",
    "print(cell_line_data_df.shape)\n",
    "cell_line_data_df.head(3)"
   ]
  },
  {
   "cell_type": "code",
   "execution_count": 7,
   "metadata": {},
   "outputs": [
    {
     "name": "stdout",
     "output_type": "stream",
     "text": [
      "(266, 240)\n"
     ]
    },
    {
     "data": {
      "text/html": [
       "<div>\n",
       "<style scoped>\n",
       "    .dataframe tbody tr th:only-of-type {\n",
       "        vertical-align: middle;\n",
       "    }\n",
       "\n",
       "    .dataframe tbody tr th {\n",
       "        vertical-align: top;\n",
       "    }\n",
       "\n",
       "    .dataframe thead th {\n",
       "        text-align: right;\n",
       "    }\n",
       "</style>\n",
       "<table border=\"1\" class=\"dataframe\">\n",
       "  <thead>\n",
       "    <tr style=\"text-align: right;\">\n",
       "      <th></th>\n",
       "      <th>drug_id</th>\n",
       "      <th>drug_name</th>\n",
       "      <th>TRCB</th>\n",
       "      <th>others</th>\n",
       "      <th>AKT2</th>\n",
       "      <th>not defined</th>\n",
       "      <th>PARP2</th>\n",
       "      <th>ABL(T315I)</th>\n",
       "      <th>EPHB4</th>\n",
       "      <th>BCL2</th>\n",
       "      <th>...</th>\n",
       "      <th>TIE2,AXL</th>\n",
       "      <th>MAP4K2</th>\n",
       "      <th>BRD2</th>\n",
       "      <th>JNK</th>\n",
       "      <th>RAF</th>\n",
       "      <th>Dihydrofolate reductase (DHFR)</th>\n",
       "      <th>CDK4</th>\n",
       "      <th>TRAIL receptor agonist</th>\n",
       "      <th>ROCK</th>\n",
       "      <th>dsDNA break induction</th>\n",
       "    </tr>\n",
       "    <tr>\n",
       "      <th>drug_id</th>\n",
       "      <th></th>\n",
       "      <th></th>\n",
       "      <th></th>\n",
       "      <th></th>\n",
       "      <th></th>\n",
       "      <th></th>\n",
       "      <th></th>\n",
       "      <th></th>\n",
       "      <th></th>\n",
       "      <th></th>\n",
       "      <th></th>\n",
       "      <th></th>\n",
       "      <th></th>\n",
       "      <th></th>\n",
       "      <th></th>\n",
       "      <th></th>\n",
       "      <th></th>\n",
       "      <th></th>\n",
       "      <th></th>\n",
       "      <th></th>\n",
       "      <th></th>\n",
       "    </tr>\n",
       "  </thead>\n",
       "  <tbody>\n",
       "    <tr>\n",
       "      <th>1</th>\n",
       "      <td>1</td>\n",
       "      <td>Erlotinib</td>\n",
       "      <td>0</td>\n",
       "      <td>0</td>\n",
       "      <td>0</td>\n",
       "      <td>0</td>\n",
       "      <td>0</td>\n",
       "      <td>0</td>\n",
       "      <td>0</td>\n",
       "      <td>0</td>\n",
       "      <td>...</td>\n",
       "      <td>0</td>\n",
       "      <td>0</td>\n",
       "      <td>0</td>\n",
       "      <td>0</td>\n",
       "      <td>0</td>\n",
       "      <td>0</td>\n",
       "      <td>0</td>\n",
       "      <td>0</td>\n",
       "      <td>0</td>\n",
       "      <td>0</td>\n",
       "    </tr>\n",
       "    <tr>\n",
       "      <th>3</th>\n",
       "      <td>3</td>\n",
       "      <td>Rapamycin</td>\n",
       "      <td>0</td>\n",
       "      <td>0</td>\n",
       "      <td>0</td>\n",
       "      <td>0</td>\n",
       "      <td>0</td>\n",
       "      <td>0</td>\n",
       "      <td>0</td>\n",
       "      <td>0</td>\n",
       "      <td>...</td>\n",
       "      <td>0</td>\n",
       "      <td>0</td>\n",
       "      <td>0</td>\n",
       "      <td>0</td>\n",
       "      <td>0</td>\n",
       "      <td>0</td>\n",
       "      <td>0</td>\n",
       "      <td>0</td>\n",
       "      <td>0</td>\n",
       "      <td>0</td>\n",
       "    </tr>\n",
       "    <tr>\n",
       "      <th>5</th>\n",
       "      <td>5</td>\n",
       "      <td>Sunitinib</td>\n",
       "      <td>0</td>\n",
       "      <td>0</td>\n",
       "      <td>0</td>\n",
       "      <td>0</td>\n",
       "      <td>0</td>\n",
       "      <td>0</td>\n",
       "      <td>0</td>\n",
       "      <td>0</td>\n",
       "      <td>...</td>\n",
       "      <td>0</td>\n",
       "      <td>0</td>\n",
       "      <td>0</td>\n",
       "      <td>0</td>\n",
       "      <td>0</td>\n",
       "      <td>0</td>\n",
       "      <td>0</td>\n",
       "      <td>0</td>\n",
       "      <td>0</td>\n",
       "      <td>0</td>\n",
       "    </tr>\n",
       "  </tbody>\n",
       "</table>\n",
       "<p>3 rows × 240 columns</p>\n",
       "</div>"
      ],
      "text/plain": [
       "         drug_id  drug_name  TRCB  others  AKT2  not defined  PARP2  \\\n",
       "drug_id                                                               \n",
       "1              1  Erlotinib     0       0     0            0      0   \n",
       "3              3  Rapamycin     0       0     0            0      0   \n",
       "5              5  Sunitinib     0       0     0            0      0   \n",
       "\n",
       "         ABL(T315I)  EPHB4  BCL2          ...            TIE2,AXL  MAP4K2  \\\n",
       "drug_id                                   ...                               \n",
       "1                 0      0     0          ...                   0       0   \n",
       "3                 0      0     0          ...                   0       0   \n",
       "5                 0      0     0          ...                   0       0   \n",
       "\n",
       "         BRD2  JNK  RAF  Dihydrofolate reductase (DHFR)  CDK4  \\\n",
       "drug_id                                                         \n",
       "1           0    0    0                               0     0   \n",
       "3           0    0    0                               0     0   \n",
       "5           0    0    0                               0     0   \n",
       "\n",
       "         TRAIL receptor agonist  ROCK  dsDNA break induction  \n",
       "drug_id                                                       \n",
       "1                             0     0                      0  \n",
       "3                             0     0                      0  \n",
       "5                             0     0                      0  \n",
       "\n",
       "[3 rows x 240 columns]"
      ]
     },
     "execution_count": 7,
     "metadata": {},
     "output_type": "execute_result"
    }
   ],
   "source": [
    "# Drug data\n",
    "drug_data_df = DrugsDataGDSCv2.extract_binary_targets_vectors(drug_response_df)\n",
    "print(drug_data_df.shape)\n",
    "drug_data_df.head(3)"
   ]
  },
  {
   "cell_type": "code",
   "execution_count": 8,
   "metadata": {},
   "outputs": [
    {
     "name": "stdout",
     "output_type": "stream",
     "text": [
      "(224202, 3)\n"
     ]
    },
    {
     "data": {
      "text/html": [
       "<div>\n",
       "<style scoped>\n",
       "    .dataframe tbody tr th:only-of-type {\n",
       "        vertical-align: middle;\n",
       "    }\n",
       "\n",
       "    .dataframe tbody tr th {\n",
       "        vertical-align: top;\n",
       "    }\n",
       "\n",
       "    .dataframe thead th {\n",
       "        text-align: right;\n",
       "    }\n",
       "</style>\n",
       "<table border=\"1\" class=\"dataframe\">\n",
       "  <thead>\n",
       "    <tr style=\"text-align: right;\">\n",
       "      <th></th>\n",
       "      <th>DRUG_ID</th>\n",
       "      <th>COSMIC_ID</th>\n",
       "      <th>AUC</th>\n",
       "    </tr>\n",
       "  </thead>\n",
       "  <tbody>\n",
       "    <tr>\n",
       "      <th>0</th>\n",
       "      <td>194</td>\n",
       "      <td>906765</td>\n",
       "      <td>0.569102</td>\n",
       "    </tr>\n",
       "    <tr>\n",
       "      <th>1</th>\n",
       "      <td>219</td>\n",
       "      <td>684681</td>\n",
       "      <td>0.621944</td>\n",
       "    </tr>\n",
       "    <tr>\n",
       "      <th>2</th>\n",
       "      <td>269</td>\n",
       "      <td>908142</td>\n",
       "      <td>0.785489</td>\n",
       "    </tr>\n",
       "  </tbody>\n",
       "</table>\n",
       "</div>"
      ],
      "text/plain": [
       "   DRUG_ID  COSMIC_ID       AUC\n",
       "0      194     906765  0.569102\n",
       "1      219     684681  0.621944\n",
       "2      269     908142  0.785489"
      ]
     },
     "execution_count": 8,
     "metadata": {},
     "output_type": "execute_result"
    }
   ],
   "source": [
    "# Response variable DataFrame\n",
    "response_df = drug_response_df[[\"DRUG_ID\", \"COSMIC_ID\", \"AUC\"]].sample(\n",
    "    frac=1, random_state=11).reset_index(drop=True)\n",
    "print(response_df.shape)\n",
    "response_df.head(3)"
   ]
  },
  {
   "cell_type": "code",
   "execution_count": 9,
   "metadata": {},
   "outputs": [
    {
     "name": "stdout",
     "output_type": "stream",
     "text": [
      "983 (983, 17738) (213354, 3)\n"
     ]
    }
   ],
   "source": [
    "# Extract only data for which we have cell line and drug features\n",
    "common_cell_lines = set(cell_line_data_df.index).intersection(set(response_df[\"COSMIC_ID\"]))\n",
    "cell_line_data = cell_line_data_df.loc[common_cell_lines]\n",
    "response_df = response_df[response_df.COSMIC_ID.isin(common_cell_lines)]\n",
    "print(len(common_cell_lines), cell_line_data.shape, response_df.shape)"
   ]
  },
  {
   "cell_type": "code",
   "execution_count": 10,
   "metadata": {},
   "outputs": [
    {
     "name": "stdout",
     "output_type": "stream",
     "text": [
      "266 (266, 240) (213354, 3) 0.1946543172583224\n"
     ]
    }
   ],
   "source": [
    "# Extract data for common drugs\n",
    "common_drugs = set(drug_data_df.index).intersection(set(response_df.DRUG_ID))\n",
    "drug_data = drug_data_df.loc[common_drugs]\n",
    "response_df = response_df[response_df.DRUG_ID.isin(common_drugs)]\n",
    "print(len(common_drugs), drug_data.shape, response_df.shape, response_df[\"AUC\"].std())"
   ]
  },
  {
   "cell_type": "code",
   "execution_count": 11,
   "metadata": {},
   "outputs": [],
   "source": [
    "# Take a sample of the data for testing\n",
    "# response_df = response_df.iloc[:10000]\n",
    "# print(response_df[\"AUC\"].std())"
   ]
  },
  {
   "cell_type": "code",
   "execution_count": 12,
   "metadata": {},
   "outputs": [],
   "source": [
    "# # Split the data into train, validation and test, without separating any cell lines\n",
    "# test_ratio = 0.3\n",
    "# val_number = 20000\n",
    "\n",
    "# # Split into train/test set\n",
    "# train_samples = response_df[int(test_ratio * response_df.shape[0]):]\n",
    "# test_samples = response_df[:int(test_ratio * response_df.shape[0])]\n",
    "\n",
    "# # Split test set into validation/held-out test\n",
    "# val_samples = test_samples[-val_number:]\n",
    "# test_samples = test_samples[:-val_number]\n",
    "# print(train_samples.shape, val_samples.shape, test_samples.shape)"
   ]
  },
  {
   "cell_type": "code",
   "execution_count": 13,
   "metadata": {},
   "outputs": [
    {
     "name": "stdout",
     "output_type": "stream",
     "text": [
      "963 20 983\n",
      "(166224, 3) (20000, 3) (22670, 3) (4460, 3) (213354, 3)\n"
     ]
    }
   ],
   "source": [
    "# Split the data into train, validation and test, with some spearate cell lines between training and \n",
    "# validation set\n",
    "n_test_cls = 20   # Number of cell lines to separate\n",
    "\n",
    "test_ratio = 0.20\n",
    "val_number = 20000\n",
    "# First extract random sample of separate cell lines for validation only\n",
    "test_cell_lines = np.random.choice(response_df[\"COSMIC_ID\"].unique(), size=n_test_cls, replace=False)\n",
    "\n",
    "# Remove pairs with these cell lines from the rest of the data\n",
    "train_samples = response_df[~response_df[\"COSMIC_ID\"].isin(test_cell_lines)]\n",
    "print(train_samples[\"COSMIC_ID\"].nunique(), len(test_cell_lines), response_df[\"COSMIC_ID\"].nunique())\n",
    "\n",
    "# Check if two sets of cell lines are disjoint\n",
    "assert len(set(train_samples[\"COSMIC_ID\"]).intersection(set(test_cell_lines))) == 0\n",
    "\n",
    "# Extract validation sets without separate cell lines\n",
    "test_samples = train_samples[:int(test_ratio * response_df.shape[0])]\n",
    "train_samples = train_samples[int(test_ratio * response_df.shape[0]):]\n",
    "\n",
    "# Split test set into validation/held-out test\n",
    "val_samples = test_samples[-val_number:]\n",
    "test_samples = test_samples[:-val_number]\n",
    "\n",
    "# Extract separate test cell lines samples\n",
    "separate_cell_lines_samples = response_df[response_df[\"COSMIC_ID\"].isin(test_cell_lines)]\n",
    "\n",
    "# Check if all datasets are complementary\n",
    "common_cell_lines = set(train_samples[\"COSMIC_ID\"])\n",
    "for dataset in [train_samples, val_samples, test_samples, separate_cell_lines_samples]:\n",
    "    common_cell_lines = common_cell_lines.intersection(set(dataset[\"COSMIC_ID\"]))\n",
    "    \n",
    "assert len(common_cell_lines) == 0\n",
    "\n",
    "print(train_samples.shape, val_samples.shape, test_samples.shape,\n",
    "     separate_cell_lines_samples.shape, response_df.shape)"
   ]
  },
  {
   "cell_type": "code",
   "execution_count": 14,
   "metadata": {},
   "outputs": [
    {
     "name": "stdout",
     "output_type": "stream",
     "text": [
      "(983, 17737) (266, 238)\n"
     ]
    }
   ],
   "source": [
    "# Remove identifiers (not features) from drug and cell line data\n",
    "cell_line_data = cell_line_data.drop(\"cosmic_id\", axis=1)\n",
    "drug_data = drug_data.drop([\"drug_id\", \"drug_name\"], axis=1)\n",
    "print(cell_line_data.shape, drug_data.shape)"
   ]
  },
  {
   "cell_type": "code",
   "execution_count": 15,
   "metadata": {},
   "outputs": [
    {
     "name": "stdout",
     "output_type": "stream",
     "text": [
      "1.9566095327326703e-10 17737.0\n"
     ]
    }
   ],
   "source": [
    "# Normalize cell line input data\n",
    "# Compute data mean and std for cell lines in the trainig set\n",
    "expression_mean = cell_line_data.mean()\n",
    "expression_std = cell_line_data.std()\n",
    "\n",
    "cell_line_data = (cell_line_data - expression_mean) / expression_std\n",
    "print(cell_line_data.sum().sum(), cell_line_data.std().sum())"
   ]
  },
  {
   "cell_type": "code",
   "execution_count": 16,
   "metadata": {},
   "outputs": [
    {
     "data": {
      "text/plain": [
       "(213354, 3)"
      ]
     },
     "execution_count": 16,
     "metadata": {},
     "output_type": "execute_result"
    }
   ],
   "source": [
    "response_df.shape"
   ]
  },
  {
   "cell_type": "code",
   "execution_count": 17,
   "metadata": {},
   "outputs": [
    {
     "data": {
      "text/plain": [
       "18.104856"
      ]
     },
     "execution_count": 17,
     "metadata": {},
     "output_type": "execute_result"
    }
   ],
   "source": [
    "train_samples[\"AUC\"].iloc[127:147].sum()"
   ]
  },
  {
   "cell_type": "code",
   "execution_count": 28,
   "metadata": {},
   "outputs": [
    {
     "data": {
      "text/plain": [
       "LinearMatrixFactorizationWithFeatures(\n",
       "  (drug_linear): Linear(in_features=238, out_features=10, bias=True)\n",
       "  (cell_line_linear): Linear(in_features=17737, out_features=10, bias=True)\n",
       ")"
      ]
     },
     "execution_count": 28,
     "metadata": {},
     "output_type": "execute_result"
    }
   ],
   "source": [
    "# Specify hyperparameters\n",
    "drug_dim = drug_data.shape[1]\n",
    "cell_line_dim = cell_line_data.shape[1]\n",
    "\n",
    "\n",
    "learning_rate = 0.00015\n",
    "epochs = 30\n",
    "output_dim = 10\n",
    "batch_size = 128\n",
    "no_batches = train_samples.shape[0] // batch_size\n",
    "\n",
    "model = LinearMatrixFactorizationWithFeatures(drug_dim, cell_line_dim, output_dim,\n",
    "                                             drug_bias=True,\n",
    "                                             cell_line_bias=True,\n",
    "                                             out_activation_func=torch.sigmoid)\n",
    "\n",
    "# Define loss function and optimizer\n",
    "criterion = torch.nn.MSELoss()\n",
    "optimizer = torch.optim.Adam(model.parameters(), lr=learning_rate)\n",
    "\n",
    "# Display text representation of model\n",
    "model"
   ]
  },
  {
   "cell_type": "code",
   "execution_count": 29,
   "metadata": {},
   "outputs": [
    {
     "name": "stdout",
     "output_type": "stream",
     "text": [
      "torch.Size([10, 238])\n",
      "torch.Size([10])\n",
      "torch.Size([10, 17737])\n",
      "torch.Size([10])\n"
     ]
    }
   ],
   "source": [
    "# Check out the shapes of the model's parameters \n",
    "for p in model.parameters():\n",
    "    print(p.shape)"
   ]
  },
  {
   "cell_type": "code",
   "execution_count": 30,
   "metadata": {},
   "outputs": [],
   "source": [
    "# # Predict on a bigger sample of trainig data\n",
    "# sample = train_samples.iloc[:val_samples.shape[0]]\n",
    "# y_true = sample[\"AUC\"].values\n",
    "\n",
    "# # Create baseline predictions(mean AUC)\n",
    "# mean_preds = np.array([sample[\"AUC\"].mean()] * sample.shape[0]) + \\\n",
    "#              np.random.normal(loc=0, scale=0.01, size=sample.shape[0])\n",
    "\n",
    "# cl_input = cell_line_data.loc[sample[\"COSMIC_ID\"].values].values\n",
    "# drug_input = drug_data.loc[sample[\"DRUG_ID\"].values].values\n",
    "\n",
    "# model.eval()\n",
    "# with torch.no_grad():\n",
    "#     predicted = model(torch.from_numpy(drug_input).float(), \n",
    "#                      torch.from_numpy(cl_input).float())\n",
    "    \n",
    "# del cl_input, drug_input\n",
    "\n",
    "# print(predicted.shape, predicted.max(), predicted.min(), predicted.mean())\n",
    "# print(\"Baseline scores:\")\n",
    "# evaluate_predictions(y_true, mean_preds)\n",
    "# print()\n",
    "# print(\"Model scores:\")\n",
    "# evaluate_predictions(y_true, predicted)"
   ]
  },
  {
   "cell_type": "code",
   "execution_count": 31,
   "metadata": {},
   "outputs": [
    {
     "name": "stdout",
     "output_type": "stream",
     "text": [
      "Epoch 1, loss: 0.055\n",
      "Epoch 2, loss: 0.040\n",
      "Epoch 3, loss: 0.033\n",
      "Epoch 4, loss: 0.031\n",
      "Epoch 5, loss: 0.030\n",
      "Epoch 6, loss: 0.029\n",
      "Epoch 7, loss: 0.016\n",
      "Epoch 8, loss: 0.016\n",
      "Epoch 9, loss: 0.015\n",
      "Epoch 10, loss: 0.014\n",
      "Epoch 11, loss: 0.013\n",
      "Epoch 12, loss: 0.013\n",
      "Epoch 13, loss: 0.012\n",
      "Epoch 14, loss: 0.012\n",
      "Epoch 15, loss: 0.012\n",
      "Epoch 16, loss: 0.012\n",
      "Epoch 17, loss: 0.011\n",
      "Epoch 18, loss: 0.011\n",
      "Epoch 19, loss: 0.011\n",
      "Epoch 20, loss: 0.011\n",
      "Epoch 21, loss: 0.011\n",
      "Epoch 22, loss: 0.011\n",
      "Epoch 23, loss: 0.011\n",
      "Epoch 24, loss: 0.011\n",
      "Epoch 25, loss: 0.011\n",
      "Epoch 26, loss: 0.011\n",
      "Epoch 27, loss: 0.011\n",
      "Epoch 28, loss: 0.011\n",
      "Epoch 29, loss: 0.011\n",
      "Epoch 30, loss: 0.011\n"
     ]
    }
   ],
   "source": [
    "# Training the model\n",
    "model.train()\n",
    "for epoch in range(epochs):\n",
    "    for batch in range(no_batches + 1):\n",
    "        # Separate response variable batch\n",
    "        if batch != no_batches:\n",
    "            samples_batch = train_samples.iloc[batch * batch_size:(batch + 1) * batch_size]\n",
    "        else:\n",
    "            samples_batch = train_samples.iloc[batch * batch_size:]\n",
    "            \n",
    "        # Extract output variable batch\n",
    "        y_batch = torch.from_numpy(samples_batch[\"AUC\"].values)\n",
    "        \n",
    "        # Extract cell lines IDs for which data shall be extracted\n",
    "        cl_ids = samples_batch[\"COSMIC_ID\"].values\n",
    "        # Extract corresponding cell line data\n",
    "        cell_line_input_batch = cell_line_data.loc[cl_ids].values\n",
    "        cell_line_input_batch = torch.from_numpy(cell_line_input_batch)\n",
    "        \n",
    "        # Extract drug IDs for which data shall be extracted\n",
    "        drug_ids = samples_batch[\"DRUG_ID\"].values\n",
    "        # Extract corresponding drug data\n",
    "        drug_input_batch = drug_data.loc[drug_ids].values\n",
    "        drug_input_batch = torch.from_numpy(drug_input_batch)\n",
    "        \n",
    "        # Clear gradient buffers because we don't want any gradient from previous epoch to carry forward, \n",
    "        # dont want to cummulate gradients\n",
    "        optimizer.zero_grad()\n",
    "        \n",
    "        # Perform forward pass\n",
    "        batch_output = model(drug_input_batch.float(), cell_line_input_batch.float())\n",
    "        # Compute the loss for this batch\n",
    "        loss = criterion(batch_output, y_batch.float())\n",
    "        # Get the gradients w.r.t. the parameters\n",
    "        loss.backward()\n",
    "        # Update the parameters\n",
    "        optimizer.step()\n",
    "        \n",
    "        #print(\"Epoch {}, batch {}, loss: {:.3f}\".format(epoch + 1, batch + 1, loss.item()))\n",
    "    # print(cell_line_input_batch[3].sum())\n",
    "    print(\"Epoch {}, loss: {:.3f}\".format(epoch + 1, loss.item()))"
   ]
  },
  {
   "cell_type": "markdown",
   "metadata": {},
   "source": [
    "#### Evaluate on training data"
   ]
  },
  {
   "cell_type": "code",
   "execution_count": 22,
   "metadata": {},
   "outputs": [
    {
     "data": {
      "text/html": [
       "<div>\n",
       "<style scoped>\n",
       "    .dataframe tbody tr th:only-of-type {\n",
       "        vertical-align: middle;\n",
       "    }\n",
       "\n",
       "    .dataframe tbody tr th {\n",
       "        vertical-align: top;\n",
       "    }\n",
       "\n",
       "    .dataframe thead th {\n",
       "        text-align: right;\n",
       "    }\n",
       "</style>\n",
       "<table border=\"1\" class=\"dataframe\">\n",
       "  <thead>\n",
       "    <tr style=\"text-align: right;\">\n",
       "      <th></th>\n",
       "      <th>DRUG_ID</th>\n",
       "      <th>COSMIC_ID</th>\n",
       "      <th>AUC</th>\n",
       "    </tr>\n",
       "  </thead>\n",
       "  <tbody>\n",
       "    <tr>\n",
       "      <th>70241</th>\n",
       "      <td>300</td>\n",
       "      <td>687561</td>\n",
       "      <td>0.946526</td>\n",
       "    </tr>\n",
       "    <tr>\n",
       "      <th>134735</th>\n",
       "      <td>1114</td>\n",
       "      <td>687997</td>\n",
       "      <td>0.988758</td>\n",
       "    </tr>\n",
       "  </tbody>\n",
       "</table>\n",
       "</div>"
      ],
      "text/plain": [
       "        DRUG_ID  COSMIC_ID       AUC\n",
       "70241       300     687561  0.946526\n",
       "134735     1114     687997  0.988758"
      ]
     },
     "execution_count": 22,
     "metadata": {},
     "output_type": "execute_result"
    }
   ],
   "source": [
    "# Do some sample predictions on trainig data\n",
    "# Sample data points\n",
    "sample = train_samples.sample(2)\n",
    "sample"
   ]
  },
  {
   "cell_type": "code",
   "execution_count": 32,
   "metadata": {},
   "outputs": [
    {
     "name": "stdout",
     "output_type": "stream",
     "text": [
      "tensor([0.5985, 0.9418, 0.9549,  ..., 0.9508, 0.3834, 0.9906])\n"
     ]
    }
   ],
   "source": [
    "# Do some predictions on training data\n",
    "cl_input = cell_line_data.loc[sample[\"COSMIC_ID\"].values].values\n",
    "drug_input = drug_data.loc[sample[\"DRUG_ID\"].values].values\n",
    "\n",
    "model.eval()\n",
    "with torch.no_grad():\n",
    "    predicted = model(Variable(torch.from_numpy(drug_input)).float(), \n",
    "                     Variable(torch.from_numpy(cl_input)).float())\n",
    "print(predicted)"
   ]
  },
  {
   "cell_type": "code",
   "execution_count": 24,
   "metadata": {},
   "outputs": [
    {
     "name": "stdout",
     "output_type": "stream",
     "text": [
      "torch.Size([10, 238]) torch.Size([10])\n",
      "torch.Size([10, 17737]) torch.Size([10])\n"
     ]
    }
   ],
   "source": [
    "print(model.drug_linear.weight.shape, model.drug_linear.bias.shape)\n",
    "print(model.cell_line_linear.weight.shape, model.cell_line_linear.bias.shape)"
   ]
  },
  {
   "cell_type": "code",
   "execution_count": 25,
   "metadata": {},
   "outputs": [
    {
     "name": "stdout",
     "output_type": "stream",
     "text": [
      "torch.Size([1]) tensor([1.5159], grad_fn=<AddBackward0>)\n"
     ]
    }
   ],
   "source": [
    "# Do predictions manually\n",
    "drug_out = torch.from_numpy(drug_input[0].reshape(-1, 238)).float() @ model.drug_linear.weight.t() + \\\n",
    "                                                                    model.drug_linear.bias\n",
    "cl_out = torch.from_numpy(cl_input[0].reshape(-1, 17737)).float() @ model.cell_line_linear.weight.t() + \\\n",
    "                                                            model.cell_line_linear.bias\n",
    "final_out = torch.zeros(drug_out.shape[0])\n",
    "for k in range(drug_out.shape[1]):\n",
    "    final_out = final_out + drug_out[:, k] * cl_out[:, k]\n",
    "print(final_out.shape, final_out)"
   ]
  },
  {
   "cell_type": "code",
   "execution_count": 33,
   "metadata": {},
   "outputs": [
    {
     "name": "stdout",
     "output_type": "stream",
     "text": [
      "torch.Size([20000]) tensor(1.) tensor(4.1560e-39) tensor(0.8358)\n",
      "Baseline scores:\n",
      "RMSE: 0.19491244962521725\n",
      "Correlation: (-0.002654062868752169, 0.7074237043758315)\n",
      "\n",
      "Model scores:\n",
      "RMSE: 0.15144668217481155\n",
      "Correlation: (0.6951776480817807, 0.0)\n"
     ]
    }
   ],
   "source": [
    "# Predict on a bigger sample of trainig data\n",
    "sample = train_samples.iloc[:val_samples.shape[0]]\n",
    "y_true = sample[\"AUC\"].values\n",
    "\n",
    "# Create baseline predictions(mean AUC)\n",
    "mean_preds = np.array([sample[\"AUC\"].mean()] * sample.shape[0]) + \\\n",
    "             np.random.normal(loc=0, scale=0.01, size=sample.shape[0])\n",
    "\n",
    "cl_input = cell_line_data.loc[sample[\"COSMIC_ID\"].values].values\n",
    "drug_input = drug_data.loc[sample[\"DRUG_ID\"].values].values\n",
    "\n",
    "model.eval()\n",
    "with torch.no_grad():\n",
    "    predicted = model(torch.from_numpy(drug_input).float(), \n",
    "                     torch.from_numpy(cl_input).float())\n",
    "    \n",
    "del cl_input, drug_input\n",
    "\n",
    "print(predicted.shape, predicted.max(), predicted.min(), predicted.mean())\n",
    "print(\"Baseline scores:\")\n",
    "evaluate_predictions(y_true, mean_preds)\n",
    "print()\n",
    "print(\"Model scores:\")\n",
    "evaluate_predictions(y_true, predicted)"
   ]
  },
  {
   "cell_type": "markdown",
   "metadata": {},
   "source": [
    "#### Evaluation on validation data"
   ]
  },
  {
   "cell_type": "code",
   "execution_count": 27,
   "metadata": {},
   "outputs": [
    {
     "name": "stdout",
     "output_type": "stream",
     "text": [
      "(20000, 3)\n"
     ]
    },
    {
     "data": {
      "text/html": [
       "<div>\n",
       "<style scoped>\n",
       "    .dataframe tbody tr th:only-of-type {\n",
       "        vertical-align: middle;\n",
       "    }\n",
       "\n",
       "    .dataframe tbody tr th {\n",
       "        vertical-align: top;\n",
       "    }\n",
       "\n",
       "    .dataframe thead th {\n",
       "        text-align: right;\n",
       "    }\n",
       "</style>\n",
       "<table border=\"1\" class=\"dataframe\">\n",
       "  <thead>\n",
       "    <tr style=\"text-align: right;\">\n",
       "      <th></th>\n",
       "      <th>DRUG_ID</th>\n",
       "      <th>COSMIC_ID</th>\n",
       "      <th>AUC</th>\n",
       "    </tr>\n",
       "  </thead>\n",
       "  <tbody>\n",
       "    <tr>\n",
       "      <th>24297</th>\n",
       "      <td>197</td>\n",
       "      <td>1298365</td>\n",
       "      <td>0.966642</td>\n",
       "    </tr>\n",
       "    <tr>\n",
       "      <th>24298</th>\n",
       "      <td>167</td>\n",
       "      <td>1331045</td>\n",
       "      <td>0.693810</td>\n",
       "    </tr>\n",
       "    <tr>\n",
       "      <th>24299</th>\n",
       "      <td>1053</td>\n",
       "      <td>1503364</td>\n",
       "      <td>0.663067</td>\n",
       "    </tr>\n",
       "    <tr>\n",
       "      <th>24301</th>\n",
       "      <td>1025</td>\n",
       "      <td>906872</td>\n",
       "      <td>0.976864</td>\n",
       "    </tr>\n",
       "    <tr>\n",
       "      <th>24303</th>\n",
       "      <td>1018</td>\n",
       "      <td>908126</td>\n",
       "      <td>0.985368</td>\n",
       "    </tr>\n",
       "  </tbody>\n",
       "</table>\n",
       "</div>"
      ],
      "text/plain": [
       "       DRUG_ID  COSMIC_ID       AUC\n",
       "24297      197    1298365  0.966642\n",
       "24298      167    1331045  0.693810\n",
       "24299     1053    1503364  0.663067\n",
       "24301     1025     906872  0.976864\n",
       "24303     1018     908126  0.985368"
      ]
     },
     "execution_count": 27,
     "metadata": {},
     "output_type": "execute_result"
    }
   ],
   "source": [
    "print(val_samples.shape)\n",
    "val_samples.head(5)"
   ]
  },
  {
   "cell_type": "code",
   "execution_count": 34,
   "metadata": {},
   "outputs": [
    {
     "name": "stdout",
     "output_type": "stream",
     "text": [
      "torch.Size([20000]) tensor(1.0000) tensor(1.3154e-38) tensor(0.8369)\n",
      "Baseline scores:\n",
      "RMSE: 0.19366211960794796\n",
      "Correlation: (-0.00535145958184963, 0.44918839515751247)\n",
      "\n",
      "Model scores:\n",
      "RMSE: 0.15695834148583107\n",
      "Correlation: (0.6645505852336678, 0.0)\n"
     ]
    }
   ],
   "source": [
    "# Predict on validation data\n",
    "sample = val_samples[:]\n",
    "y_true = sample[\"AUC\"].values\n",
    "\n",
    "cl_input = cell_line_data.loc[sample[\"COSMIC_ID\"].values].values\n",
    "drug_input = drug_data.loc[sample[\"DRUG_ID\"].values].values\n",
    "\n",
    "model.eval()\n",
    "with torch.no_grad():\n",
    "    predicted = model(torch.from_numpy(drug_input).float(), \n",
    "                     torch.from_numpy(cl_input).float())\n",
    "    \n",
    "del cl_input, drug_input\n",
    "\n",
    "print(predicted.shape, predicted.max(), predicted.min(), predicted.mean())\n",
    "print(\"Baseline scores:\")\n",
    "evaluate_predictions(y_true, mean_preds)\n",
    "print()\n",
    "print(\"Model scores:\")\n",
    "evaluate_predictions(y_true, predicted)"
   ]
  },
  {
   "cell_type": "code",
   "execution_count": 48,
   "metadata": {},
   "outputs": [
    {
     "data": {
      "image/png": "[encoded data removed]",
      "text/plain": [
       "<Figure size 432x288 with 1 Axes>"
      ]
     },
     "metadata": {},
     "output_type": "display_data"
    }
   ],
   "source": [
    "# Plot predictions and trye values\n",
    "k = 100\n",
    "xs = list(zip(sample[\"DRUG_ID\"], sample[\"COSMIC_ID\"]))\n",
    "xs = np.arange(k)\n",
    "\n",
    "plt.scatter(xs, y_true[:k], label=\"True\")\n",
    "plt.scatter(xs, predicted.numpy()[:k], label=\"Predicted\")\n",
    "\n",
    "plt.legend()\n",
    "plt.show()"
   ]
  },
  {
   "cell_type": "code",
   "execution_count": 49,
   "metadata": {},
   "outputs": [
    {
     "data": {
      "image/png": "[encoded data removed]",
      "text/plain": [
       "<Figure size 432x288 with 1 Axes>"
      ]
     },
     "metadata": {},
     "output_type": "display_data"
    }
   ],
   "source": [
    "plt.scatter(y_true[:k], predicted.numpy()[:k])\n",
    "plt.show()"
   ]
  },
  {
   "cell_type": "code",
   "execution_count": null,
   "metadata": {},
   "outputs": [],
   "source": []
  },
  {
   "cell_type": "code",
   "execution_count": null,
   "metadata": {},
   "outputs": [],
   "source": []
  },
  {
   "cell_type": "markdown",
   "metadata": {},
   "source": [
    "#### Evaluation on separate cell lines"
   ]
  },
  {
   "cell_type": "code",
   "execution_count": 35,
   "metadata": {},
   "outputs": [
    {
     "name": "stdout",
     "output_type": "stream",
     "text": [
      "tensor(1.) tensor(4.1560e-39) tensor(0.0272)\n",
      "RMSE: 0.867552398984234\n",
      "Correlation: (-0.4057190958186736, 2.3022399936010215e-176)\n"
     ]
    }
   ],
   "source": [
    "# Predict on validation data\n",
    "sample = separate_cell_lines_samples\n",
    "y_true = sample[\"AUC\"].values\n",
    "\n",
    "cl_input = cell_line_data.loc[sample[\"COSMIC_ID\"].values].values\n",
    "drug_input = drug_data.loc[sample[\"DRUG_ID\"].values].values\n",
    "\n",
    "model.eval()\n",
    "with torch.no_grad():\n",
    "    predicted = model(torch.from_numpy(drug_input).float(), \n",
    "                     torch.from_numpy(cl_input).float())\n",
    "    \n",
    "del cl_input, drug_input\n",
    "\n",
    "print(predicted.max(), predicted.min(), predicted.mean())\n",
    "evaluate_predictions(y_true, predicted)"
   ]
  },
  {
   "cell_type": "markdown",
   "metadata": {},
   "source": [
    "## Prototype Model class"
   ]
  },
  {
   "cell_type": "code",
   "execution_count": null,
   "metadata": {},
   "outputs": [],
   "source": []
  },
  {
   "cell_type": "code",
   "execution_count": null,
   "metadata": {},
   "outputs": [],
   "source": []
  },
  {
   "cell_type": "code",
   "execution_count": null,
   "metadata": {},
   "outputs": [],
   "source": []
  },
  {
   "cell_type": "code",
   "execution_count": 52,
   "metadata": {},
   "outputs": [],
   "source": [
    "t = torch.tensor([2, -1, 3])"
   ]
  },
  {
   "cell_type": "code",
   "execution_count": 53,
   "metadata": {},
   "outputs": [
    {
     "data": {
      "text/plain": [
       "tensor([ 2, -1,  3])"
      ]
     },
     "execution_count": 53,
     "metadata": {},
     "output_type": "execute_result"
    }
   ],
   "source": [
    "t"
   ]
  },
  {
   "cell_type": "code",
   "execution_count": 54,
   "metadata": {},
   "outputs": [
    {
     "data": {
      "text/plain": [
       "tensor([2, 0, 3])"
      ]
     },
     "execution_count": 54,
     "metadata": {},
     "output_type": "execute_result"
    }
   ],
   "source": [
    "F.relu(t)"
   ]
  },
  {
   "cell_type": "code",
   "execution_count": null,
   "metadata": {},
   "outputs": [],
   "source": []
  }
 ],
 "metadata": {
  "kernelspec": {
   "display_name": "Python (modeling_drug_efficacy)",
   "language": "python",
   "name": "modeling_drug_efficacy"
  },
  "language_info": {
   "codemirror_mode": {
    "name": "ipython",
    "version": 3
   },
   "file_extension": ".py",
   "mimetype": "text/x-python",
   "name": "python",
   "nbconvert_exporter": "python",
   "pygments_lexer": "ipython3",
   "version": "3.6.5"
  }
 },
 "nbformat": 4,
 "nbformat_minor": 2
}
