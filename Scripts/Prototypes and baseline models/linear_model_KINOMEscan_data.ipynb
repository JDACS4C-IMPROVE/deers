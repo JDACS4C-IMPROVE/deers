{
 "cells": [
  {
   "cell_type": "markdown",
   "metadata": {},
   "source": [
    "# Prototype hybrid matrix factorization model for drug reccomendations using PyTorch"
   ]
  },
  {
   "cell_type": "markdown",
   "metadata": {},
   "source": [
    "## Setup"
   ]
  },
  {
   "cell_type": "code",
   "execution_count": 1,
   "metadata": {},
   "outputs": [],
   "source": [
    "# Standard imports\n",
    "import sys\n",
    "import numpy as np\n",
    "import pandas as pd\n",
    "import matplotlib.pyplot as plt\n",
    "import seaborn as sns\n",
    "import time\n",
    "import dill\n",
    "\n",
    "from scipy.stats import pearsonr\n",
    "\n",
    "import torch\n",
    "from torch.autograd import Variable\n",
    "from torch.nn import functional as F\n",
    "\n",
    "from sklearn import metrics"
   ]
  },
  {
   "cell_type": "code",
   "execution_count": 2,
   "metadata": {},
   "outputs": [],
   "source": [
    "# Custom utilities imports\n",
    "sys.path.append(\"/media/krzysztof/Nowy/Doktorat - Modelling drug efficacy in cancer/Recommender System Approach/Scripts/Modules\")\n",
    "from modeling import Dataset"
   ]
  },
  {
   "cell_type": "markdown",
   "metadata": {},
   "source": [
    "## Load KINOMEscan preprocessed dataset with intersection of proteins screened for drugs"
   ]
  },
  {
   "cell_type": "code",
   "execution_count": 3,
   "metadata": {},
   "outputs": [
    {
     "name": "stdout",
     "output_type": "stream",
     "text": [
      "Kinases Dataset <class 'modeling.Dataset'>\n",
      "\n",
      "Dataset containing 74 common drugs of GDSC and HMS LINCS Kinome scan dataset. \n",
      "- Cell lines data types: expression, coding variant and tissue type. Expressions and coding variants are \n",
      "present only for proteins present in both GDSC and KINOMEscan data, resulting in expression of 188 genes and\n",
      "mutations in 18 genes. Tissue types are dummy encoded GDSC Tissue Descriptions 1 (18 features).\n",
      "- Drugs representation: inhibition scores (% control) of 294 proteins. Set of proteins is the intersection of \n",
      "proteins screened for each of 74 drugs.\n",
      "- Drug response data: drug reponse data contains AUC metrics across cell lines for 74 drugs considered \n"
     ]
    }
   ],
   "source": [
    "filepath = \"../../Data/Preprocessed Datasets/\"\n",
    "with open(filepath + \"GDSC-KINOMEscan_proteins_intersection_dataset.pkl\", \"rb\") as f:\n",
    "    full_dataset = dill.load(f)\n",
    "print(full_dataset.name, type(full_dataset))\n",
    "print()\n",
    "print(full_dataset.description)"
   ]
  },
  {
   "cell_type": "markdown",
   "metadata": {},
   "source": [
    "## Model definition"
   ]
  },
  {
   "cell_type": "code",
   "execution_count": 5,
   "metadata": {},
   "outputs": [],
   "source": [
    "# Model definition\n",
    "class LinearMatrixFactorizationWithFeatures(torch.nn.Module):\n",
    "    def __init__(self, drug_input_dim, cell_line_input_dim, output_dim, \n",
    "                 out_activation_func=None,\n",
    "                 drug_bias=True,\n",
    "                 cell_line_bias=True):\n",
    "        super(LinearMatrixFactorizationWithFeatures, self).__init__()\n",
    "        self.drug_linear = torch.nn.Linear(drug_input_dim, output_dim, bias=drug_bias)\n",
    "        self.cell_line_linear = torch.nn.Linear(cell_line_input_dim, output_dim, bias=cell_line_bias)\n",
    "        self.out_activation = out_activation_func\n",
    "        \n",
    "    def forward(self, drug_features, cell_line_features):\n",
    "        drug_outputs = self.drug_linear(drug_features)\n",
    "        cell_line_outputs = self.cell_line_linear(cell_line_features)\n",
    "        \n",
    "        final_outputs = torch.zeros(drug_outputs.shape[0])\n",
    "        for k in range(drug_outputs.shape[1]):\n",
    "            final_outputs = final_outputs + drug_outputs[:, k] * cell_line_outputs[:, k]\n",
    "        if self.out_activation:\n",
    "            return self.out_activation(final_outputs)\n",
    "        return final_outputs\n",
    "    \n",
    "def evaluate_predictions(y_true, preds):\n",
    "    \"\"\"Compute RMSE and correlation with true values for model predictions\"\"\"\n",
    "    print(\"RMSE:\", metrics.mean_squared_error(y_true, preds) ** 0.5)\n",
    "    print(\"Correlation:\", pearsonr(y_true, preds))"
   ]
  },
  {
   "cell_type": "markdown",
   "metadata": {},
   "source": [
    "## Data preprocessing"
   ]
  },
  {
   "cell_type": "markdown",
   "metadata": {},
   "source": [
    "Establish drug response data"
   ]
  },
  {
   "cell_type": "code",
   "execution_count": 6,
   "metadata": {},
   "outputs": [
    {
     "name": "stdout",
     "output_type": "stream",
     "text": [
      "(55936, 3) 987\n"
     ]
    },
    {
     "data": {
      "text/html": [
       "<div>\n",
       "<style scoped>\n",
       "    .dataframe tbody tr th:only-of-type {\n",
       "        vertical-align: middle;\n",
       "    }\n",
       "\n",
       "    .dataframe tbody tr th {\n",
       "        vertical-align: top;\n",
       "    }\n",
       "\n",
       "    .dataframe thead th {\n",
       "        text-align: right;\n",
       "    }\n",
       "</style>\n",
       "<table border=\"1\" class=\"dataframe\">\n",
       "  <thead>\n",
       "    <tr style=\"text-align: right;\">\n",
       "      <th></th>\n",
       "      <th>DRUG_ID</th>\n",
       "      <th>COSMIC_ID</th>\n",
       "      <th>AUC</th>\n",
       "    </tr>\n",
       "  </thead>\n",
       "  <tbody>\n",
       "    <tr>\n",
       "      <th>100607</th>\n",
       "      <td>283</td>\n",
       "      <td>724868</td>\n",
       "      <td>0.646775</td>\n",
       "    </tr>\n",
       "    <tr>\n",
       "      <th>48438</th>\n",
       "      <td>1560</td>\n",
       "      <td>1298533</td>\n",
       "      <td>0.936290</td>\n",
       "    </tr>\n",
       "    <tr>\n",
       "      <th>83416</th>\n",
       "      <td>260</td>\n",
       "      <td>906693</td>\n",
       "      <td>0.860301</td>\n",
       "    </tr>\n",
       "  </tbody>\n",
       "</table>\n",
       "</div>"
      ],
      "text/plain": [
       "        DRUG_ID  COSMIC_ID       AUC\n",
       "100607      283     724868  0.646775\n",
       "48438      1560    1298533  0.936290\n",
       "83416       260     906693  0.860301"
      ]
     },
     "execution_count": 6,
     "metadata": {},
     "output_type": "execute_result"
    }
   ],
   "source": [
    "response_df = full_dataset.response_data\n",
    "response_df = response_df.sample(frac=1., random_state=2)\n",
    "print(response_df.shape, response_df.COSMIC_ID.nunique())\n",
    "response_df.head(3)"
   ]
  },
  {
   "cell_type": "code",
   "execution_count": 7,
   "metadata": {},
   "outputs": [
    {
     "name": "stdout",
     "output_type": "stream",
     "text": [
      "(41952, 3) (100, 3) (13884, 3)\n"
     ]
    }
   ],
   "source": [
    "# Split the data into train, validation and test, without separating any cell lines\n",
    "test_ratio = 0.25\n",
    "val_number = 100\n",
    "\n",
    "# Split into train/test set\n",
    "train_samples = response_df[int(test_ratio * response_df.shape[0]):]\n",
    "test_samples = response_df[:int(test_ratio * response_df.shape[0])]\n",
    "\n",
    "# Split test set into validation/held-out test\n",
    "val_samples = test_samples[-val_number:]\n",
    "test_samples = test_samples[:-val_number]\n",
    "print(train_samples.shape, val_samples.shape, test_samples.shape)"
   ]
  },
  {
   "cell_type": "markdown",
   "metadata": {},
   "source": [
    "Establish cell line data"
   ]
  },
  {
   "cell_type": "code",
   "execution_count": 8,
   "metadata": {},
   "outputs": [
    {
     "name": "stdout",
     "output_type": "stream",
     "text": [
      "(922, 225)\n"
     ]
    },
    {
     "data": {
      "text/html": [
       "<div>\n",
       "<style scoped>\n",
       "    .dataframe tbody tr th:only-of-type {\n",
       "        vertical-align: middle;\n",
       "    }\n",
       "\n",
       "    .dataframe tbody tr th {\n",
       "        vertical-align: top;\n",
       "    }\n",
       "\n",
       "    .dataframe thead th {\n",
       "        text-align: right;\n",
       "    }\n",
       "</style>\n",
       "<table border=\"1\" class=\"dataframe\">\n",
       "  <thead>\n",
       "    <tr style=\"text-align: right;\">\n",
       "      <th></th>\n",
       "      <th>cell_line_id</th>\n",
       "      <th>PRKX_exp</th>\n",
       "      <th>TIE1_exp</th>\n",
       "      <th>BMPR2_exp</th>\n",
       "      <th>PKMYT1_exp</th>\n",
       "      <th>ABL2_exp</th>\n",
       "      <th>PLK1_exp</th>\n",
       "      <th>ACVR1_exp</th>\n",
       "      <th>MAP3K4_mut</th>\n",
       "      <th>SRPK1_exp</th>\n",
       "      <th>...</th>\n",
       "      <th>Tissue_lung_SCLC</th>\n",
       "      <th>Tissue_lymphoma</th>\n",
       "      <th>Tissue_myeloma</th>\n",
       "      <th>Tissue_nervous_system</th>\n",
       "      <th>Tissue_neuroblastoma</th>\n",
       "      <th>Tissue_pancreas</th>\n",
       "      <th>Tissue_skin</th>\n",
       "      <th>Tissue_soft_tissue</th>\n",
       "      <th>Tissue_thyroid</th>\n",
       "      <th>Tissue_urogenital_system</th>\n",
       "    </tr>\n",
       "    <tr>\n",
       "      <th>cell_line_id</th>\n",
       "      <th></th>\n",
       "      <th></th>\n",
       "      <th></th>\n",
       "      <th></th>\n",
       "      <th></th>\n",
       "      <th></th>\n",
       "      <th></th>\n",
       "      <th></th>\n",
       "      <th></th>\n",
       "      <th></th>\n",
       "      <th></th>\n",
       "      <th></th>\n",
       "      <th></th>\n",
       "      <th></th>\n",
       "      <th></th>\n",
       "      <th></th>\n",
       "      <th></th>\n",
       "      <th></th>\n",
       "      <th></th>\n",
       "      <th></th>\n",
       "      <th></th>\n",
       "    </tr>\n",
       "  </thead>\n",
       "  <tbody>\n",
       "    <tr>\n",
       "      <th>906826</th>\n",
       "      <td>906826</td>\n",
       "      <td>4.787607</td>\n",
       "      <td>3.056350</td>\n",
       "      <td>6.395463</td>\n",
       "      <td>5.550737</td>\n",
       "      <td>5.492917</td>\n",
       "      <td>3.853142</td>\n",
       "      <td>4.384087</td>\n",
       "      <td>0</td>\n",
       "      <td>7.410108</td>\n",
       "      <td>...</td>\n",
       "      <td>0</td>\n",
       "      <td>0</td>\n",
       "      <td>0</td>\n",
       "      <td>0</td>\n",
       "      <td>0</td>\n",
       "      <td>0</td>\n",
       "      <td>0</td>\n",
       "      <td>0</td>\n",
       "      <td>0</td>\n",
       "      <td>0</td>\n",
       "    </tr>\n",
       "    <tr>\n",
       "      <th>687983</th>\n",
       "      <td>687983</td>\n",
       "      <td>5.001763</td>\n",
       "      <td>3.125097</td>\n",
       "      <td>6.634672</td>\n",
       "      <td>5.399054</td>\n",
       "      <td>5.113815</td>\n",
       "      <td>4.218736</td>\n",
       "      <td>4.786061</td>\n",
       "      <td>0</td>\n",
       "      <td>7.776150</td>\n",
       "      <td>...</td>\n",
       "      <td>1</td>\n",
       "      <td>0</td>\n",
       "      <td>0</td>\n",
       "      <td>0</td>\n",
       "      <td>0</td>\n",
       "      <td>0</td>\n",
       "      <td>0</td>\n",
       "      <td>0</td>\n",
       "      <td>0</td>\n",
       "      <td>0</td>\n",
       "    </tr>\n",
       "    <tr>\n",
       "      <th>910927</th>\n",
       "      <td>910927</td>\n",
       "      <td>5.459631</td>\n",
       "      <td>2.989998</td>\n",
       "      <td>7.945827</td>\n",
       "      <td>5.541005</td>\n",
       "      <td>4.519127</td>\n",
       "      <td>3.694307</td>\n",
       "      <td>4.414635</td>\n",
       "      <td>0</td>\n",
       "      <td>7.079021</td>\n",
       "      <td>...</td>\n",
       "      <td>0</td>\n",
       "      <td>0</td>\n",
       "      <td>0</td>\n",
       "      <td>0</td>\n",
       "      <td>0</td>\n",
       "      <td>0</td>\n",
       "      <td>0</td>\n",
       "      <td>0</td>\n",
       "      <td>0</td>\n",
       "      <td>0</td>\n",
       "    </tr>\n",
       "  </tbody>\n",
       "</table>\n",
       "<p>3 rows × 225 columns</p>\n",
       "</div>"
      ],
      "text/plain": [
       "              cell_line_id  PRKX_exp  TIE1_exp  BMPR2_exp  PKMYT1_exp  \\\n",
       "cell_line_id                                                            \n",
       "906826              906826  4.787607  3.056350   6.395463    5.550737   \n",
       "687983              687983  5.001763  3.125097   6.634672    5.399054   \n",
       "910927              910927  5.459631  2.989998   7.945827    5.541005   \n",
       "\n",
       "              ABL2_exp  PLK1_exp  ACVR1_exp  MAP3K4_mut  SRPK1_exp  \\\n",
       "cell_line_id                                                         \n",
       "906826        5.492917  3.853142   4.384087           0   7.410108   \n",
       "687983        5.113815  4.218736   4.786061           0   7.776150   \n",
       "910927        4.519127  3.694307   4.414635           0   7.079021   \n",
       "\n",
       "                        ...             Tissue_lung_SCLC  Tissue_lymphoma  \\\n",
       "cell_line_id            ...                                                 \n",
       "906826                  ...                            0                0   \n",
       "687983                  ...                            1                0   \n",
       "910927                  ...                            0                0   \n",
       "\n",
       "              Tissue_myeloma  Tissue_nervous_system  Tissue_neuroblastoma  \\\n",
       "cell_line_id                                                                \n",
       "906826                     0                      0                     0   \n",
       "687983                     0                      0                     0   \n",
       "910927                     0                      0                     0   \n",
       "\n",
       "              Tissue_pancreas  Tissue_skin  Tissue_soft_tissue  \\\n",
       "cell_line_id                                                     \n",
       "906826                      0            0                   0   \n",
       "687983                      0            0                   0   \n",
       "910927                      0            0                   0   \n",
       "\n",
       "              Tissue_thyroid  Tissue_urogenital_system  \n",
       "cell_line_id                                            \n",
       "906826                     0                         0  \n",
       "687983                     0                         0  \n",
       "910927                     0                         0  \n",
       "\n",
       "[3 rows x 225 columns]"
      ]
     },
     "execution_count": 8,
     "metadata": {},
     "output_type": "execute_result"
    }
   ],
   "source": [
    "cell_line_data_df = full_dataset.full_cell_lines_data\n",
    "print(cell_line_data_df.shape)\n",
    "cell_line_data_df.head(3)"
   ]
  },
  {
   "cell_type": "code",
   "execution_count": 9,
   "metadata": {},
   "outputs": [
    {
     "name": "stdout",
     "output_type": "stream",
     "text": [
      "66\n"
     ]
    }
   ],
   "source": [
    "# Search for cell lines present in response data, but missing the genomic features\n",
    "missing_cell_lines = []\n",
    "for cosmic_id in response_df.COSMIC_ID.unique():\n",
    "    if cosmic_id not in cell_line_data_df.cell_line_id.unique():\n",
    "        missing_cell_lines.append(cosmic_id)\n",
    "print(len(missing_cell_lines))"
   ]
  },
  {
   "cell_type": "code",
   "execution_count": 10,
   "metadata": {},
   "outputs": [],
   "source": [
    "# Put cell line IDs into index and drop cell line IDs columns\n",
    "cell_line_data_df.index = cell_line_data_df.cell_line_id\n",
    "cell_line_data_df = cell_line_data_df.drop(\"cell_line_id\", axis=1)"
   ]
  },
  {
   "cell_type": "code",
   "execution_count": 11,
   "metadata": {},
   "outputs": [
    {
     "name": "stdout",
     "output_type": "stream",
     "text": [
      "(55936, 3)\n",
      "(52730, 3)\n"
     ]
    }
   ],
   "source": [
    "# Extract response only for cell lines for which features are present\n",
    "print(response_df.shape)\n",
    "response_df = response_df[~response_df.COSMIC_ID.isin(missing_cell_lines)]\n",
    "print(response_df.shape)"
   ]
  },
  {
   "cell_type": "markdown",
   "metadata": {},
   "source": [
    "Establish drug features data"
   ]
  },
  {
   "cell_type": "code",
   "execution_count": 12,
   "metadata": {},
   "outputs": [
    {
     "name": "stdout",
     "output_type": "stream",
     "text": [
      "(74, 294)\n"
     ]
    },
    {
     "data": {
      "text/html": [
       "<div>\n",
       "<style scoped>\n",
       "    .dataframe tbody tr th:only-of-type {\n",
       "        vertical-align: middle;\n",
       "    }\n",
       "\n",
       "    .dataframe tbody tr th {\n",
       "        vertical-align: top;\n",
       "    }\n",
       "\n",
       "    .dataframe thead th {\n",
       "        text-align: right;\n",
       "    }\n",
       "</style>\n",
       "<table border=\"1\" class=\"dataframe\">\n",
       "  <thead>\n",
       "    <tr style=\"text-align: right;\">\n",
       "      <th>Protein</th>\n",
       "      <th>MAPKAPK2</th>\n",
       "      <th>MARK1</th>\n",
       "      <th>CAMKK2</th>\n",
       "      <th>MARK2</th>\n",
       "      <th>TGFBR1</th>\n",
       "      <th>ERK5</th>\n",
       "      <th>EPHA7</th>\n",
       "      <th>MK01</th>\n",
       "      <th>RAF1</th>\n",
       "      <th>TNNI3K</th>\n",
       "      <th>...</th>\n",
       "      <th>KGP1</th>\n",
       "      <th>ZAP70</th>\n",
       "      <th>ERK3</th>\n",
       "      <th>BLK</th>\n",
       "      <th>MYLK2</th>\n",
       "      <th>KPCD3</th>\n",
       "      <th>FGFR3</th>\n",
       "      <th>ACVR1</th>\n",
       "      <th>GSK3A</th>\n",
       "      <th>KPCD</th>\n",
       "    </tr>\n",
       "    <tr>\n",
       "      <th>Small Molecule</th>\n",
       "      <th></th>\n",
       "      <th></th>\n",
       "      <th></th>\n",
       "      <th></th>\n",
       "      <th></th>\n",
       "      <th></th>\n",
       "      <th></th>\n",
       "      <th></th>\n",
       "      <th></th>\n",
       "      <th></th>\n",
       "      <th></th>\n",
       "      <th></th>\n",
       "      <th></th>\n",
       "      <th></th>\n",
       "      <th></th>\n",
       "      <th></th>\n",
       "      <th></th>\n",
       "      <th></th>\n",
       "      <th></th>\n",
       "      <th></th>\n",
       "      <th></th>\n",
       "    </tr>\n",
       "  </thead>\n",
       "  <tbody>\n",
       "    <tr>\n",
       "      <th>1242</th>\n",
       "      <td>100.0</td>\n",
       "      <td>83.0</td>\n",
       "      <td>88.0</td>\n",
       "      <td>96.0</td>\n",
       "      <td>57.0</td>\n",
       "      <td>100.0</td>\n",
       "      <td>92.0</td>\n",
       "      <td>64.0</td>\n",
       "      <td>100.0</td>\n",
       "      <td>77.0</td>\n",
       "      <td>...</td>\n",
       "      <td>99.0</td>\n",
       "      <td>86.0</td>\n",
       "      <td>98.0</td>\n",
       "      <td>57.0</td>\n",
       "      <td>80.0</td>\n",
       "      <td>12.0</td>\n",
       "      <td>95.0</td>\n",
       "      <td>1.9</td>\n",
       "      <td>100.0</td>\n",
       "      <td>100.0</td>\n",
       "    </tr>\n",
       "    <tr>\n",
       "      <th>86</th>\n",
       "      <td>100.0</td>\n",
       "      <td>100.0</td>\n",
       "      <td>2.0</td>\n",
       "      <td>13.0</td>\n",
       "      <td>100.0</td>\n",
       "      <td>100.0</td>\n",
       "      <td>100.0</td>\n",
       "      <td>100.0</td>\n",
       "      <td>100.0</td>\n",
       "      <td>100.0</td>\n",
       "      <td>...</td>\n",
       "      <td>0.7</td>\n",
       "      <td>100.0</td>\n",
       "      <td>100.0</td>\n",
       "      <td>100.0</td>\n",
       "      <td>100.0</td>\n",
       "      <td>1.6</td>\n",
       "      <td>100.0</td>\n",
       "      <td>100.0</td>\n",
       "      <td>1.0</td>\n",
       "      <td>0.9</td>\n",
       "    </tr>\n",
       "    <tr>\n",
       "      <th>29</th>\n",
       "      <td>100.0</td>\n",
       "      <td>100.0</td>\n",
       "      <td>28.0</td>\n",
       "      <td>92.0</td>\n",
       "      <td>100.0</td>\n",
       "      <td>100.0</td>\n",
       "      <td>84.0</td>\n",
       "      <td>100.0</td>\n",
       "      <td>2.3</td>\n",
       "      <td>15.0</td>\n",
       "      <td>...</td>\n",
       "      <td>100.0</td>\n",
       "      <td>100.0</td>\n",
       "      <td>100.0</td>\n",
       "      <td>1.0</td>\n",
       "      <td>100.0</td>\n",
       "      <td>88.0</td>\n",
       "      <td>100.0</td>\n",
       "      <td>100.0</td>\n",
       "      <td>100.0</td>\n",
       "      <td>89.0</td>\n",
       "    </tr>\n",
       "  </tbody>\n",
       "</table>\n",
       "<p>3 rows × 294 columns</p>\n",
       "</div>"
      ],
      "text/plain": [
       "Protein         MAPKAPK2  MARK1  CAMKK2  MARK2  TGFBR1   ERK5  EPHA7   MK01  \\\n",
       "Small Molecule                                                                \n",
       "1242               100.0   83.0    88.0   96.0    57.0  100.0   92.0   64.0   \n",
       "86                 100.0  100.0     2.0   13.0   100.0  100.0  100.0  100.0   \n",
       "29                 100.0  100.0    28.0   92.0   100.0  100.0   84.0  100.0   \n",
       "\n",
       "Protein          RAF1  TNNI3K  ...     KGP1  ZAP70   ERK3    BLK  MYLK2  \\\n",
       "Small Molecule                 ...                                        \n",
       "1242            100.0    77.0  ...     99.0   86.0   98.0   57.0   80.0   \n",
       "86              100.0   100.0  ...      0.7  100.0  100.0  100.0  100.0   \n",
       "29                2.3    15.0  ...    100.0  100.0  100.0    1.0  100.0   \n",
       "\n",
       "Protein         KPCD3  FGFR3  ACVR1  GSK3A   KPCD  \n",
       "Small Molecule                                     \n",
       "1242             12.0   95.0    1.9  100.0  100.0  \n",
       "86                1.6  100.0  100.0    1.0    0.9  \n",
       "29               88.0  100.0  100.0  100.0   89.0  \n",
       "\n",
       "[3 rows x 294 columns]"
      ]
     },
     "execution_count": 12,
     "metadata": {},
     "output_type": "execute_result"
    }
   ],
   "source": [
    "drug_data_df = full_dataset.drugs_data\n",
    "print(drug_data_df.shape)\n",
    "# Convert drug index from LINCS name to GDSC drug ID\n",
    "drug_data_df.index = drug_data_df.index.map(full_dataset.kinomescan_name_to_gdsc_id_mapper)\n",
    "drug_data_df.head(3)"
   ]
  },
  {
   "cell_type": "code",
   "execution_count": 13,
   "metadata": {},
   "outputs": [
    {
     "name": "stdout",
     "output_type": "stream",
     "text": [
      "0\n"
     ]
    }
   ],
   "source": [
    "# Search for drugs present in response data, but missing the drug features\n",
    "missing_drugs = []\n",
    "for drug_id in response_df.DRUG_ID.unique():\n",
    "    if drug_id not in drug_data_df.index:\n",
    "        print(drug_id)\n",
    "        missing_drugs.append(drug_id)\n",
    "print(len(missing_drugs))"
   ]
  },
  {
   "cell_type": "markdown",
   "metadata": {},
   "source": [
    "Split drug response data into training/validation/test "
   ]
  },
  {
   "cell_type": "code",
   "execution_count": 14,
   "metadata": {},
   "outputs": [
    {
     "name": "stdout",
     "output_type": "stream",
     "text": [
      "(922, 224) 74 922\n",
      "(52730, 3) 74 921\n"
     ]
    }
   ],
   "source": [
    "print(cell_line_data_df.shape, drug_data_df.index.nunique(), cell_line_data_df.index.nunique())\n",
    "print(response_df.shape, response_df.DRUG_ID.nunique(), response_df.COSMIC_ID.nunique())"
   ]
  },
  {
   "cell_type": "code",
   "execution_count": 15,
   "metadata": {},
   "outputs": [
    {
     "name": "stdout",
     "output_type": "stream",
     "text": [
      "(39548, 3) (100, 3) (13082, 3)\n"
     ]
    }
   ],
   "source": [
    "# Split the data into train, validation and test, without separating any cell lines\n",
    "test_ratio = 0.25\n",
    "val_number = 100\n",
    "\n",
    "# Split into train/test set\n",
    "train_samples = response_df[int(test_ratio * response_df.shape[0]):]\n",
    "test_samples = response_df[:int(test_ratio * response_df.shape[0])]\n",
    "\n",
    "# Split test set into validation/held-out test\n",
    "val_samples = test_samples[-val_number:]\n",
    "test_samples = test_samples[:-val_number]\n",
    "print(train_samples.shape, val_samples.shape, test_samples.shape)"
   ]
  },
  {
   "cell_type": "code",
   "execution_count": 2,
   "metadata": {},
   "outputs": [
    {
     "data": {
      "text/plain": [
       "52730"
      ]
     },
     "execution_count": 2,
     "metadata": {},
     "output_type": "execute_result"
    }
   ],
   "source": [
    "39548 + 13082 + 100"
   ]
  },
  {
   "cell_type": "markdown",
   "metadata": {},
   "source": [
    "Normalize / standardize the data"
   ]
  },
  {
   "cell_type": "code",
   "execution_count": 16,
   "metadata": {},
   "outputs": [
    {
     "name": "stdout",
     "output_type": "stream",
     "text": [
      "(922, 224) 0.005679617291601466 193.9090086389599\n"
     ]
    }
   ],
   "source": [
    "# Cell line data\n",
    "cols_subset = [col for col in list(cell_line_data_df) if col.endswith(\"_exp\")]\n",
    "rows_subset = None\n",
    "\n",
    "cell_line_data_df = Dataset.standardize_data(cell_line_data_df, cols_subset=cols_subset)\n",
    "print(cell_line_data_df.shape, cell_line_data_df.mean().mean(),\n",
    "     cell_line_data_df.std().sum())"
   ]
  },
  {
   "cell_type": "code",
   "execution_count": 17,
   "metadata": {},
   "outputs": [
    {
     "name": "stdout",
     "output_type": "stream",
     "text": [
      "(74, 294)\n",
      "(74, 294) 2.196104424744604e-17 294.0\n"
     ]
    }
   ],
   "source": [
    "# Drug data\n",
    "print(drug_data_df.shape)\n",
    "drug_data_df = Dataset.standardize_data(drug_data_df)\n",
    "print(drug_data_df.shape, drug_data_df.mean().mean(),\n",
    "     drug_data_df.std().sum())"
   ]
  },
  {
   "cell_type": "markdown",
   "metadata": {},
   "source": [
    "## Model training"
   ]
  },
  {
   "cell_type": "code",
   "execution_count": 1,
   "metadata": {},
   "outputs": [
    {
     "data": {
      "text/plain": [
       "68228"
      ]
     },
     "execution_count": 1,
     "metadata": {},
     "output_type": "execute_result"
    }
   ],
   "source": [
    "74 * 922"
   ]
  },
  {
   "cell_type": "code",
   "execution_count": 18,
   "metadata": {},
   "outputs": [
    {
     "name": "stdout",
     "output_type": "stream",
     "text": [
      "(10, 3) 7.488004\n"
     ]
    }
   ],
   "source": [
    "train_samples = train_samples.sample(10, random_state=2)\n",
    "print(train_samples.shape, train_samples[\"AUC\"].sum())"
   ]
  },
  {
   "cell_type": "code",
   "execution_count": 22,
   "metadata": {},
   "outputs": [
    {
     "data": {
      "text/plain": [
       "LinearMatrixFactorizationWithFeatures(\n",
       "  (drug_linear): Linear(in_features=294, out_features=10, bias=True)\n",
       "  (cell_line_linear): Linear(in_features=224, out_features=10, bias=True)\n",
       ")"
      ]
     },
     "execution_count": 22,
     "metadata": {},
     "output_type": "execute_result"
    }
   ],
   "source": [
    "# Specify hyperparameters\n",
    "drug_dim = drug_data_df.shape[1]\n",
    "cell_line_dim = cell_line_data_df.shape[1]\n",
    "\n",
    "\n",
    "learning_rate = 0.001\n",
    "epochs = 100\n",
    "output_dim = 10\n",
    "batch_size = 16\n",
    "no_batches = train_samples.shape[0] // batch_size\n",
    "\n",
    "model = LinearMatrixFactorizationWithFeatures(drug_dim, cell_line_dim, output_dim,\n",
    "                                             drug_bias=True,\n",
    "                                             cell_line_bias=True)\n",
    "\n",
    "# Define loss function and optimizer\n",
    "criterion = torch.nn.MSELoss()\n",
    "optimizer = torch.optim.SGD(model.parameters(), lr=learning_rate)\n",
    "\n",
    "# Display text representation of model\n",
    "model"
   ]
  },
  {
   "cell_type": "code",
   "execution_count": 23,
   "metadata": {},
   "outputs": [
    {
     "name": "stdout",
     "output_type": "stream",
     "text": [
      "torch.Size([10, 294])\n",
      "torch.Size([10])\n",
      "torch.Size([10, 224])\n",
      "torch.Size([10])\n"
     ]
    }
   ],
   "source": [
    "# Check out the shapes of the model's parameters \n",
    "for p in model.parameters():\n",
    "    print(p.shape)"
   ]
  },
  {
   "cell_type": "code",
   "execution_count": 24,
   "metadata": {},
   "outputs": [
    {
     "name": "stdout",
     "output_type": "stream",
     "text": [
      "Epoch 1, loss: 0.9399\n",
      "Epoch 2, loss: 0.4973\n",
      "Epoch 3, loss: 0.3323\n",
      "Epoch 4, loss: 0.2442\n",
      "Epoch 5, loss: 0.1881\n",
      "Epoch 6, loss: 0.1482\n",
      "Epoch 7, loss: 0.1180\n",
      "Epoch 8, loss: 0.0944\n",
      "Epoch 9, loss: 0.0757\n",
      "Epoch 10, loss: 0.0607\n",
      "Epoch 11, loss: 0.0487\n",
      "Epoch 12, loss: 0.0390\n",
      "Epoch 13, loss: 0.0313\n",
      "Epoch 14, loss: 0.0250\n",
      "Epoch 15, loss: 0.0200\n",
      "Epoch 16, loss: 0.0159\n",
      "Epoch 17, loss: 0.0127\n",
      "Epoch 18, loss: 0.0101\n",
      "Epoch 19, loss: 0.0080\n",
      "Epoch 20, loss: 0.0064\n",
      "Epoch 21, loss: 0.0051\n",
      "Epoch 22, loss: 0.0040\n",
      "Epoch 23, loss: 0.0032\n",
      "Epoch 24, loss: 0.0025\n",
      "Epoch 25, loss: 0.0020\n",
      "Epoch 26, loss: 0.0016\n",
      "Epoch 27, loss: 0.0012\n",
      "Epoch 28, loss: 0.0010\n",
      "Epoch 29, loss: 0.0008\n",
      "Epoch 30, loss: 0.0006\n",
      "Epoch 31, loss: 0.0005\n",
      "Epoch 32, loss: 0.0004\n",
      "Epoch 33, loss: 0.0003\n",
      "Epoch 34, loss: 0.0002\n",
      "Epoch 35, loss: 0.0002\n",
      "Epoch 36, loss: 0.0001\n",
      "Epoch 37, loss: 0.0001\n",
      "Epoch 38, loss: 0.0001\n",
      "Epoch 39, loss: 0.0001\n",
      "Epoch 40, loss: 0.0001\n",
      "Epoch 41, loss: 0.0000\n",
      "Epoch 42, loss: 0.0000\n",
      "Epoch 43, loss: 0.0000\n",
      "Epoch 44, loss: 0.0000\n",
      "Epoch 45, loss: 0.0000\n",
      "Epoch 46, loss: 0.0000\n",
      "Epoch 47, loss: 0.0000\n",
      "Epoch 48, loss: 0.0000\n",
      "Epoch 49, loss: 0.0000\n",
      "Epoch 50, loss: 0.0000\n",
      "Epoch 51, loss: 0.0000\n",
      "Epoch 52, loss: 0.0000\n",
      "Epoch 53, loss: 0.0000\n",
      "Epoch 54, loss: 0.0000\n",
      "Epoch 55, loss: 0.0000\n",
      "Epoch 56, loss: 0.0000\n",
      "Epoch 57, loss: 0.0000\n",
      "Epoch 58, loss: 0.0000\n",
      "Epoch 59, loss: 0.0000\n",
      "Epoch 60, loss: 0.0000\n",
      "Epoch 61, loss: 0.0000\n",
      "Epoch 62, loss: 0.0000\n",
      "Epoch 63, loss: 0.0000\n",
      "Epoch 64, loss: 0.0000\n",
      "Epoch 65, loss: 0.0000\n",
      "Epoch 66, loss: 0.0000\n",
      "Epoch 67, loss: 0.0000\n",
      "Epoch 68, loss: 0.0000\n",
      "Epoch 69, loss: 0.0000\n",
      "Epoch 70, loss: 0.0000\n",
      "Epoch 71, loss: 0.0000\n",
      "Epoch 72, loss: 0.0000\n",
      "Epoch 73, loss: 0.0000\n",
      "Epoch 74, loss: 0.0000\n",
      "Epoch 75, loss: 0.0000\n",
      "Epoch 76, loss: 0.0000\n",
      "Epoch 77, loss: 0.0000\n",
      "Epoch 78, loss: 0.0000\n",
      "Epoch 79, loss: 0.0000\n",
      "Epoch 80, loss: 0.0000\n",
      "Epoch 81, loss: 0.0000\n",
      "Epoch 82, loss: 0.0000\n",
      "Epoch 83, loss: 0.0000\n",
      "Epoch 84, loss: 0.0000\n",
      "Epoch 85, loss: 0.0000\n",
      "Epoch 86, loss: 0.0000\n",
      "Epoch 87, loss: 0.0000\n",
      "Epoch 88, loss: 0.0000\n",
      "Epoch 89, loss: 0.0000\n",
      "Epoch 90, loss: 0.0000\n",
      "Epoch 91, loss: 0.0000\n",
      "Epoch 92, loss: 0.0000\n",
      "Epoch 93, loss: 0.0000\n",
      "Epoch 94, loss: 0.0000\n",
      "Epoch 95, loss: 0.0000\n",
      "Epoch 96, loss: 0.0000\n",
      "Epoch 97, loss: 0.0000\n",
      "Epoch 98, loss: 0.0000\n",
      "Epoch 99, loss: 0.0000\n",
      "Epoch 100, loss: 0.0000\n"
     ]
    }
   ],
   "source": [
    "# Training the model\n",
    "model.train()\n",
    "for epoch in range(epochs):\n",
    "    for batch in range(no_batches + 1):\n",
    "        # Separate response variable batch\n",
    "        if batch != no_batches:\n",
    "            samples_batch = train_samples.iloc[batch * batch_size:(batch + 1) * batch_size]\n",
    "        else:\n",
    "            samples_batch = train_samples.iloc[batch * batch_size:]\n",
    "            \n",
    "        # Extract output variable batch\n",
    "        y_batch = torch.from_numpy(samples_batch[\"AUC\"].values)\n",
    "        \n",
    "        # Extract cell lines IDs for which data shall be extracted\n",
    "        cl_ids = samples_batch[\"COSMIC_ID\"].values\n",
    "        # Extract corresponding cell line data\n",
    "        cell_line_input_batch = cell_line_data_df.loc[cl_ids].values\n",
    "        cell_line_input_batch = torch.from_numpy(cell_line_input_batch)\n",
    "        \n",
    "        # Extract drug IDs for which data shall be extracted\n",
    "        drug_ids = samples_batch[\"DRUG_ID\"].values\n",
    "        # Extract corresponding drug data\n",
    "        drug_input_batch = drug_data_df.loc[drug_ids].values\n",
    "        drug_input_batch = torch.from_numpy(drug_input_batch)\n",
    "        \n",
    "        # Clear gradient buffers because we don't want any gradient from previous epoch to carry forward, \n",
    "        # dont want to cummulate gradients\n",
    "        optimizer.zero_grad()\n",
    "        \n",
    "        # Perform forward pass\n",
    "        batch_output = model(drug_input_batch.float(), cell_line_input_batch.float())\n",
    "        # Compute the loss for this batch\n",
    "        loss = criterion(batch_output, y_batch.float())\n",
    "        # Get the gradients w.r.t. the parameters\n",
    "        loss.backward()\n",
    "        # Update the parameters\n",
    "        optimizer.step()\n",
    "        \n",
    "        #print(\"Epoch {}, batch {}, loss: {:.3f}\".format(epoch + 1, batch + 1, loss.item()))\n",
    "    #print(cell_line_input_batch[3].sum())\n",
    "    print(\"Epoch {}, loss: {:.4f}\".format(epoch + 1, loss.item()))"
   ]
  },
  {
   "cell_type": "markdown",
   "metadata": {},
   "source": [
    "## Model evaluation"
   ]
  },
  {
   "cell_type": "markdown",
   "metadata": {},
   "source": [
    "#### Evaluate on training data"
   ]
  },
  {
   "cell_type": "code",
   "execution_count": 25,
   "metadata": {},
   "outputs": [
    {
     "data": {
      "text/html": [
       "<div>\n",
       "<style scoped>\n",
       "    .dataframe tbody tr th:only-of-type {\n",
       "        vertical-align: middle;\n",
       "    }\n",
       "\n",
       "    .dataframe tbody tr th {\n",
       "        vertical-align: top;\n",
       "    }\n",
       "\n",
       "    .dataframe thead th {\n",
       "        text-align: right;\n",
       "    }\n",
       "</style>\n",
       "<table border=\"1\" class=\"dataframe\">\n",
       "  <thead>\n",
       "    <tr style=\"text-align: right;\">\n",
       "      <th></th>\n",
       "      <th>DRUG_ID</th>\n",
       "      <th>COSMIC_ID</th>\n",
       "      <th>AUC</th>\n",
       "    </tr>\n",
       "  </thead>\n",
       "  <tbody>\n",
       "    <tr>\n",
       "      <th>216474</th>\n",
       "      <td>1052</td>\n",
       "      <td>1290730</td>\n",
       "      <td>0.948875</td>\n",
       "    </tr>\n",
       "    <tr>\n",
       "      <th>12001</th>\n",
       "      <td>87</td>\n",
       "      <td>753621</td>\n",
       "      <td>0.504412</td>\n",
       "    </tr>\n",
       "  </tbody>\n",
       "</table>\n",
       "</div>"
      ],
      "text/plain": [
       "        DRUG_ID  COSMIC_ID       AUC\n",
       "216474     1052    1290730  0.948875\n",
       "12001        87     753621  0.504412"
      ]
     },
     "execution_count": 25,
     "metadata": {},
     "output_type": "execute_result"
    }
   ],
   "source": [
    "# Do some sample predictions on trainig data\n",
    "# Sample data points\n",
    "sample = train_samples.sample(2)\n",
    "sample"
   ]
  },
  {
   "cell_type": "code",
   "execution_count": 26,
   "metadata": {},
   "outputs": [
    {
     "name": "stdout",
     "output_type": "stream",
     "text": [
      "tensor([0.9489, 0.5044])\n"
     ]
    }
   ],
   "source": [
    "# Do some predictions on training data\n",
    "cl_input = cell_line_data_df.loc[sample[\"COSMIC_ID\"].values].values\n",
    "drug_input = drug_data_df.loc[sample[\"DRUG_ID\"].values].values\n",
    "\n",
    "model.eval()\n",
    "with torch.no_grad():\n",
    "    predicted = model(Variable(torch.from_numpy(drug_input)).float(), \n",
    "                     Variable(torch.from_numpy(cl_input)).float())\n",
    "print(predicted)"
   ]
  },
  {
   "cell_type": "code",
   "execution_count": 27,
   "metadata": {},
   "outputs": [
    {
     "name": "stdout",
     "output_type": "stream",
     "text": [
      "torch.Size([10, 294]) torch.Size([10])\n",
      "torch.Size([10, 224]) torch.Size([10])\n"
     ]
    }
   ],
   "source": [
    "print(model.drug_linear.weight.shape, model.drug_linear.bias.shape)\n",
    "print(model.cell_line_linear.weight.shape, model.cell_line_linear.bias.shape)"
   ]
  },
  {
   "cell_type": "code",
   "execution_count": 28,
   "metadata": {},
   "outputs": [
    {
     "name": "stdout",
     "output_type": "stream",
     "text": [
      "torch.Size([1]) tensor([0.9489], grad_fn=<AddBackward0>)\n"
     ]
    }
   ],
   "source": [
    "# Do predictions manually\n",
    "drug_out = torch.from_numpy(drug_input[0].reshape(-1, 294)).float() @ model.drug_linear.weight.t() + \\\n",
    "                                                                    model.drug_linear.bias\n",
    "cl_out = torch.from_numpy(cl_input[0].reshape(-1, 224)).float() @ model.cell_line_linear.weight.t() + \\\n",
    "                                                            model.cell_line_linear.bias\n",
    "final_out = torch.zeros(drug_out.shape[0])\n",
    "for k in range(drug_out.shape[1]):\n",
    "    final_out = final_out + drug_out[:, k] * cl_out[:, k]\n",
    "print(final_out.shape, final_out)"
   ]
  },
  {
   "cell_type": "code",
   "execution_count": 29,
   "metadata": {},
   "outputs": [
    {
     "name": "stdout",
     "output_type": "stream",
     "text": [
      "torch.Size([10]) tensor(0.9915) tensor(0.3988) tensor(0.7488)\n",
      "Baseline scores:\n",
      "RMSE: 0.21716751958937125\n",
      "Correlation: (-0.3881833670272419, 0.2676507213733762)\n",
      "\n",
      "Model scores:\n",
      "tensor(0.9915) tensor(0.3988) tensor(0.7488)\n",
      "RMSE: 5.216127963461507e-06\n",
      "Correlation: (0.9999999997543535, 1.5930169689690508e-38)\n"
     ]
    }
   ],
   "source": [
    "# Predict on a bigger sample of trainig data\n",
    "sample = train_samples.iloc[:val_samples.shape[0]]\n",
    "y_true = sample[\"AUC\"].values\n",
    "\n",
    "# Create baseline predictions(mean AUC)\n",
    "mean_preds = np.array([sample[\"AUC\"].mean()] * sample.shape[0]) + \\\n",
    "             np.random.normal(loc=0, scale=0.01, size=sample.shape[0])\n",
    "\n",
    "cl_input = cell_line_data_df.loc[sample[\"COSMIC_ID\"].values].values\n",
    "drug_input = drug_data_df.loc[sample[\"DRUG_ID\"].values].values\n",
    "\n",
    "model.eval()\n",
    "with torch.no_grad():\n",
    "    predicted = model(torch.from_numpy(drug_input).float(), \n",
    "                     torch.from_numpy(cl_input).float())\n",
    "    \n",
    "del cl_input, drug_input\n",
    "\n",
    "print(predicted.shape, predicted.max(), predicted.min(), predicted.mean())\n",
    "print(\"Baseline scores:\")\n",
    "evaluate_predictions(y_true, mean_preds)\n",
    "print()\n",
    "print(\"Model scores:\")\n",
    "print(predicted.max(), predicted.min(), predicted.mean())\n",
    "evaluate_predictions(y_true, predicted)"
   ]
  },
  {
   "cell_type": "markdown",
   "metadata": {},
   "source": [
    "#### Evaluation on validation set"
   ]
  },
  {
   "cell_type": "code",
   "execution_count": 30,
   "metadata": {},
   "outputs": [
    {
     "name": "stdout",
     "output_type": "stream",
     "text": [
      "(100, 3)\n"
     ]
    },
    {
     "data": {
      "text/html": [
       "<div>\n",
       "<style scoped>\n",
       "    .dataframe tbody tr th:only-of-type {\n",
       "        vertical-align: middle;\n",
       "    }\n",
       "\n",
       "    .dataframe tbody tr th {\n",
       "        vertical-align: top;\n",
       "    }\n",
       "\n",
       "    .dataframe thead th {\n",
       "        text-align: right;\n",
       "    }\n",
       "</style>\n",
       "<table border=\"1\" class=\"dataframe\">\n",
       "  <thead>\n",
       "    <tr style=\"text-align: right;\">\n",
       "      <th></th>\n",
       "      <th>DRUG_ID</th>\n",
       "      <th>COSMIC_ID</th>\n",
       "      <th>AUC</th>\n",
       "    </tr>\n",
       "  </thead>\n",
       "  <tbody>\n",
       "    <tr>\n",
       "      <th>224171</th>\n",
       "      <td>1066</td>\n",
       "      <td>905959</td>\n",
       "      <td>0.842805</td>\n",
       "    </tr>\n",
       "    <tr>\n",
       "      <th>86520</th>\n",
       "      <td>1873</td>\n",
       "      <td>1240223</td>\n",
       "      <td>0.811188</td>\n",
       "    </tr>\n",
       "    <tr>\n",
       "      <th>56137</th>\n",
       "      <td>1614</td>\n",
       "      <td>1298347</td>\n",
       "      <td>0.990067</td>\n",
       "    </tr>\n",
       "    <tr>\n",
       "      <th>215301</th>\n",
       "      <td>1050</td>\n",
       "      <td>909740</td>\n",
       "      <td>0.969985</td>\n",
       "    </tr>\n",
       "    <tr>\n",
       "      <th>65582</th>\n",
       "      <td>223</td>\n",
       "      <td>910924</td>\n",
       "      <td>0.685411</td>\n",
       "    </tr>\n",
       "  </tbody>\n",
       "</table>\n",
       "</div>"
      ],
      "text/plain": [
       "        DRUG_ID  COSMIC_ID       AUC\n",
       "224171     1066     905959  0.842805\n",
       "86520      1873    1240223  0.811188\n",
       "56137      1614    1298347  0.990067\n",
       "215301     1050     909740  0.969985\n",
       "65582       223     910924  0.685411"
      ]
     },
     "execution_count": 30,
     "metadata": {},
     "output_type": "execute_result"
    }
   ],
   "source": [
    "print(val_samples.shape)\n",
    "val_samples.head(5)"
   ]
  },
  {
   "cell_type": "code",
   "execution_count": 33,
   "metadata": {},
   "outputs": [
    {
     "name": "stdout",
     "output_type": "stream",
     "text": [
      "Model scores:\n",
      "tensor(3.4806) tensor(-2.5619) tensor(-0.1212)\n",
      "RMSE: 1.4158125125649392\n",
      "Correlation: (0.005336217845266272, 0.9579775911729909)\n"
     ]
    }
   ],
   "source": [
    "# Predict on validation data and evaluate\n",
    "sample = val_samples[:]\n",
    "y_true = sample[\"AUC\"].values\n",
    "\n",
    "cl_input = cell_line_data_df.loc[sample[\"COSMIC_ID\"].values].values\n",
    "drug_input = drug_data_df.loc[sample[\"DRUG_ID\"].values].values\n",
    "\n",
    "model.eval()\n",
    "with torch.no_grad():\n",
    "    predicted = model(torch.from_numpy(drug_input).float(), \n",
    "                     torch.from_numpy(cl_input).float())\n",
    "    \n",
    "del cl_input, drug_input\n",
    "\n",
    "print(\"Model scores:\")\n",
    "print(predicted.max(), predicted.min(), predicted.mean())\n",
    "evaluate_predictions(y_true, predicted)"
   ]
  },
  {
   "cell_type": "code",
   "execution_count": 34,
   "metadata": {},
   "outputs": [
    {
     "data": {
      "image/png": "[encoded data removed]",
      "text/plain": [
       "<Figure size 432x288 with 1 Axes>"
      ]
     },
     "metadata": {},
     "output_type": "display_data"
    }
   ],
   "source": [
    "# Plot predictions and trye values\n",
    "k = 100\n",
    "xs = list(zip(sample[\"DRUG_ID\"], sample[\"COSMIC_ID\"]))\n",
    "xs = np.arange(k)\n",
    "\n",
    "plt.scatter(xs, y_true[:k], label=\"True\")\n",
    "plt.scatter(xs, predicted.numpy()[:k], label=\"Predicted\")\n",
    "\n",
    "plt.legend()\n",
    "plt.show()"
   ]
  },
  {
   "cell_type": "markdown",
   "metadata": {},
   "source": [
    "#### Evaluate on unseen cell lines"
   ]
  },
  {
   "cell_type": "code",
   "execution_count": 38,
   "metadata": {},
   "outputs": [
    {
     "ename": "NameError",
     "evalue": "name 'separate_cell_lines_samples' is not defined",
     "output_type": "error",
     "traceback": [
      "\u001b[0;31m---------------------------------------------------------------------------\u001b[0m",
      "\u001b[0;31mNameError\u001b[0m                                 Traceback (most recent call last)",
      "\u001b[0;32m<ipython-input-38-1e86e1653f65>\u001b[0m in \u001b[0;36m<module>\u001b[0;34m()\u001b[0m\n\u001b[1;32m      1\u001b[0m \u001b[0;31m# Predict on unseen cell lines and evaluate\u001b[0m\u001b[0;34m\u001b[0m\u001b[0;34m\u001b[0m\u001b[0m\n\u001b[0;32m----> 2\u001b[0;31m \u001b[0msample\u001b[0m \u001b[0;34m=\u001b[0m \u001b[0mseparate_cell_lines_samples\u001b[0m\u001b[0;34m\u001b[0m\u001b[0m\n\u001b[0m\u001b[1;32m      3\u001b[0m \u001b[0my_true\u001b[0m \u001b[0;34m=\u001b[0m \u001b[0msample\u001b[0m\u001b[0;34m[\u001b[0m\u001b[0;34m\"AUC\"\u001b[0m\u001b[0;34m]\u001b[0m\u001b[0;34m.\u001b[0m\u001b[0mvalues\u001b[0m\u001b[0;34m\u001b[0m\u001b[0m\n\u001b[1;32m      4\u001b[0m \u001b[0;34m\u001b[0m\u001b[0m\n\u001b[1;32m      5\u001b[0m \u001b[0mcl_input\u001b[0m \u001b[0;34m=\u001b[0m \u001b[0mcell_line_data\u001b[0m\u001b[0;34m.\u001b[0m\u001b[0mloc\u001b[0m\u001b[0;34m[\u001b[0m\u001b[0msample\u001b[0m\u001b[0;34m[\u001b[0m\u001b[0;34m\"COSMIC_ID\"\u001b[0m\u001b[0;34m]\u001b[0m\u001b[0;34m.\u001b[0m\u001b[0mvalues\u001b[0m\u001b[0;34m]\u001b[0m\u001b[0;34m.\u001b[0m\u001b[0mvalues\u001b[0m\u001b[0;34m\u001b[0m\u001b[0m\n",
      "\u001b[0;31mNameError\u001b[0m: name 'separate_cell_lines_samples' is not defined"
     ]
    }
   ],
   "source": [
    "# Predict on unseen cell lines and evaluate\n",
    "sample = separate_cell_lines_samples\n",
    "y_true = sample[\"AUC\"].values\n",
    "\n",
    "cl_input = cell_line_data_df.loc[sample[\"COSMIC_ID\"].values].values\n",
    "drug_input = drug_data_df.loc[sample[\"DRUG_ID\"].values].values\n",
    "\n",
    "model.eval()\n",
    "with torch.no_grad():\n",
    "    predicted = model(torch.from_numpy(drug_input).float(), \n",
    "                     torch.from_numpy(cl_input).float())\n",
    "    \n",
    "del cl_input, drug_input\n",
    "\n",
    "print(predicted.max(), predicted.min(), predicted.mean())\n",
    "evaluate_predictions(y_true, predicted)"
   ]
  },
  {
   "cell_type": "markdown",
   "metadata": {},
   "source": [
    "## Wrap modeling process in classes and functions"
   ]
  },
  {
   "cell_type": "code",
   "execution_count": 1,
   "metadata": {},
   "outputs": [],
   "source": [
    "class Model:\n",
    "    pass"
   ]
  },
  {
   "cell_type": "code",
   "execution_count": null,
   "metadata": {},
   "outputs": [],
   "source": []
  }
 ],
 "metadata": {
  "kernelspec": {
   "display_name": "Python (modeling_drug_efficacy)",
   "language": "python",
   "name": "modeling_drug_efficacy"
  },
  "language_info": {
   "codemirror_mode": {
    "name": "ipython",
    "version": 3
   },
   "file_extension": ".py",
   "mimetype": "text/x-python",
   "name": "python",
   "nbconvert_exporter": "python",
   "pygments_lexer": "ipython3",
   "version": "3.6.5"
  }
 },
 "nbformat": 4,
 "nbformat_minor": 2
}
