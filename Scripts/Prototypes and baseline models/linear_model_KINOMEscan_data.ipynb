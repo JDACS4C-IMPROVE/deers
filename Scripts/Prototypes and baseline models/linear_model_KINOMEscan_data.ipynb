{
 "cells": [
  {
   "cell_type": "markdown",
   "metadata": {},
   "source": [
    "# Prototype hybrid matrix factorization model for drug reccomendations using PyTorch"
   ]
  },
  {
   "cell_type": "markdown",
   "metadata": {},
   "source": [
    "## Setup"
   ]
  },
  {
   "cell_type": "code",
   "execution_count": 1,
   "metadata": {},
   "outputs": [],
   "source": [
    "# Standard imports\n",
    "import sys\n",
    "import numpy as np\n",
    "import pandas as pd\n",
    "import matplotlib.pyplot as plt\n",
    "import seaborn as sns\n",
    "import time\n",
    "import dill\n",
    "\n",
    "from scipy.stats import pearsonr\n",
    "\n",
    "import torch\n",
    "from torch.autograd import Variable\n",
    "from torch.nn import functional as F\n",
    "from torch.utils.data import DataLoader\n",
    "\n",
    "\n",
    "from sklearn import metrics"
   ]
  },
  {
   "cell_type": "code",
   "execution_count": 2,
   "metadata": {},
   "outputs": [],
   "source": [
    "# Custom utilities imports\n",
    "sys.path.append(\"/media/krzysztof/Nowy/Doktorat - Modelling drug efficacy in cancer/Recommender System Approach/Scripts/Modules\")\n",
    "from modeling import Dataset, evaluate_predictions"
   ]
  },
  {
   "cell_type": "markdown",
   "metadata": {},
   "source": [
    "## Load KINOMEscan preprocessed dataset with intersection of proteins screened for drugs"
   ]
  },
  {
   "cell_type": "code",
   "execution_count": 3,
   "metadata": {},
   "outputs": [
    {
     "name": "stdout",
     "output_type": "stream",
     "text": [
      "Kinases Dataset <class 'modeling.Dataset'>\n",
      "\n",
      "Dataset containing 74 common drugs of GDSC and HMS LINCS Kinome scan dataset. \n",
      "- Cell lines data types: expression, coding variant and tissue type. Expressions and coding variants are \n",
      "present only for proteins present in both GDSC and KINOMEscan data, resulting in expression of 188 genes and\n",
      "mutations in 18 genes. Tissue types are dummy encoded GDSC Tissue Descriptions 1 (18 features).\n",
      "- Drugs representation: inhibition scores (% control) of 294 proteins. Set of proteins is the intersection of \n",
      "proteins screened for each of 74 drugs.\n",
      "- Drug response data: drug reponse data contains AUC metrics across cell lines for 74 drugs considered \n"
     ]
    }
   ],
   "source": [
    "filepath = \"../../Data/Preprocessed Datasets/\"\n",
    "with open(filepath + \"GDSC-KINOMEscan_proteins_intersection_dataset.pkl\", \"rb\") as f:\n",
    "    full_dataset = dill.load(f)\n",
    "print(full_dataset.name, type(full_dataset))\n",
    "print()\n",
    "print(full_dataset.description)"
   ]
  },
  {
   "cell_type": "markdown",
   "metadata": {},
   "source": [
    "## Data preprocessing"
   ]
  },
  {
   "cell_type": "markdown",
   "metadata": {},
   "source": [
    "#### Establish response data for samples (drug-cell line pairs)"
   ]
  },
  {
   "cell_type": "code",
   "execution_count": 4,
   "metadata": {},
   "outputs": [
    {
     "name": "stdout",
     "output_type": "stream",
     "text": [
      "(55936, 3) 987\n"
     ]
    },
    {
     "data": {
      "text/html": [
       "<div>\n",
       "<style scoped>\n",
       "    .dataframe tbody tr th:only-of-type {\n",
       "        vertical-align: middle;\n",
       "    }\n",
       "\n",
       "    .dataframe tbody tr th {\n",
       "        vertical-align: top;\n",
       "    }\n",
       "\n",
       "    .dataframe thead th {\n",
       "        text-align: right;\n",
       "    }\n",
       "</style>\n",
       "<table border=\"1\" class=\"dataframe\">\n",
       "  <thead>\n",
       "    <tr style=\"text-align: right;\">\n",
       "      <th></th>\n",
       "      <th>DRUG_ID</th>\n",
       "      <th>COSMIC_ID</th>\n",
       "      <th>AUC</th>\n",
       "    </tr>\n",
       "  </thead>\n",
       "  <tbody>\n",
       "    <tr>\n",
       "      <th>2748</th>\n",
       "      <td>29</td>\n",
       "      <td>683665</td>\n",
       "      <td>0.945160</td>\n",
       "    </tr>\n",
       "    <tr>\n",
       "      <th>2749</th>\n",
       "      <td>29</td>\n",
       "      <td>684055</td>\n",
       "      <td>0.926046</td>\n",
       "    </tr>\n",
       "    <tr>\n",
       "      <th>2750</th>\n",
       "      <td>29</td>\n",
       "      <td>684057</td>\n",
       "      <td>0.934873</td>\n",
       "    </tr>\n",
       "  </tbody>\n",
       "</table>\n",
       "</div>"
      ],
      "text/plain": [
       "      DRUG_ID  COSMIC_ID       AUC\n",
       "2748       29     683665  0.945160\n",
       "2749       29     684055  0.926046\n",
       "2750       29     684057  0.934873"
      ]
     },
     "execution_count": 4,
     "metadata": {},
     "output_type": "execute_result"
    }
   ],
   "source": [
    "response_df = full_dataset.response_data.copy()\n",
    "print(response_df.shape, response_df.COSMIC_ID.nunique())\n",
    "response_df.head(3)"
   ]
  },
  {
   "cell_type": "markdown",
   "metadata": {},
   "source": [
    "#### Establish cell line features data"
   ]
  },
  {
   "cell_type": "code",
   "execution_count": 5,
   "metadata": {},
   "outputs": [
    {
     "name": "stdout",
     "output_type": "stream",
     "text": [
      "(922, 225)\n"
     ]
    },
    {
     "data": {
      "text/html": [
       "<div>\n",
       "<style scoped>\n",
       "    .dataframe tbody tr th:only-of-type {\n",
       "        vertical-align: middle;\n",
       "    }\n",
       "\n",
       "    .dataframe tbody tr th {\n",
       "        vertical-align: top;\n",
       "    }\n",
       "\n",
       "    .dataframe thead th {\n",
       "        text-align: right;\n",
       "    }\n",
       "</style>\n",
       "<table border=\"1\" class=\"dataframe\">\n",
       "  <thead>\n",
       "    <tr style=\"text-align: right;\">\n",
       "      <th></th>\n",
       "      <th>cell_line_id</th>\n",
       "      <th>PRKX_exp</th>\n",
       "      <th>TIE1_exp</th>\n",
       "      <th>BMPR2_exp</th>\n",
       "      <th>PKMYT1_exp</th>\n",
       "      <th>ABL2_exp</th>\n",
       "      <th>PLK1_exp</th>\n",
       "      <th>ACVR1_exp</th>\n",
       "      <th>MAP3K4_mut</th>\n",
       "      <th>SRPK1_exp</th>\n",
       "      <th>...</th>\n",
       "      <th>Tissue_lung_SCLC</th>\n",
       "      <th>Tissue_lymphoma</th>\n",
       "      <th>Tissue_myeloma</th>\n",
       "      <th>Tissue_nervous_system</th>\n",
       "      <th>Tissue_neuroblastoma</th>\n",
       "      <th>Tissue_pancreas</th>\n",
       "      <th>Tissue_skin</th>\n",
       "      <th>Tissue_soft_tissue</th>\n",
       "      <th>Tissue_thyroid</th>\n",
       "      <th>Tissue_urogenital_system</th>\n",
       "    </tr>\n",
       "    <tr>\n",
       "      <th>cell_line_id</th>\n",
       "      <th></th>\n",
       "      <th></th>\n",
       "      <th></th>\n",
       "      <th></th>\n",
       "      <th></th>\n",
       "      <th></th>\n",
       "      <th></th>\n",
       "      <th></th>\n",
       "      <th></th>\n",
       "      <th></th>\n",
       "      <th></th>\n",
       "      <th></th>\n",
       "      <th></th>\n",
       "      <th></th>\n",
       "      <th></th>\n",
       "      <th></th>\n",
       "      <th></th>\n",
       "      <th></th>\n",
       "      <th></th>\n",
       "      <th></th>\n",
       "      <th></th>\n",
       "    </tr>\n",
       "  </thead>\n",
       "  <tbody>\n",
       "    <tr>\n",
       "      <th>906826</th>\n",
       "      <td>906826</td>\n",
       "      <td>4.787607</td>\n",
       "      <td>3.056350</td>\n",
       "      <td>6.395463</td>\n",
       "      <td>5.550737</td>\n",
       "      <td>5.492917</td>\n",
       "      <td>3.853142</td>\n",
       "      <td>4.384087</td>\n",
       "      <td>0</td>\n",
       "      <td>7.410108</td>\n",
       "      <td>...</td>\n",
       "      <td>0</td>\n",
       "      <td>0</td>\n",
       "      <td>0</td>\n",
       "      <td>0</td>\n",
       "      <td>0</td>\n",
       "      <td>0</td>\n",
       "      <td>0</td>\n",
       "      <td>0</td>\n",
       "      <td>0</td>\n",
       "      <td>0</td>\n",
       "    </tr>\n",
       "    <tr>\n",
       "      <th>687983</th>\n",
       "      <td>687983</td>\n",
       "      <td>5.001763</td>\n",
       "      <td>3.125097</td>\n",
       "      <td>6.634672</td>\n",
       "      <td>5.399054</td>\n",
       "      <td>5.113815</td>\n",
       "      <td>4.218736</td>\n",
       "      <td>4.786061</td>\n",
       "      <td>0</td>\n",
       "      <td>7.776150</td>\n",
       "      <td>...</td>\n",
       "      <td>1</td>\n",
       "      <td>0</td>\n",
       "      <td>0</td>\n",
       "      <td>0</td>\n",
       "      <td>0</td>\n",
       "      <td>0</td>\n",
       "      <td>0</td>\n",
       "      <td>0</td>\n",
       "      <td>0</td>\n",
       "      <td>0</td>\n",
       "    </tr>\n",
       "    <tr>\n",
       "      <th>910927</th>\n",
       "      <td>910927</td>\n",
       "      <td>5.459631</td>\n",
       "      <td>2.989998</td>\n",
       "      <td>7.945827</td>\n",
       "      <td>5.541005</td>\n",
       "      <td>4.519127</td>\n",
       "      <td>3.694307</td>\n",
       "      <td>4.414635</td>\n",
       "      <td>0</td>\n",
       "      <td>7.079021</td>\n",
       "      <td>...</td>\n",
       "      <td>0</td>\n",
       "      <td>0</td>\n",
       "      <td>0</td>\n",
       "      <td>0</td>\n",
       "      <td>0</td>\n",
       "      <td>0</td>\n",
       "      <td>0</td>\n",
       "      <td>0</td>\n",
       "      <td>0</td>\n",
       "      <td>0</td>\n",
       "    </tr>\n",
       "  </tbody>\n",
       "</table>\n",
       "<p>3 rows × 225 columns</p>\n",
       "</div>"
      ],
      "text/plain": [
       "              cell_line_id  PRKX_exp  TIE1_exp  BMPR2_exp  PKMYT1_exp  \\\n",
       "cell_line_id                                                            \n",
       "906826              906826  4.787607  3.056350   6.395463    5.550737   \n",
       "687983              687983  5.001763  3.125097   6.634672    5.399054   \n",
       "910927              910927  5.459631  2.989998   7.945827    5.541005   \n",
       "\n",
       "              ABL2_exp  PLK1_exp  ACVR1_exp  MAP3K4_mut  SRPK1_exp  \\\n",
       "cell_line_id                                                         \n",
       "906826        5.492917  3.853142   4.384087           0   7.410108   \n",
       "687983        5.113815  4.218736   4.786061           0   7.776150   \n",
       "910927        4.519127  3.694307   4.414635           0   7.079021   \n",
       "\n",
       "                        ...             Tissue_lung_SCLC  Tissue_lymphoma  \\\n",
       "cell_line_id            ...                                                 \n",
       "906826                  ...                            0                0   \n",
       "687983                  ...                            1                0   \n",
       "910927                  ...                            0                0   \n",
       "\n",
       "              Tissue_myeloma  Tissue_nervous_system  Tissue_neuroblastoma  \\\n",
       "cell_line_id                                                                \n",
       "906826                     0                      0                     0   \n",
       "687983                     0                      0                     0   \n",
       "910927                     0                      0                     0   \n",
       "\n",
       "              Tissue_pancreas  Tissue_skin  Tissue_soft_tissue  \\\n",
       "cell_line_id                                                     \n",
       "906826                      0            0                   0   \n",
       "687983                      0            0                   0   \n",
       "910927                      0            0                   0   \n",
       "\n",
       "              Tissue_thyroid  Tissue_urogenital_system  \n",
       "cell_line_id                                            \n",
       "906826                     0                         0  \n",
       "687983                     0                         0  \n",
       "910927                     0                         0  \n",
       "\n",
       "[3 rows x 225 columns]"
      ]
     },
     "execution_count": 5,
     "metadata": {},
     "output_type": "execute_result"
    }
   ],
   "source": [
    "cell_line_data_df = full_dataset.full_cell_lines_data.copy()\n",
    "print(cell_line_data_df.shape)\n",
    "cell_line_data_df.head(3)"
   ]
  },
  {
   "cell_type": "code",
   "execution_count": 6,
   "metadata": {},
   "outputs": [
    {
     "name": "stdout",
     "output_type": "stream",
     "text": [
      "66\n"
     ]
    }
   ],
   "source": [
    "# Search for cell lines present in response data, but missing the genomic features\n",
    "missing_cell_lines = []\n",
    "for cosmic_id in response_df.COSMIC_ID.unique():\n",
    "    if cosmic_id not in cell_line_data_df.cell_line_id.unique():\n",
    "        missing_cell_lines.append(cosmic_id)\n",
    "print(len(missing_cell_lines))"
   ]
  },
  {
   "cell_type": "code",
   "execution_count": 7,
   "metadata": {},
   "outputs": [],
   "source": [
    "# Put cell line IDs into index and drop cell line IDs columns\n",
    "cell_line_data_df.index = cell_line_data_df.cell_line_id\n",
    "cell_line_data_df = cell_line_data_df.drop(\"cell_line_id\", axis=1)"
   ]
  },
  {
   "cell_type": "code",
   "execution_count": 8,
   "metadata": {},
   "outputs": [
    {
     "name": "stdout",
     "output_type": "stream",
     "text": [
      "(55936, 3)\n",
      "(52730, 3)\n"
     ]
    }
   ],
   "source": [
    "# Extract response only for cell lines for which features are present\n",
    "print(response_df.shape)\n",
    "response_df = response_df[~response_df.COSMIC_ID.isin(missing_cell_lines)]\n",
    "print(response_df.shape)"
   ]
  },
  {
   "cell_type": "markdown",
   "metadata": {},
   "source": [
    "#### Establish drug features data"
   ]
  },
  {
   "cell_type": "code",
   "execution_count": 9,
   "metadata": {},
   "outputs": [
    {
     "name": "stdout",
     "output_type": "stream",
     "text": [
      "(74, 294)\n"
     ]
    },
    {
     "data": {
      "text/html": [
       "<div>\n",
       "<style scoped>\n",
       "    .dataframe tbody tr th:only-of-type {\n",
       "        vertical-align: middle;\n",
       "    }\n",
       "\n",
       "    .dataframe tbody tr th {\n",
       "        vertical-align: top;\n",
       "    }\n",
       "\n",
       "    .dataframe thead th {\n",
       "        text-align: right;\n",
       "    }\n",
       "</style>\n",
       "<table border=\"1\" class=\"dataframe\">\n",
       "  <thead>\n",
       "    <tr style=\"text-align: right;\">\n",
       "      <th>Protein</th>\n",
       "      <th>MAPKAPK2</th>\n",
       "      <th>MARK1</th>\n",
       "      <th>CAMKK2</th>\n",
       "      <th>MARK2</th>\n",
       "      <th>TGFBR1</th>\n",
       "      <th>ERK5</th>\n",
       "      <th>EPHA7</th>\n",
       "      <th>MK01</th>\n",
       "      <th>RAF1</th>\n",
       "      <th>TNNI3K</th>\n",
       "      <th>...</th>\n",
       "      <th>KGP1</th>\n",
       "      <th>ZAP70</th>\n",
       "      <th>ERK3</th>\n",
       "      <th>BLK</th>\n",
       "      <th>MYLK2</th>\n",
       "      <th>KPCD3</th>\n",
       "      <th>FGFR3</th>\n",
       "      <th>ACVR1</th>\n",
       "      <th>GSK3A</th>\n",
       "      <th>KPCD</th>\n",
       "    </tr>\n",
       "    <tr>\n",
       "      <th>Small Molecule</th>\n",
       "      <th></th>\n",
       "      <th></th>\n",
       "      <th></th>\n",
       "      <th></th>\n",
       "      <th></th>\n",
       "      <th></th>\n",
       "      <th></th>\n",
       "      <th></th>\n",
       "      <th></th>\n",
       "      <th></th>\n",
       "      <th></th>\n",
       "      <th></th>\n",
       "      <th></th>\n",
       "      <th></th>\n",
       "      <th></th>\n",
       "      <th></th>\n",
       "      <th></th>\n",
       "      <th></th>\n",
       "      <th></th>\n",
       "      <th></th>\n",
       "      <th></th>\n",
       "    </tr>\n",
       "  </thead>\n",
       "  <tbody>\n",
       "    <tr>\n",
       "      <th>1242</th>\n",
       "      <td>100.0</td>\n",
       "      <td>83.0</td>\n",
       "      <td>88.0</td>\n",
       "      <td>96.0</td>\n",
       "      <td>57.0</td>\n",
       "      <td>100.0</td>\n",
       "      <td>92.0</td>\n",
       "      <td>64.0</td>\n",
       "      <td>100.0</td>\n",
       "      <td>77.0</td>\n",
       "      <td>...</td>\n",
       "      <td>99.0</td>\n",
       "      <td>86.0</td>\n",
       "      <td>98.0</td>\n",
       "      <td>57.0</td>\n",
       "      <td>80.0</td>\n",
       "      <td>12.0</td>\n",
       "      <td>95.0</td>\n",
       "      <td>1.9</td>\n",
       "      <td>100.0</td>\n",
       "      <td>100.0</td>\n",
       "    </tr>\n",
       "    <tr>\n",
       "      <th>86</th>\n",
       "      <td>100.0</td>\n",
       "      <td>100.0</td>\n",
       "      <td>2.0</td>\n",
       "      <td>13.0</td>\n",
       "      <td>100.0</td>\n",
       "      <td>100.0</td>\n",
       "      <td>100.0</td>\n",
       "      <td>100.0</td>\n",
       "      <td>100.0</td>\n",
       "      <td>100.0</td>\n",
       "      <td>...</td>\n",
       "      <td>0.7</td>\n",
       "      <td>100.0</td>\n",
       "      <td>100.0</td>\n",
       "      <td>100.0</td>\n",
       "      <td>100.0</td>\n",
       "      <td>1.6</td>\n",
       "      <td>100.0</td>\n",
       "      <td>100.0</td>\n",
       "      <td>1.0</td>\n",
       "      <td>0.9</td>\n",
       "    </tr>\n",
       "    <tr>\n",
       "      <th>29</th>\n",
       "      <td>100.0</td>\n",
       "      <td>100.0</td>\n",
       "      <td>28.0</td>\n",
       "      <td>92.0</td>\n",
       "      <td>100.0</td>\n",
       "      <td>100.0</td>\n",
       "      <td>84.0</td>\n",
       "      <td>100.0</td>\n",
       "      <td>2.3</td>\n",
       "      <td>15.0</td>\n",
       "      <td>...</td>\n",
       "      <td>100.0</td>\n",
       "      <td>100.0</td>\n",
       "      <td>100.0</td>\n",
       "      <td>1.0</td>\n",
       "      <td>100.0</td>\n",
       "      <td>88.0</td>\n",
       "      <td>100.0</td>\n",
       "      <td>100.0</td>\n",
       "      <td>100.0</td>\n",
       "      <td>89.0</td>\n",
       "    </tr>\n",
       "  </tbody>\n",
       "</table>\n",
       "<p>3 rows × 294 columns</p>\n",
       "</div>"
      ],
      "text/plain": [
       "Protein         MAPKAPK2  MARK1  CAMKK2  MARK2  TGFBR1   ERK5  EPHA7   MK01  \\\n",
       "Small Molecule                                                                \n",
       "1242               100.0   83.0    88.0   96.0    57.0  100.0   92.0   64.0   \n",
       "86                 100.0  100.0     2.0   13.0   100.0  100.0  100.0  100.0   \n",
       "29                 100.0  100.0    28.0   92.0   100.0  100.0   84.0  100.0   \n",
       "\n",
       "Protein          RAF1  TNNI3K  ...     KGP1  ZAP70   ERK3    BLK  MYLK2  \\\n",
       "Small Molecule                 ...                                        \n",
       "1242            100.0    77.0  ...     99.0   86.0   98.0   57.0   80.0   \n",
       "86              100.0   100.0  ...      0.7  100.0  100.0  100.0  100.0   \n",
       "29                2.3    15.0  ...    100.0  100.0  100.0    1.0  100.0   \n",
       "\n",
       "Protein         KPCD3  FGFR3  ACVR1  GSK3A   KPCD  \n",
       "Small Molecule                                     \n",
       "1242             12.0   95.0    1.9  100.0  100.0  \n",
       "86                1.6  100.0  100.0    1.0    0.9  \n",
       "29               88.0  100.0  100.0  100.0   89.0  \n",
       "\n",
       "[3 rows x 294 columns]"
      ]
     },
     "execution_count": 9,
     "metadata": {},
     "output_type": "execute_result"
    }
   ],
   "source": [
    "drug_data_df = full_dataset.drugs_data.copy()\n",
    "print(drug_data_df.shape)\n",
    "# Convert drug index from LINCS name to GDSC drug ID\n",
    "drug_data_df.index = drug_data_df.index.map(full_dataset.kinomescan_name_to_gdsc_id_mapper)\n",
    "drug_data_df.head(3)"
   ]
  },
  {
   "cell_type": "code",
   "execution_count": 10,
   "metadata": {},
   "outputs": [
    {
     "name": "stdout",
     "output_type": "stream",
     "text": [
      "0\n"
     ]
    }
   ],
   "source": [
    "# Search for drugs present in response data, but missing the drug features\n",
    "missing_drugs = []\n",
    "for drug_id in response_df.DRUG_ID.unique():\n",
    "    if drug_id not in drug_data_df.index:\n",
    "        print(drug_id)\n",
    "        missing_drugs.append(drug_id)\n",
    "print(len(missing_drugs))"
   ]
  },
  {
   "cell_type": "markdown",
   "metadata": {},
   "source": [
    "#### Split drug response data into training/validation/test "
   ]
  },
  {
   "cell_type": "code",
   "execution_count": 11,
   "metadata": {},
   "outputs": [
    {
     "name": "stdout",
     "output_type": "stream",
     "text": [
      "(922, 224) 74 922\n",
      "(52730, 3) 74 921\n"
     ]
    }
   ],
   "source": [
    "print(cell_line_data_df.shape, drug_data_df.index.nunique(), cell_line_data_df.index.nunique())\n",
    "print(response_df.shape, response_df.DRUG_ID.nunique(), response_df.COSMIC_ID.nunique())"
   ]
  },
  {
   "cell_type": "code",
   "execution_count": 12,
   "metadata": {},
   "outputs": [],
   "source": [
    "# Split the data into train, validation and test, separating subset of cell lines\n",
    "# val_ratio = 0.25\n",
    "# num_separated_cell_lines = 30\n",
    "\n",
    "# # Extract samples with cell lines separated from training\n",
    "# separated_cell_lines = list(np.random.choice(response_df.COSMIC_ID.unique(), size=20))\n",
    "# separated_samples = response_df[response_df.COSMIC_ID.isin(separated_cell_lines)]\n",
    "\n",
    "# # Extract rest\n",
    "# rest = response_df[~response_df.COSMIC_ID.isin(separated_cell_lines)]\n",
    "\n",
    "# train_samples = rest[int(val_ratio * response_df.shape[0]):]\n",
    "# val_samples = rest[:int(val_ratio * response_df.shape[0])]\n",
    "\n",
    "# print(train_samples.shape, val_samples.shape, separated_samples.shape)"
   ]
  },
  {
   "cell_type": "code",
   "execution_count": 13,
   "metadata": {},
   "outputs": [],
   "source": [
    "# Shuffle all the samples\n",
    "response_df = response_df.sample(frac=1., random_state=2)"
   ]
  },
  {
   "cell_type": "code",
   "execution_count": 14,
   "metadata": {},
   "outputs": [
    {
     "name": "stdout",
     "output_type": "stream",
     "text": [
      "(52730, 3) (41183, 3) (5866, 3) (5681, 3)\n",
      "921 721 100 100\n"
     ]
    }
   ],
   "source": [
    "# Split the data into train, validation and test set, separating distinct cell lines\n",
    "# Specify how many cell lines go to validation and test sets\n",
    "num_cell_lines_val = 100\n",
    "num_cell_lines_test = 100\n",
    "\n",
    "# Extract test cell lines samples\n",
    "cell_lines_test = list(np.random.choice(response_df.COSMIC_ID.unique(), size=num_cell_lines_test,\n",
    "                                       replace=False))\n",
    "samples_test = response_df[response_df.COSMIC_ID.isin(cell_lines_test)]\n",
    "\n",
    "# Extract rest\n",
    "rest = response_df[~response_df.COSMIC_ID.isin(cell_lines_test)]\n",
    "\n",
    "# Extract validation cell lines samples\n",
    "cell_lines_val = list(np.random.choice(rest.COSMIC_ID.unique(), size=num_cell_lines_val,\n",
    "                                       replace=False))\n",
    "samples_val = rest[rest.COSMIC_ID.isin(cell_lines_val)]\n",
    "\n",
    "# Extract rest (training set)\n",
    "samples_train = rest[~rest.COSMIC_ID.isin(cell_lines_val)]\n",
    "\n",
    "print(response_df.shape, samples_train.shape, samples_val.shape, samples_test.shape)\n",
    "print(response_df.COSMIC_ID.nunique(), samples_train.COSMIC_ID.nunique(), samples_val.COSMIC_ID.nunique(),\n",
    "     samples_test.COSMIC_ID.nunique())"
   ]
  },
  {
   "cell_type": "code",
   "execution_count": 15,
   "metadata": {},
   "outputs": [
    {
     "data": {
      "text/plain": [
       "set()"
      ]
     },
     "execution_count": 15,
     "metadata": {},
     "output_type": "execute_result"
    }
   ],
   "source": [
    "set(samples_test.COSMIC_ID.unique()).intersection(set(samples_val.COSMIC_ID.unique()))"
   ]
  },
  {
   "cell_type": "code",
   "execution_count": null,
   "metadata": {},
   "outputs": [],
   "source": []
  },
  {
   "cell_type": "markdown",
   "metadata": {},
   "source": [
    "#### Normalize / standardize the data"
   ]
  },
  {
   "cell_type": "code",
   "execution_count": 16,
   "metadata": {},
   "outputs": [
    {
     "name": "stdout",
     "output_type": "stream",
     "text": [
      "(922, 224) 0.0037008063085167226 193.8143783941021\n"
     ]
    }
   ],
   "source": [
    "# Cell line data\n",
    "cols_subset = [col for col in list(cell_line_data_df) if col.endswith(\"_exp\")]\n",
    "rows_subset = [x for x in cell_line_data_df.index if x not in cell_lines_test + cell_lines_val]\n",
    "\n",
    "cell_line_data_df = Dataset.standardize_data(cell_line_data_df, cols_subset=cols_subset,\n",
    "                                            rows_subset=rows_subset)\n",
    "print(cell_line_data_df.shape, cell_line_data_df.mean().mean(),\n",
    "     cell_line_data_df.std().sum())"
   ]
  },
  {
   "cell_type": "code",
   "execution_count": 17,
   "metadata": {},
   "outputs": [
    {
     "name": "stdout",
     "output_type": "stream",
     "text": [
      "(74, 294)\n",
      "(74, 294) 2.196104424744604e-17 294.0\n"
     ]
    }
   ],
   "source": [
    "# Drug data\n",
    "print(drug_data_df.shape)\n",
    "drug_data_df = Dataset.standardize_data(drug_data_df)\n",
    "print(drug_data_df.shape, drug_data_df.mean().mean(),\n",
    "     drug_data_df.std().sum())"
   ]
  },
  {
   "cell_type": "markdown",
   "metadata": {},
   "source": [
    "## Model definition"
   ]
  },
  {
   "cell_type": "code",
   "execution_count": 80,
   "metadata": {},
   "outputs": [],
   "source": [
    "# Model definition\n",
    "class LinearMatrixFactorizationWithFeatures(torch.nn.Module):\n",
    "    def __init__(self, drug_input_dim, cell_line_input_dim, output_dim, \n",
    "                 out_activation_func=None,\n",
    "                 drug_bias=True,\n",
    "                 cell_line_bias=True):\n",
    "        super(LinearMatrixFactorizationWithFeatures, self).__init__()\n",
    "        self.drug_linear = torch.nn.Linear(drug_input_dim, output_dim, bias=drug_bias)\n",
    "        self.cell_line_linear = torch.nn.Linear(cell_line_input_dim, output_dim, bias=cell_line_bias)\n",
    "        self.out_activation = out_activation_func\n",
    "        \n",
    "    def forward(self, drug_features, cell_line_features):\n",
    "        drug_outputs = self.drug_linear(drug_features)\n",
    "        cell_line_outputs = self.cell_line_linear(cell_line_features)\n",
    "        \n",
    "        final_outputs = torch.sum(torch.mul(drug_outputs, cell_line_outputs), dim=1).view(-1, 1)\n",
    "        if self.out_activation:\n",
    "            return self.out_activation(final_outputs)\n",
    "        return final_outputs"
   ]
  },
  {
   "cell_type": "markdown",
   "metadata": {},
   "source": [
    "## Model training"
   ]
  },
  {
   "cell_type": "code",
   "execution_count": 81,
   "metadata": {},
   "outputs": [
    {
     "name": "stdout",
     "output_type": "stream",
     "text": [
      "(2000, 3) 0.832467058\n"
     ]
    }
   ],
   "source": [
    "# Take sample of whole training data if needed\n",
    "samples_train = samples_train.sample(2000, random_state=2)\n",
    "print(samples_train.shape, samples_train[\"AUC\"].mean())"
   ]
  },
  {
   "cell_type": "markdown",
   "metadata": {},
   "source": [
    "#### Specify hyperparameters"
   ]
  },
  {
   "cell_type": "code",
   "execution_count": 82,
   "metadata": {},
   "outputs": [
    {
     "data": {
      "text/plain": [
       "LinearMatrixFactorizationWithFeatures(\n",
       "  (drug_linear): Linear(in_features=294, out_features=10, bias=True)\n",
       "  (cell_line_linear): Linear(in_features=224, out_features=10, bias=True)\n",
       ")"
      ]
     },
     "execution_count": 82,
     "metadata": {},
     "output_type": "execute_result"
    }
   ],
   "source": [
    "# Specify shape of input\n",
    "drug_dim = drug_data_df.shape[1]\n",
    "cell_line_dim = cell_line_data_df.shape[1]\n",
    "\n",
    "# Specify learning hyperparameters\n",
    "learning_rate = 0.001\n",
    "epochs = 50\n",
    "output_dim = 10\n",
    "batch_size = 32\n",
    "no_batches = samples_train.shape[0] // batch_size + 1\n",
    "\n",
    "model = LinearMatrixFactorizationWithFeatures(drug_dim, cell_line_dim, output_dim,\n",
    "                                             drug_bias=True,\n",
    "                                             cell_line_bias=True,\n",
    "                                             out_activation_func=torch.sigmoid)\n",
    "\n",
    "# Define loss function and optimizer\n",
    "weight_decay = 0.\n",
    "reg_lambda = 0.001\n",
    "\n",
    "criterion = torch.nn.MSELoss()\n",
    "optimizer = torch.optim.SGD(model.parameters(), lr=learning_rate, weight_decay=weight_decay)\n",
    "\n",
    "# Display text representation of model\n",
    "model"
   ]
  },
  {
   "cell_type": "code",
   "execution_count": 103,
   "metadata": {},
   "outputs": [
    {
     "name": "stdout",
     "output_type": "stream",
     "text": [
      "torch.Size([10, 294]) tensor(1.7830, grad_fn=<NormBackward0>)\n",
      "torch.Size([10]) tensor(0.1255, grad_fn=<NormBackward0>)\n",
      "torch.Size([10, 224]) tensor(1.7848, grad_fn=<NormBackward0>)\n",
      "torch.Size([10]) tensor(0.1051, grad_fn=<NormBackward0>)\n"
     ]
    }
   ],
   "source": []
  },
  {
   "cell_type": "code",
   "execution_count": 88,
   "metadata": {},
   "outputs": [
    {
     "data": {
      "text/plain": [
       "tensor(0.5000)"
      ]
     },
     "execution_count": 88,
     "metadata": {},
     "output_type": "execute_result"
    }
   ],
   "source": [
    "model.out_activation(torch.tensor(0.))"
   ]
  },
  {
   "cell_type": "markdown",
   "metadata": {},
   "source": [
    "#### Training loop"
   ]
  },
  {
   "cell_type": "code",
   "execution_count": 89,
   "metadata": {},
   "outputs": [
    {
     "name": "stdout",
     "output_type": "stream",
     "text": [
      "Epoch 1, loss: 0.2138\n",
      "Epoch 2, loss: 0.2047\n",
      "Epoch 3, loss: 0.1963\n",
      "Epoch 4, loss: 0.1885\n",
      "Epoch 5, loss: 0.1814\n",
      "Epoch 6, loss: 0.1750\n",
      "Epoch 7, loss: 0.1693\n",
      "Epoch 8, loss: 0.1642\n",
      "Epoch 9, loss: 0.1597\n",
      "Epoch 10, loss: 0.1556\n",
      "Epoch 11, loss: 0.1521\n",
      "Epoch 12, loss: 0.1488\n",
      "Epoch 13, loss: 0.1460\n",
      "Epoch 14, loss: 0.1433\n",
      "Epoch 15, loss: 0.1410\n",
      "Epoch 16, loss: 0.1388\n",
      "Epoch 17, loss: 0.1368\n",
      "Epoch 18, loss: 0.1350\n",
      "Epoch 19, loss: 0.1333\n",
      "Epoch 20, loss: 0.1317\n",
      "Epoch 21, loss: 0.1303\n",
      "Epoch 22, loss: 0.1289\n",
      "Epoch 23, loss: 0.1276\n",
      "Epoch 24, loss: 0.1265\n",
      "Epoch 25, loss: 0.1253\n",
      "Epoch 26, loss: 0.1243\n",
      "Epoch 27, loss: 0.1233\n",
      "Epoch 28, loss: 0.1224\n",
      "Epoch 29, loss: 0.1215\n",
      "Epoch 30, loss: 0.1206\n",
      "Epoch 31, loss: 0.1199\n",
      "Epoch 32, loss: 0.1191\n",
      "Epoch 33, loss: 0.1184\n",
      "Epoch 34, loss: 0.1177\n",
      "Epoch 35, loss: 0.1170\n",
      "Epoch 36, loss: 0.1164\n",
      "Epoch 37, loss: 0.1157\n",
      "Epoch 38, loss: 0.1151\n",
      "Epoch 39, loss: 0.1146\n",
      "Epoch 40, loss: 0.1140\n",
      "Epoch 41, loss: 0.1135\n",
      "Epoch 42, loss: 0.1129\n",
      "Epoch 43, loss: 0.1124\n",
      "Epoch 44, loss: 0.1119\n",
      "Epoch 45, loss: 0.1114\n",
      "Epoch 46, loss: 0.1109\n",
      "Epoch 47, loss: 0.1105\n",
      "Epoch 48, loss: 0.1100\n",
      "Epoch 49, loss: 0.1096\n",
      "Epoch 50, loss: 0.1091\n"
     ]
    }
   ],
   "source": [
    "# Training the model\n",
    "model.train()\n",
    "for epoch in range(epochs):\n",
    "    for batch in range(no_batches):\n",
    "        # Separate response variable batch\n",
    "        if batch != no_batches:\n",
    "            samples_batch = samples_train.iloc[batch * batch_size:(batch + 1) * batch_size]\n",
    "        else:\n",
    "            samples_batch = samples_train.iloc[batch * batch_size:]\n",
    "            \n",
    "        # Extract output variable batch\n",
    "        y_batch = torch.from_numpy(samples_batch[\"AUC\"].values).view(-1, 1)\n",
    "        \n",
    "        # Extract cell lines IDs for which data shall be extracted\n",
    "        cl_ids = samples_batch[\"COSMIC_ID\"].values\n",
    "        # Extract corresponding cell line data\n",
    "        cell_line_input_batch = cell_line_data_df.loc[cl_ids].values\n",
    "        cell_line_input_batch = torch.from_numpy(cell_line_input_batch)\n",
    "        \n",
    "        # Extract drug IDs for which data shall be extracted\n",
    "        drug_ids = samples_batch[\"DRUG_ID\"].values\n",
    "        # Extract corresponding drug data\n",
    "        drug_input_batch = drug_data_df.loc[drug_ids].values\n",
    "        drug_input_batch = torch.from_numpy(drug_input_batch)\n",
    "        \n",
    "        # Clear gradient buffers because we don't want to accummulate gradients \n",
    "        optimizer.zero_grad()\n",
    "        \n",
    "        # Perform forward pass\n",
    "        batch_output = model(drug_input_batch.float(), cell_line_input_batch.float())\n",
    "        \n",
    "        reg = 0\n",
    "        for param in model.parameters():\n",
    "            reg += 0.5 * (param ** 2).sum()  # L2 norm\n",
    "        \n",
    "        # Compute the loss for this batch\n",
    "        loss = criterion(batch_output, y_batch.float()) + reg_lambda * reg\n",
    "        # Get the gradients w.r.t. the parameters\n",
    "        loss.backward()\n",
    "        # Update the parameters\n",
    "        optimizer.step()\n",
    "        \n",
    "        #print(\"Epoch {}, batch {}, loss: {:.3f}\".format(epoch + 1, batch + 1, loss.item()))\n",
    "    print(\"Epoch {}, loss: {:.4f}\".format(epoch + 1, loss.item()))"
   ]
  },
  {
   "cell_type": "markdown",
   "metadata": {},
   "source": [
    "## Model evaluation"
   ]
  },
  {
   "cell_type": "code",
   "execution_count": 90,
   "metadata": {},
   "outputs": [],
   "source": [
    "# Establish mean of AUC in training data for baseline model evaluation\n",
    "mean_training_auc = samples_train[\"AUC\"].mean()"
   ]
  },
  {
   "cell_type": "markdown",
   "metadata": {},
   "source": [
    "#### Evaluate on training data"
   ]
  },
  {
   "cell_type": "code",
   "execution_count": 91,
   "metadata": {},
   "outputs": [
    {
     "data": {
      "text/html": [
       "<div>\n",
       "<style scoped>\n",
       "    .dataframe tbody tr th:only-of-type {\n",
       "        vertical-align: middle;\n",
       "    }\n",
       "\n",
       "    .dataframe tbody tr th {\n",
       "        vertical-align: top;\n",
       "    }\n",
       "\n",
       "    .dataframe thead th {\n",
       "        text-align: right;\n",
       "    }\n",
       "</style>\n",
       "<table border=\"1\" class=\"dataframe\">\n",
       "  <thead>\n",
       "    <tr style=\"text-align: right;\">\n",
       "      <th></th>\n",
       "      <th>DRUG_ID</th>\n",
       "      <th>COSMIC_ID</th>\n",
       "      <th>AUC</th>\n",
       "    </tr>\n",
       "  </thead>\n",
       "  <tbody>\n",
       "    <tr>\n",
       "      <th>214171</th>\n",
       "      <td>1049</td>\n",
       "      <td>907790</td>\n",
       "      <td>0.973409</td>\n",
       "    </tr>\n",
       "    <tr>\n",
       "      <th>222935</th>\n",
       "      <td>1061</td>\n",
       "      <td>1290905</td>\n",
       "      <td>0.986523</td>\n",
       "    </tr>\n",
       "    <tr>\n",
       "      <th>195805</th>\n",
       "      <td>1022</td>\n",
       "      <td>910903</td>\n",
       "      <td>0.625504</td>\n",
       "    </tr>\n",
       "  </tbody>\n",
       "</table>\n",
       "</div>"
      ],
      "text/plain": [
       "        DRUG_ID  COSMIC_ID       AUC\n",
       "214171     1049     907790  0.973409\n",
       "222935     1061    1290905  0.986523\n",
       "195805     1022     910903  0.625504"
      ]
     },
     "execution_count": 91,
     "metadata": {},
     "output_type": "execute_result"
    }
   ],
   "source": [
    "# Do some sample predictions on trainig data\n",
    "# Sample data points\n",
    "sample = samples_train.sample(3)\n",
    "sample"
   ]
  },
  {
   "cell_type": "code",
   "execution_count": 92,
   "metadata": {},
   "outputs": [
    {
     "name": "stdout",
     "output_type": "stream",
     "text": [
      "tensor([[0.3788],\n",
      "        [0.4570],\n",
      "        [0.5779]]) torch.Size([3, 1])\n"
     ]
    }
   ],
   "source": [
    "# Do some predictions on training data\n",
    "cl_input = cell_line_data_df.loc[sample[\"COSMIC_ID\"].values].values\n",
    "drug_input = drug_data_df.loc[sample[\"DRUG_ID\"].values].values\n",
    "\n",
    "model.eval()\n",
    "with torch.no_grad():\n",
    "    predicted = model(torch.from_numpy(drug_input).float(), \n",
    "                     torch.from_numpy(cl_input).float())\n",
    "print(predicted, predicted.shape)"
   ]
  },
  {
   "cell_type": "code",
   "execution_count": 93,
   "metadata": {},
   "outputs": [
    {
     "name": "stdout",
     "output_type": "stream",
     "text": [
      "torch.Size([1]) tensor([-0.4947], grad_fn=<AddBackward0>)\n"
     ]
    }
   ],
   "source": [
    "# Do predictions manually\n",
    "drug_out = torch.from_numpy(drug_input[0].reshape(-1, 294)).float() @ model.drug_linear.weight.t() + \\\n",
    "                                                                    model.drug_linear.bias\n",
    "cl_out = torch.from_numpy(cl_input[0].reshape(-1, 224)).float() @ model.cell_line_linear.weight.t() + \\\n",
    "                                                            model.cell_line_linear.bias\n",
    "final_out = torch.zeros(drug_out.shape[0])\n",
    "for k in range(drug_out.shape[1]):\n",
    "    final_out = final_out + drug_out[:, k] * cl_out[:, k]\n",
    "print(final_out.shape, final_out)"
   ]
  },
  {
   "cell_type": "code",
   "execution_count": 94,
   "metadata": {},
   "outputs": [
    {
     "name": "stdout",
     "output_type": "stream",
     "text": [
      "torch.Size([2000, 1]) tensor(0.9092) tensor(0.0773) tensor(0.5378)\n",
      "Baseline scores:\n",
      "RMSE: 0.1832172409697369\n",
      "Correlation: (nan, nan)\n",
      "\n",
      "Model scores:\n",
      "tensor(0.9092) tensor(0.0773) tensor(0.5378)\n",
      "RMSE: 0.3603673134686759\n",
      "Correlation: (0.13743440517801775, 6.755210541907133e-10)\n"
     ]
    },
    {
     "name": "stderr",
     "output_type": "stream",
     "text": [
      "/home/krzysztof/.local/lib/python3.6/site-packages/scipy/stats/stats.py:3399: PearsonRConstantInputWarning: An input array is constant; the correlation coefficent is not defined.\n",
      "  warnings.warn(PearsonRConstantInputWarning())\n"
     ]
    }
   ],
   "source": [
    "# Predict on training data\n",
    "sample = samples_train.iloc[:]\n",
    "y_true = sample[\"AUC\"].values\n",
    "\n",
    "# Create baseline predictions(mean AUC)\n",
    "mean_preds = np.array([mean_training_auc] * sample.shape[0])\n",
    "\n",
    "cl_input = cell_line_data_df.loc[sample[\"COSMIC_ID\"].values].values\n",
    "drug_input = drug_data_df.loc[sample[\"DRUG_ID\"].values].values\n",
    "\n",
    "model.eval()\n",
    "with torch.no_grad():\n",
    "    predicted = model(torch.from_numpy(drug_input).float(), \n",
    "                     torch.from_numpy(cl_input).float())\n",
    "    \n",
    "del cl_input, drug_input\n",
    "\n",
    "print(predicted.shape, predicted.max(), predicted.min(), predicted.mean())\n",
    "print(\"Baseline scores:\")\n",
    "evaluate_predictions(y_true, mean_preds)\n",
    "print()\n",
    "print(\"Model scores:\")\n",
    "print(predicted.max(), predicted.min(), predicted.mean())\n",
    "evaluate_predictions(y_true, predicted.reshape(-1))"
   ]
  },
  {
   "cell_type": "code",
   "execution_count": 95,
   "metadata": {},
   "outputs": [
    {
     "name": "stdout",
     "output_type": "stream",
     "text": [
      "(74, 6) 74\n",
      "0.0718936213087171\n"
     ]
    },
    {
     "name": "stderr",
     "output_type": "stream",
     "text": [
      "/home/krzysztof/.local/lib/python3.6/site-packages/scipy/stats/stats.py:3399: PearsonRConstantInputWarning: An input array is constant; the correlation coefficent is not defined.\n",
      "  warnings.warn(PearsonRConstantInputWarning())\n"
     ]
    }
   ],
   "source": [
    "# Compute evaluation metrics per drug\n",
    "sample_with_predictions = sample.copy()\n",
    "sample_with_predictions[\"Predicted AUC\"] = predicted.numpy()\n",
    "\n",
    "drugs = []\n",
    "model_corrs = []\n",
    "model_rmses = []\n",
    "dummy_corrs = []\n",
    "dummy_rmses = []\n",
    "no_samples = []\n",
    "\n",
    "for drug in sample_with_predictions.DRUG_ID.unique():\n",
    "    df = sample_with_predictions[sample_with_predictions.DRUG_ID == drug]\n",
    "    mean_true_auc = df[\"AUC\"].mean()\n",
    "    dummy_preds = [mean_true_auc] * df.shape[0]\n",
    "    dummy_rmse = metrics.mean_squared_error(df[\"AUC\"], dummy_preds) ** 0.5\n",
    "    dummy_corr = pearsonr(df[\"AUC\"], dummy_preds)\n",
    "    \n",
    "    model_rmse = metrics.mean_squared_error(df[\"AUC\"], df[\"Predicted AUC\"]) ** 0.5\n",
    "    model_corr = pearsonr(df[\"AUC\"], df[\"Predicted AUC\"])\n",
    "    \n",
    "    drugs.append(drug)\n",
    "    dummy_rmses.append(dummy_rmse)\n",
    "    dummy_corrs.append(dummy_corr[0])\n",
    "    \n",
    "    model_rmses.append(model_rmse)\n",
    "    model_corrs.append(model_corr[0])\n",
    "    \n",
    "    no_samples.append(df.COSMIC_ID.nunique())\n",
    "\n",
    "corrs_per_drug = pd.DataFrame()\n",
    "corrs_per_drug[\"Drug ID\"] = drugs\n",
    "corrs_per_drug[\"Model RMSE\"] = model_rmses\n",
    "corrs_per_drug[\"Model correlation\"] = model_corrs\n",
    "\n",
    "corrs_per_drug[\"Dummy RMSE\"] = dummy_rmses\n",
    "corrs_per_drug[\"Dummy correlation\"] = dummy_corrs\n",
    "corrs_per_drug[\"No. samples\"] = no_samples\n",
    "\n",
    "print(corrs_per_drug.shape, corrs_per_drug[\"Drug ID\"].nunique())\n",
    "print(corrs_per_drug[\"Model correlation\"].median())"
   ]
  },
  {
   "cell_type": "code",
   "execution_count": 99,
   "metadata": {},
   "outputs": [
    {
     "data": {
      "text/html": [
       "<div>\n",
       "<style scoped>\n",
       "    .dataframe tbody tr th:only-of-type {\n",
       "        vertical-align: middle;\n",
       "    }\n",
       "\n",
       "    .dataframe tbody tr th {\n",
       "        vertical-align: top;\n",
       "    }\n",
       "\n",
       "    .dataframe thead th {\n",
       "        text-align: right;\n",
       "    }\n",
       "</style>\n",
       "<table border=\"1\" class=\"dataframe\">\n",
       "  <thead>\n",
       "    <tr style=\"text-align: right;\">\n",
       "      <th></th>\n",
       "      <th>Drug ID</th>\n",
       "      <th>Model RMSE</th>\n",
       "      <th>Model correlation</th>\n",
       "      <th>Dummy RMSE</th>\n",
       "      <th>Dummy correlation</th>\n",
       "      <th>No. samples</th>\n",
       "    </tr>\n",
       "  </thead>\n",
       "  <tbody>\n",
       "    <tr>\n",
       "      <th>69</th>\n",
       "      <td>94</td>\n",
       "      <td>0.425004</td>\n",
       "      <td>0.732932</td>\n",
       "      <td>0.144999</td>\n",
       "      <td>NaN</td>\n",
       "      <td>7</td>\n",
       "    </tr>\n",
       "    <tr>\n",
       "      <th>71</th>\n",
       "      <td>86</td>\n",
       "      <td>0.302905</td>\n",
       "      <td>0.554130</td>\n",
       "      <td>0.134080</td>\n",
       "      <td>NaN</td>\n",
       "      <td>16</td>\n",
       "    </tr>\n",
       "    <tr>\n",
       "      <th>44</th>\n",
       "      <td>1799</td>\n",
       "      <td>0.303762</td>\n",
       "      <td>0.550416</td>\n",
       "      <td>0.143002</td>\n",
       "      <td>NaN</td>\n",
       "      <td>27</td>\n",
       "    </tr>\n",
       "    <tr>\n",
       "      <th>64</th>\n",
       "      <td>56</td>\n",
       "      <td>0.313615</td>\n",
       "      <td>0.528029</td>\n",
       "      <td>0.268472</td>\n",
       "      <td>NaN</td>\n",
       "      <td>9</td>\n",
       "    </tr>\n",
       "    <tr>\n",
       "      <th>65</th>\n",
       "      <td>1161</td>\n",
       "      <td>0.305534</td>\n",
       "      <td>0.498945</td>\n",
       "      <td>0.109356</td>\n",
       "      <td>NaN</td>\n",
       "      <td>17</td>\n",
       "    </tr>\n",
       "  </tbody>\n",
       "</table>\n",
       "</div>"
      ],
      "text/plain": [
       "    Drug ID  Model RMSE  Model correlation  Dummy RMSE  Dummy correlation  \\\n",
       "69       94    0.425004           0.732932    0.144999                NaN   \n",
       "71       86    0.302905           0.554130    0.134080                NaN   \n",
       "44     1799    0.303762           0.550416    0.143002                NaN   \n",
       "64       56    0.313615           0.528029    0.268472                NaN   \n",
       "65     1161    0.305534           0.498945    0.109356                NaN   \n",
       "\n",
       "    No. samples  \n",
       "69            7  \n",
       "71           16  \n",
       "44           27  \n",
       "64            9  \n",
       "65           17  "
      ]
     },
     "execution_count": 99,
     "metadata": {},
     "output_type": "execute_result"
    }
   ],
   "source": [
    "corrs_per_drug.sort_values(\"Model correlation\", ascending=False).head()"
   ]
  },
  {
   "cell_type": "code",
   "execution_count": 96,
   "metadata": {},
   "outputs": [
    {
     "data": {
      "image/png": "[encoded data removed]",
      "text/plain": [
       "<Figure size 864x288 with 1 Axes>"
      ]
     },
     "metadata": {},
     "output_type": "display_data"
    }
   ],
   "source": [
    "# Plot per-drug results\n",
    "plt.figure(figsize=(12, 4))\n",
    "plt.xticks(rotation=90)\n",
    "sns.barplot(x=\"Drug ID\", y=\"Model correlation\", data=corrs_per_drug,\n",
    "           order=corrs_per_drug.sort_values(\"Model correlation\", ascending=False)[\"Drug ID\"])\n",
    "\n",
    "plt.show()"
   ]
  },
  {
   "cell_type": "markdown",
   "metadata": {},
   "source": [
    "#### Evaluation on validation set"
   ]
  },
  {
   "cell_type": "code",
   "execution_count": 63,
   "metadata": {},
   "outputs": [
    {
     "name": "stdout",
     "output_type": "stream",
     "text": [
      "(5866, 3)\n"
     ]
    }
   ],
   "source": [
    "print(samples_val.shape)"
   ]
  },
  {
   "cell_type": "code",
   "execution_count": 64,
   "metadata": {},
   "outputs": [
    {
     "name": "stdout",
     "output_type": "stream",
     "text": [
      "torch.Size([5866, 1]) tensor(2.3811) tensor(-4.0338) tensor(0.5972)\n",
      "Baseline scores:\n",
      "RMSE: 0.18352162371871672\n",
      "Correlation: (nan, nan)\n",
      "\n",
      "Model scores:\n",
      "tensor(2.3811) tensor(-4.0338) tensor(0.5972)\n",
      "RMSE: 0.5463192625697165\n",
      "Correlation: (0.11624790267467003, 4.1911948227930274e-19)\n"
     ]
    },
    {
     "name": "stderr",
     "output_type": "stream",
     "text": [
      "/home/krzysztof/.local/lib/python3.6/site-packages/scipy/stats/stats.py:3399: PearsonRConstantInputWarning: An input array is constant; the correlation coefficent is not defined.\n",
      "  warnings.warn(PearsonRConstantInputWarning())\n"
     ]
    }
   ],
   "source": [
    "# Predict on validation data and evaluate\n",
    "sample = samples_val[:]\n",
    "y_true = sample[\"AUC\"].values\n",
    "\n",
    "# Create baseline predictions(mean AUC)\n",
    "mean_preds = np.array([mean_training_auc] * sample.shape[0])\n",
    "\n",
    "cl_input = cell_line_data_df.loc[sample[\"COSMIC_ID\"].values].values\n",
    "drug_input = drug_data_df.loc[sample[\"DRUG_ID\"].values].values\n",
    "\n",
    "model.eval()\n",
    "with torch.no_grad():\n",
    "    predicted = model(torch.from_numpy(drug_input).float(), \n",
    "                     torch.from_numpy(cl_input).float())\n",
    "    \n",
    "del cl_input, drug_input\n",
    "\n",
    "print(predicted.shape, predicted.max(), predicted.min(), predicted.mean())\n",
    "print(\"Baseline scores:\")\n",
    "evaluate_predictions(y_true, mean_preds)\n",
    "print()\n",
    "\n",
    "print(\"Model scores:\")\n",
    "print(predicted.max(), predicted.min(), predicted.mean())\n",
    "evaluate_predictions(y_true, predicted.view(-1))"
   ]
  },
  {
   "cell_type": "code",
   "execution_count": 65,
   "metadata": {},
   "outputs": [
    {
     "name": "stdout",
     "output_type": "stream",
     "text": [
      "(74, 6) 74\n",
      "0.032948457949925736\n"
     ]
    },
    {
     "name": "stderr",
     "output_type": "stream",
     "text": [
      "/home/krzysztof/.local/lib/python3.6/site-packages/scipy/stats/stats.py:3399: PearsonRConstantInputWarning: An input array is constant; the correlation coefficent is not defined.\n",
      "  warnings.warn(PearsonRConstantInputWarning())\n"
     ]
    }
   ],
   "source": [
    "# Compute evaluation metrics per drug\n",
    "sample_with_predictions = sample.copy()\n",
    "sample_with_predictions[\"Predicted AUC\"] = predicted.numpy()\n",
    "\n",
    "drugs = []\n",
    "model_corrs = []\n",
    "model_rmses = []\n",
    "dummy_corrs = []\n",
    "dummy_rmses = []\n",
    "no_samples = []\n",
    "\n",
    "for drug in sample_with_predictions.DRUG_ID.unique():\n",
    "    df = sample_with_predictions[sample_with_predictions.DRUG_ID == drug]\n",
    "    mean_true_auc = df[\"AUC\"].mean()\n",
    "    dummy_preds = [mean_true_auc] * df.shape[0]\n",
    "    dummy_rmse = metrics.mean_squared_error(df[\"AUC\"], dummy_preds) ** 0.5\n",
    "    dummy_corr = pearsonr(df[\"AUC\"], dummy_preds)\n",
    "    \n",
    "    model_rmse = metrics.mean_squared_error(df[\"AUC\"], df[\"Predicted AUC\"]) ** 0.5\n",
    "    model_corr = pearsonr(df[\"AUC\"], df[\"Predicted AUC\"])\n",
    "    \n",
    "    drugs.append(drug)\n",
    "    dummy_rmses.append(dummy_rmse)\n",
    "    dummy_corrs.append(dummy_corr[0])\n",
    "    \n",
    "    model_rmses.append(model_rmse)\n",
    "    model_corrs.append(model_corr[0])\n",
    "    \n",
    "    no_samples.append(df.COSMIC_ID.nunique())\n",
    "\n",
    "corrs_per_drug = pd.DataFrame()\n",
    "corrs_per_drug[\"Drug ID\"] = drugs\n",
    "corrs_per_drug[\"Model RMSE\"] = model_rmses\n",
    "corrs_per_drug[\"Model correlation\"] = model_corrs\n",
    "\n",
    "corrs_per_drug[\"Dummy RMSE\"] = dummy_rmses\n",
    "corrs_per_drug[\"Dummy correlation\"] = dummy_corrs\n",
    "corrs_per_drug[\"No. samples\"] = no_samples\n",
    "\n",
    "print(corrs_per_drug.shape, corrs_per_drug[\"Drug ID\"].nunique())\n",
    "print(corrs_per_drug[\"Model correlation\"].median())"
   ]
  },
  {
   "cell_type": "code",
   "execution_count": 66,
   "metadata": {},
   "outputs": [
    {
     "data": {
      "image/png": "[encoded data removed]",
      "text/plain": [
       "<Figure size 720x288 with 1 Axes>"
      ]
     },
     "metadata": {},
     "output_type": "display_data"
    }
   ],
   "source": [
    "# Plot per-drug results\n",
    "plt.figure(figsize=(12, 4))\n",
    "plt.xticks(rotation=90)\n",
    "sns.barplot(x=\"Drug ID\", y=\"Model correlation\", data=corrs_per_drug,\n",
    "           order=corrs_per_drug.sort_values(\"Model correlation\", ascending=False)[\"Drug ID\"])\n",
    "\n",
    "plt.show()"
   ]
  },
  {
   "cell_type": "markdown",
   "metadata": {},
   "source": [
    "#### Evaluate on unseen cell lines"
   ]
  },
  {
   "cell_type": "code",
   "execution_count": 67,
   "metadata": {},
   "outputs": [
    {
     "name": "stdout",
     "output_type": "stream",
     "text": [
      "tensor(2.1030) tensor(-3.6626) tensor(0.5473)\n",
      "RMSE: 0.5226993060739263\n",
      "Correlation: (0.1527588729585517, 5.247973552308591e-31)\n"
     ]
    }
   ],
   "source": [
    "# Predict on unseen cell lines and evaluate\n",
    "sample = samples_test\n",
    "y_true = sample[\"AUC\"].values\n",
    "\n",
    "cl_input = cell_line_data_df.loc[sample[\"COSMIC_ID\"].values].values\n",
    "drug_input = drug_data_df.loc[sample[\"DRUG_ID\"].values].values\n",
    "\n",
    "model.eval()\n",
    "with torch.no_grad():\n",
    "    predicted = model(torch.from_numpy(drug_input).float(), \n",
    "                     torch.from_numpy(cl_input).float())\n",
    "    \n",
    "del cl_input, drug_input\n",
    "\n",
    "print(predicted.max(), predicted.min(), predicted.mean())\n",
    "evaluate_predictions(y_true, predicted.view(-1))"
   ]
  },
  {
   "cell_type": "code",
   "execution_count": 68,
   "metadata": {},
   "outputs": [
    {
     "name": "stdout",
     "output_type": "stream",
     "text": [
      "(74, 6) 74\n",
      "0.05985532956288445\n"
     ]
    },
    {
     "name": "stderr",
     "output_type": "stream",
     "text": [
      "/home/krzysztof/.local/lib/python3.6/site-packages/scipy/stats/stats.py:3399: PearsonRConstantInputWarning: An input array is constant; the correlation coefficent is not defined.\n",
      "  warnings.warn(PearsonRConstantInputWarning())\n"
     ]
    }
   ],
   "source": [
    "# Compute evaluation metrics per drug\n",
    "sample_with_predictions = sample.copy()\n",
    "sample_with_predictions[\"Predicted AUC\"] = predicted.numpy()\n",
    "\n",
    "drugs = []\n",
    "model_corrs = []\n",
    "model_rmses = []\n",
    "dummy_corrs = []\n",
    "dummy_rmses = []\n",
    "no_samples = []\n",
    "\n",
    "for drug in sample_with_predictions.DRUG_ID.unique():\n",
    "    df = sample_with_predictions[sample_with_predictions.DRUG_ID == drug]\n",
    "    mean_true_auc = df[\"AUC\"].mean()\n",
    "    dummy_preds = [mean_true_auc] * df.shape[0]\n",
    "    dummy_rmse = metrics.mean_squared_error(df[\"AUC\"], dummy_preds) ** 0.5\n",
    "    dummy_corr = pearsonr(df[\"AUC\"], dummy_preds)\n",
    "    \n",
    "    model_rmse = metrics.mean_squared_error(df[\"AUC\"], df[\"Predicted AUC\"]) ** 0.5\n",
    "    model_corr = pearsonr(df[\"AUC\"], df[\"Predicted AUC\"])\n",
    "    \n",
    "    drugs.append(drug)\n",
    "    dummy_rmses.append(dummy_rmse)\n",
    "    dummy_corrs.append(dummy_corr[0])\n",
    "    \n",
    "    model_rmses.append(model_rmse)\n",
    "    model_corrs.append(model_corr[0])\n",
    "    \n",
    "    no_samples.append(df.COSMIC_ID.nunique())\n",
    "\n",
    "corrs_per_drug = pd.DataFrame()\n",
    "corrs_per_drug[\"Drug ID\"] = drugs\n",
    "corrs_per_drug[\"Model RMSE\"] = model_rmses\n",
    "corrs_per_drug[\"Model correlation\"] = model_corrs\n",
    "\n",
    "corrs_per_drug[\"Dummy RMSE\"] = dummy_rmses\n",
    "corrs_per_drug[\"Dummy correlation\"] = dummy_corrs\n",
    "corrs_per_drug[\"No. samples\"] = no_samples\n",
    "\n",
    "print(corrs_per_drug.shape, corrs_per_drug[\"Drug ID\"].nunique())\n",
    "print(corrs_per_drug[\"Model correlation\"].median())"
   ]
  },
  {
   "cell_type": "code",
   "execution_count": 69,
   "metadata": {},
   "outputs": [
    {
     "data": {
      "image/png": "[encoded data removed]",
      "text/plain": [
       "<Figure size 720x288 with 1 Axes>"
      ]
     },
     "metadata": {},
     "output_type": "display_data"
    }
   ],
   "source": [
    "# Plot per-drug results\n",
    "plt.figure(figsize=(12, 4))\n",
    "plt.xticks(rotation=90)\n",
    "sns.barplot(x=\"Drug ID\", y=\"Model correlation\", data=corrs_per_drug,\n",
    "           order=corrs_per_drug.sort_values(\"Model correlation\", ascending=False)[\"Drug ID\"])\n",
    "\n",
    "plt.show()"
   ]
  },
  {
   "cell_type": "code",
   "execution_count": null,
   "metadata": {},
   "outputs": [],
   "source": []
  },
  {
   "cell_type": "markdown",
   "metadata": {},
   "source": [
    "## Prototype adding a regularization to loss function"
   ]
  },
  {
   "cell_type": "code",
   "execution_count": null,
   "metadata": {},
   "outputs": [],
   "source": []
  },
  {
   "cell_type": "code",
   "execution_count": null,
   "metadata": {},
   "outputs": [],
   "source": []
  }
 ],
 "metadata": {
  "kernelspec": {
   "display_name": "Python (modeling_drug_efficacy)",
   "language": "python",
   "name": "modeling_drug_efficacy"
  },
  "language_info": {
   "codemirror_mode": {
    "name": "ipython",
    "version": 3
   },
   "file_extension": ".py",
   "mimetype": "text/x-python",
   "name": "python",
   "nbconvert_exporter": "python",
   "pygments_lexer": "ipython3",
   "version": "3.6.5"
  }
 },
 "nbformat": 4,
 "nbformat_minor": 2
}
