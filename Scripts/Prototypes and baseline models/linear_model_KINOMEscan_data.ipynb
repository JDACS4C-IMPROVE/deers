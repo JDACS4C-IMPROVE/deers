{
 "cells": [
  {
   "cell_type": "markdown",
   "metadata": {},
   "source": [
    "# Prototype hybrid matrix factorization model for drug reccomendations using PyTorch"
   ]
  },
  {
   "cell_type": "markdown",
   "metadata": {},
   "source": [
    "## Setup"
   ]
  },
  {
   "cell_type": "code",
   "execution_count": 1,
   "metadata": {},
   "outputs": [],
   "source": [
    "# Standard imports\n",
    "import sys\n",
    "import numpy as np\n",
    "import pandas as pd\n",
    "import matplotlib.pyplot as plt\n",
    "import seaborn as sns\n",
    "import time\n",
    "import dill\n",
    "\n",
    "from scipy.stats import pearsonr\n",
    "\n",
    "import torch\n",
    "from torch.autograd import Variable\n",
    "from torch.nn import functional as F\n",
    "from torch.utils.data import DataLoader\n",
    "\n",
    "\n",
    "from sklearn import metrics"
   ]
  },
  {
   "cell_type": "code",
   "execution_count": 2,
   "metadata": {},
   "outputs": [],
   "source": [
    "# Custom utilities imports\n",
    "sys.path.append(\"/media/krzysztof/Nowy/Doktorat - Modelling drug efficacy in cancer/Recommender System Approach/Scripts/Modules\")\n",
    "from modeling import Dataset, evaluate_predictions"
   ]
  },
  {
   "cell_type": "markdown",
   "metadata": {},
   "source": [
    "## Load KINOMEscan preprocessed dataset with intersection of proteins screened for drugs"
   ]
  },
  {
   "cell_type": "code",
   "execution_count": 3,
   "metadata": {},
   "outputs": [
    {
     "name": "stdout",
     "output_type": "stream",
     "text": [
      "Kinases Dataset <class 'modeling.Dataset'>\n",
      "\n",
      "Dataset containing 74 common drugs of GDSC and HMS LINCS Kinome scan dataset. \n",
      "- Cell lines data types: expression, coding variant and tissue type. Expressions and coding variants are \n",
      "present only for proteins present in both GDSC and KINOMEscan data, resulting in expression of 188 genes and\n",
      "mutations in 18 genes. Tissue types are dummy encoded GDSC Tissue Descriptions 1 (18 features).\n",
      "- Drugs representation: inhibition scores (% control) of 294 proteins. Set of proteins is the intersection of \n",
      "proteins screened for each of 74 drugs.\n",
      "- Drug response data: drug reponse data contains AUC metrics across cell lines for 74 drugs considered \n"
     ]
    }
   ],
   "source": [
    "filepath = \"../../Data/Preprocessed Datasets/\"\n",
    "with open(filepath + \"GDSC-KINOMEscan_proteins_intersection_dataset.pkl\", \"rb\") as f:\n",
    "    full_dataset = dill.load(f)\n",
    "print(full_dataset.name, type(full_dataset))\n",
    "print()\n",
    "print(full_dataset.description)"
   ]
  },
  {
   "cell_type": "markdown",
   "metadata": {},
   "source": [
    "## Data preprocessing"
   ]
  },
  {
   "cell_type": "markdown",
   "metadata": {},
   "source": [
    "#### Establish response data for samples (drug-cell line pairs)"
   ]
  },
  {
   "cell_type": "code",
   "execution_count": 4,
   "metadata": {},
   "outputs": [
    {
     "name": "stdout",
     "output_type": "stream",
     "text": [
      "(55936, 3) 987\n"
     ]
    },
    {
     "data": {
      "text/html": [
       "<div>\n",
       "<style scoped>\n",
       "    .dataframe tbody tr th:only-of-type {\n",
       "        vertical-align: middle;\n",
       "    }\n",
       "\n",
       "    .dataframe tbody tr th {\n",
       "        vertical-align: top;\n",
       "    }\n",
       "\n",
       "    .dataframe thead th {\n",
       "        text-align: right;\n",
       "    }\n",
       "</style>\n",
       "<table border=\"1\" class=\"dataframe\">\n",
       "  <thead>\n",
       "    <tr style=\"text-align: right;\">\n",
       "      <th></th>\n",
       "      <th>DRUG_ID</th>\n",
       "      <th>COSMIC_ID</th>\n",
       "      <th>AUC</th>\n",
       "    </tr>\n",
       "  </thead>\n",
       "  <tbody>\n",
       "    <tr>\n",
       "      <th>2748</th>\n",
       "      <td>29</td>\n",
       "      <td>683665</td>\n",
       "      <td>0.945160</td>\n",
       "    </tr>\n",
       "    <tr>\n",
       "      <th>2749</th>\n",
       "      <td>29</td>\n",
       "      <td>684055</td>\n",
       "      <td>0.926046</td>\n",
       "    </tr>\n",
       "    <tr>\n",
       "      <th>2750</th>\n",
       "      <td>29</td>\n",
       "      <td>684057</td>\n",
       "      <td>0.934873</td>\n",
       "    </tr>\n",
       "  </tbody>\n",
       "</table>\n",
       "</div>"
      ],
      "text/plain": [
       "      DRUG_ID  COSMIC_ID       AUC\n",
       "2748       29     683665  0.945160\n",
       "2749       29     684055  0.926046\n",
       "2750       29     684057  0.934873"
      ]
     },
     "execution_count": 4,
     "metadata": {},
     "output_type": "execute_result"
    }
   ],
   "source": [
    "response_df = full_dataset.response_data.copy()\n",
    "print(response_df.shape, response_df.COSMIC_ID.nunique())\n",
    "response_df.head(3)"
   ]
  },
  {
   "cell_type": "markdown",
   "metadata": {},
   "source": [
    "#### Establish cell line features data"
   ]
  },
  {
   "cell_type": "code",
   "execution_count": 5,
   "metadata": {},
   "outputs": [
    {
     "name": "stdout",
     "output_type": "stream",
     "text": [
      "(922, 225)\n"
     ]
    },
    {
     "data": {
      "text/html": [
       "<div>\n",
       "<style scoped>\n",
       "    .dataframe tbody tr th:only-of-type {\n",
       "        vertical-align: middle;\n",
       "    }\n",
       "\n",
       "    .dataframe tbody tr th {\n",
       "        vertical-align: top;\n",
       "    }\n",
       "\n",
       "    .dataframe thead th {\n",
       "        text-align: right;\n",
       "    }\n",
       "</style>\n",
       "<table border=\"1\" class=\"dataframe\">\n",
       "  <thead>\n",
       "    <tr style=\"text-align: right;\">\n",
       "      <th></th>\n",
       "      <th>cell_line_id</th>\n",
       "      <th>PRKX_exp</th>\n",
       "      <th>TIE1_exp</th>\n",
       "      <th>BMPR2_exp</th>\n",
       "      <th>PKMYT1_exp</th>\n",
       "      <th>ABL2_exp</th>\n",
       "      <th>PLK1_exp</th>\n",
       "      <th>ACVR1_exp</th>\n",
       "      <th>MAP3K4_mut</th>\n",
       "      <th>SRPK1_exp</th>\n",
       "      <th>...</th>\n",
       "      <th>Tissue_lung_SCLC</th>\n",
       "      <th>Tissue_lymphoma</th>\n",
       "      <th>Tissue_myeloma</th>\n",
       "      <th>Tissue_nervous_system</th>\n",
       "      <th>Tissue_neuroblastoma</th>\n",
       "      <th>Tissue_pancreas</th>\n",
       "      <th>Tissue_skin</th>\n",
       "      <th>Tissue_soft_tissue</th>\n",
       "      <th>Tissue_thyroid</th>\n",
       "      <th>Tissue_urogenital_system</th>\n",
       "    </tr>\n",
       "    <tr>\n",
       "      <th>cell_line_id</th>\n",
       "      <th></th>\n",
       "      <th></th>\n",
       "      <th></th>\n",
       "      <th></th>\n",
       "      <th></th>\n",
       "      <th></th>\n",
       "      <th></th>\n",
       "      <th></th>\n",
       "      <th></th>\n",
       "      <th></th>\n",
       "      <th></th>\n",
       "      <th></th>\n",
       "      <th></th>\n",
       "      <th></th>\n",
       "      <th></th>\n",
       "      <th></th>\n",
       "      <th></th>\n",
       "      <th></th>\n",
       "      <th></th>\n",
       "      <th></th>\n",
       "      <th></th>\n",
       "    </tr>\n",
       "  </thead>\n",
       "  <tbody>\n",
       "    <tr>\n",
       "      <th>906826</th>\n",
       "      <td>906826</td>\n",
       "      <td>4.787607</td>\n",
       "      <td>3.056350</td>\n",
       "      <td>6.395463</td>\n",
       "      <td>5.550737</td>\n",
       "      <td>5.492917</td>\n",
       "      <td>3.853142</td>\n",
       "      <td>4.384087</td>\n",
       "      <td>0</td>\n",
       "      <td>7.410108</td>\n",
       "      <td>...</td>\n",
       "      <td>0</td>\n",
       "      <td>0</td>\n",
       "      <td>0</td>\n",
       "      <td>0</td>\n",
       "      <td>0</td>\n",
       "      <td>0</td>\n",
       "      <td>0</td>\n",
       "      <td>0</td>\n",
       "      <td>0</td>\n",
       "      <td>0</td>\n",
       "    </tr>\n",
       "    <tr>\n",
       "      <th>687983</th>\n",
       "      <td>687983</td>\n",
       "      <td>5.001763</td>\n",
       "      <td>3.125097</td>\n",
       "      <td>6.634672</td>\n",
       "      <td>5.399054</td>\n",
       "      <td>5.113815</td>\n",
       "      <td>4.218736</td>\n",
       "      <td>4.786061</td>\n",
       "      <td>0</td>\n",
       "      <td>7.776150</td>\n",
       "      <td>...</td>\n",
       "      <td>1</td>\n",
       "      <td>0</td>\n",
       "      <td>0</td>\n",
       "      <td>0</td>\n",
       "      <td>0</td>\n",
       "      <td>0</td>\n",
       "      <td>0</td>\n",
       "      <td>0</td>\n",
       "      <td>0</td>\n",
       "      <td>0</td>\n",
       "    </tr>\n",
       "    <tr>\n",
       "      <th>910927</th>\n",
       "      <td>910927</td>\n",
       "      <td>5.459631</td>\n",
       "      <td>2.989998</td>\n",
       "      <td>7.945827</td>\n",
       "      <td>5.541005</td>\n",
       "      <td>4.519127</td>\n",
       "      <td>3.694307</td>\n",
       "      <td>4.414635</td>\n",
       "      <td>0</td>\n",
       "      <td>7.079021</td>\n",
       "      <td>...</td>\n",
       "      <td>0</td>\n",
       "      <td>0</td>\n",
       "      <td>0</td>\n",
       "      <td>0</td>\n",
       "      <td>0</td>\n",
       "      <td>0</td>\n",
       "      <td>0</td>\n",
       "      <td>0</td>\n",
       "      <td>0</td>\n",
       "      <td>0</td>\n",
       "    </tr>\n",
       "  </tbody>\n",
       "</table>\n",
       "<p>3 rows × 225 columns</p>\n",
       "</div>"
      ],
      "text/plain": [
       "              cell_line_id  PRKX_exp  TIE1_exp  BMPR2_exp  PKMYT1_exp  \\\n",
       "cell_line_id                                                            \n",
       "906826              906826  4.787607  3.056350   6.395463    5.550737   \n",
       "687983              687983  5.001763  3.125097   6.634672    5.399054   \n",
       "910927              910927  5.459631  2.989998   7.945827    5.541005   \n",
       "\n",
       "              ABL2_exp  PLK1_exp  ACVR1_exp  MAP3K4_mut  SRPK1_exp  \\\n",
       "cell_line_id                                                         \n",
       "906826        5.492917  3.853142   4.384087           0   7.410108   \n",
       "687983        5.113815  4.218736   4.786061           0   7.776150   \n",
       "910927        4.519127  3.694307   4.414635           0   7.079021   \n",
       "\n",
       "                        ...             Tissue_lung_SCLC  Tissue_lymphoma  \\\n",
       "cell_line_id            ...                                                 \n",
       "906826                  ...                            0                0   \n",
       "687983                  ...                            1                0   \n",
       "910927                  ...                            0                0   \n",
       "\n",
       "              Tissue_myeloma  Tissue_nervous_system  Tissue_neuroblastoma  \\\n",
       "cell_line_id                                                                \n",
       "906826                     0                      0                     0   \n",
       "687983                     0                      0                     0   \n",
       "910927                     0                      0                     0   \n",
       "\n",
       "              Tissue_pancreas  Tissue_skin  Tissue_soft_tissue  \\\n",
       "cell_line_id                                                     \n",
       "906826                      0            0                   0   \n",
       "687983                      0            0                   0   \n",
       "910927                      0            0                   0   \n",
       "\n",
       "              Tissue_thyroid  Tissue_urogenital_system  \n",
       "cell_line_id                                            \n",
       "906826                     0                         0  \n",
       "687983                     0                         0  \n",
       "910927                     0                         0  \n",
       "\n",
       "[3 rows x 225 columns]"
      ]
     },
     "execution_count": 5,
     "metadata": {},
     "output_type": "execute_result"
    }
   ],
   "source": [
    "cell_line_data_df = full_dataset.full_cell_lines_data.copy()\n",
    "print(cell_line_data_df.shape)\n",
    "cell_line_data_df.head(3)"
   ]
  },
  {
   "cell_type": "code",
   "execution_count": 6,
   "metadata": {},
   "outputs": [
    {
     "name": "stdout",
     "output_type": "stream",
     "text": [
      "66\n"
     ]
    }
   ],
   "source": [
    "# Search for cell lines present in response data, but missing the genomic features\n",
    "missing_cell_lines = []\n",
    "for cosmic_id in response_df.COSMIC_ID.unique():\n",
    "    if cosmic_id not in cell_line_data_df.cell_line_id.unique():\n",
    "        missing_cell_lines.append(cosmic_id)\n",
    "print(len(missing_cell_lines))"
   ]
  },
  {
   "cell_type": "code",
   "execution_count": 7,
   "metadata": {},
   "outputs": [],
   "source": [
    "# Put cell line IDs into index and drop cell line IDs columns\n",
    "cell_line_data_df.index = cell_line_data_df.cell_line_id\n",
    "cell_line_data_df = cell_line_data_df.drop(\"cell_line_id\", axis=1)"
   ]
  },
  {
   "cell_type": "code",
   "execution_count": 8,
   "metadata": {},
   "outputs": [
    {
     "name": "stdout",
     "output_type": "stream",
     "text": [
      "(55936, 3)\n",
      "(52730, 3)\n"
     ]
    }
   ],
   "source": [
    "# Extract response only for cell lines for which features are present\n",
    "print(response_df.shape)\n",
    "response_df = response_df[~response_df.COSMIC_ID.isin(missing_cell_lines)]\n",
    "print(response_df.shape)"
   ]
  },
  {
   "cell_type": "markdown",
   "metadata": {},
   "source": [
    "#### Establish drug features data"
   ]
  },
  {
   "cell_type": "code",
   "execution_count": 9,
   "metadata": {},
   "outputs": [
    {
     "name": "stdout",
     "output_type": "stream",
     "text": [
      "(74, 294)\n"
     ]
    },
    {
     "data": {
      "text/html": [
       "<div>\n",
       "<style scoped>\n",
       "    .dataframe tbody tr th:only-of-type {\n",
       "        vertical-align: middle;\n",
       "    }\n",
       "\n",
       "    .dataframe tbody tr th {\n",
       "        vertical-align: top;\n",
       "    }\n",
       "\n",
       "    .dataframe thead th {\n",
       "        text-align: right;\n",
       "    }\n",
       "</style>\n",
       "<table border=\"1\" class=\"dataframe\">\n",
       "  <thead>\n",
       "    <tr style=\"text-align: right;\">\n",
       "      <th>Protein</th>\n",
       "      <th>MAPKAPK2</th>\n",
       "      <th>MARK1</th>\n",
       "      <th>CAMKK2</th>\n",
       "      <th>MARK2</th>\n",
       "      <th>TGFBR1</th>\n",
       "      <th>ERK5</th>\n",
       "      <th>EPHA7</th>\n",
       "      <th>MK01</th>\n",
       "      <th>RAF1</th>\n",
       "      <th>TNNI3K</th>\n",
       "      <th>...</th>\n",
       "      <th>KGP1</th>\n",
       "      <th>ZAP70</th>\n",
       "      <th>ERK3</th>\n",
       "      <th>BLK</th>\n",
       "      <th>MYLK2</th>\n",
       "      <th>KPCD3</th>\n",
       "      <th>FGFR3</th>\n",
       "      <th>ACVR1</th>\n",
       "      <th>GSK3A</th>\n",
       "      <th>KPCD</th>\n",
       "    </tr>\n",
       "    <tr>\n",
       "      <th>Small Molecule</th>\n",
       "      <th></th>\n",
       "      <th></th>\n",
       "      <th></th>\n",
       "      <th></th>\n",
       "      <th></th>\n",
       "      <th></th>\n",
       "      <th></th>\n",
       "      <th></th>\n",
       "      <th></th>\n",
       "      <th></th>\n",
       "      <th></th>\n",
       "      <th></th>\n",
       "      <th></th>\n",
       "      <th></th>\n",
       "      <th></th>\n",
       "      <th></th>\n",
       "      <th></th>\n",
       "      <th></th>\n",
       "      <th></th>\n",
       "      <th></th>\n",
       "      <th></th>\n",
       "    </tr>\n",
       "  </thead>\n",
       "  <tbody>\n",
       "    <tr>\n",
       "      <th>1242</th>\n",
       "      <td>100.0</td>\n",
       "      <td>83.0</td>\n",
       "      <td>88.0</td>\n",
       "      <td>96.0</td>\n",
       "      <td>57.0</td>\n",
       "      <td>100.0</td>\n",
       "      <td>92.0</td>\n",
       "      <td>64.0</td>\n",
       "      <td>100.0</td>\n",
       "      <td>77.0</td>\n",
       "      <td>...</td>\n",
       "      <td>99.0</td>\n",
       "      <td>86.0</td>\n",
       "      <td>98.0</td>\n",
       "      <td>57.0</td>\n",
       "      <td>80.0</td>\n",
       "      <td>12.0</td>\n",
       "      <td>95.0</td>\n",
       "      <td>1.9</td>\n",
       "      <td>100.0</td>\n",
       "      <td>100.0</td>\n",
       "    </tr>\n",
       "    <tr>\n",
       "      <th>86</th>\n",
       "      <td>100.0</td>\n",
       "      <td>100.0</td>\n",
       "      <td>2.0</td>\n",
       "      <td>13.0</td>\n",
       "      <td>100.0</td>\n",
       "      <td>100.0</td>\n",
       "      <td>100.0</td>\n",
       "      <td>100.0</td>\n",
       "      <td>100.0</td>\n",
       "      <td>100.0</td>\n",
       "      <td>...</td>\n",
       "      <td>0.7</td>\n",
       "      <td>100.0</td>\n",
       "      <td>100.0</td>\n",
       "      <td>100.0</td>\n",
       "      <td>100.0</td>\n",
       "      <td>1.6</td>\n",
       "      <td>100.0</td>\n",
       "      <td>100.0</td>\n",
       "      <td>1.0</td>\n",
       "      <td>0.9</td>\n",
       "    </tr>\n",
       "    <tr>\n",
       "      <th>29</th>\n",
       "      <td>100.0</td>\n",
       "      <td>100.0</td>\n",
       "      <td>28.0</td>\n",
       "      <td>92.0</td>\n",
       "      <td>100.0</td>\n",
       "      <td>100.0</td>\n",
       "      <td>84.0</td>\n",
       "      <td>100.0</td>\n",
       "      <td>2.3</td>\n",
       "      <td>15.0</td>\n",
       "      <td>...</td>\n",
       "      <td>100.0</td>\n",
       "      <td>100.0</td>\n",
       "      <td>100.0</td>\n",
       "      <td>1.0</td>\n",
       "      <td>100.0</td>\n",
       "      <td>88.0</td>\n",
       "      <td>100.0</td>\n",
       "      <td>100.0</td>\n",
       "      <td>100.0</td>\n",
       "      <td>89.0</td>\n",
       "    </tr>\n",
       "  </tbody>\n",
       "</table>\n",
       "<p>3 rows × 294 columns</p>\n",
       "</div>"
      ],
      "text/plain": [
       "Protein         MAPKAPK2  MARK1  CAMKK2  MARK2  TGFBR1   ERK5  EPHA7   MK01  \\\n",
       "Small Molecule                                                                \n",
       "1242               100.0   83.0    88.0   96.0    57.0  100.0   92.0   64.0   \n",
       "86                 100.0  100.0     2.0   13.0   100.0  100.0  100.0  100.0   \n",
       "29                 100.0  100.0    28.0   92.0   100.0  100.0   84.0  100.0   \n",
       "\n",
       "Protein          RAF1  TNNI3K  ...     KGP1  ZAP70   ERK3    BLK  MYLK2  \\\n",
       "Small Molecule                 ...                                        \n",
       "1242            100.0    77.0  ...     99.0   86.0   98.0   57.0   80.0   \n",
       "86              100.0   100.0  ...      0.7  100.0  100.0  100.0  100.0   \n",
       "29                2.3    15.0  ...    100.0  100.0  100.0    1.0  100.0   \n",
       "\n",
       "Protein         KPCD3  FGFR3  ACVR1  GSK3A   KPCD  \n",
       "Small Molecule                                     \n",
       "1242             12.0   95.0    1.9  100.0  100.0  \n",
       "86                1.6  100.0  100.0    1.0    0.9  \n",
       "29               88.0  100.0  100.0  100.0   89.0  \n",
       "\n",
       "[3 rows x 294 columns]"
      ]
     },
     "execution_count": 9,
     "metadata": {},
     "output_type": "execute_result"
    }
   ],
   "source": [
    "drug_data_df = full_dataset.drugs_data.copy()\n",
    "print(drug_data_df.shape)\n",
    "# Convert drug index from LINCS name to GDSC drug ID\n",
    "drug_data_df.index = drug_data_df.index.map(full_dataset.kinomescan_name_to_gdsc_id_mapper)\n",
    "drug_data_df.head(3)"
   ]
  },
  {
   "cell_type": "code",
   "execution_count": 10,
   "metadata": {},
   "outputs": [
    {
     "name": "stdout",
     "output_type": "stream",
     "text": [
      "0\n"
     ]
    }
   ],
   "source": [
    "# Search for drugs present in response data, but missing the drug features\n",
    "missing_drugs = []\n",
    "for drug_id in response_df.DRUG_ID.unique():\n",
    "    if drug_id not in drug_data_df.index:\n",
    "        print(drug_id)\n",
    "        missing_drugs.append(drug_id)\n",
    "print(len(missing_drugs))"
   ]
  },
  {
   "cell_type": "markdown",
   "metadata": {},
   "source": [
    "#### Split drug response data into training/validation/test "
   ]
  },
  {
   "cell_type": "code",
   "execution_count": 11,
   "metadata": {},
   "outputs": [
    {
     "name": "stdout",
     "output_type": "stream",
     "text": [
      "(922, 224) 74 922\n",
      "(52730, 3) 74 921\n"
     ]
    }
   ],
   "source": [
    "print(cell_line_data_df.shape, drug_data_df.index.nunique(), cell_line_data_df.index.nunique())\n",
    "print(response_df.shape, response_df.DRUG_ID.nunique(), response_df.COSMIC_ID.nunique())"
   ]
  },
  {
   "cell_type": "code",
   "execution_count": 12,
   "metadata": {},
   "outputs": [],
   "source": [
    "# Split the data into train, validation and test, separating subset of cell lines\n",
    "# val_ratio = 0.25\n",
    "# num_separated_cell_lines = 30\n",
    "\n",
    "# # Extract samples with cell lines separated from training\n",
    "# separated_cell_lines = list(np.random.choice(response_df.COSMIC_ID.unique(), size=20))\n",
    "# separated_samples = response_df[response_df.COSMIC_ID.isin(separated_cell_lines)]\n",
    "\n",
    "# # Extract rest\n",
    "# rest = response_df[~response_df.COSMIC_ID.isin(separated_cell_lines)]\n",
    "\n",
    "# train_samples = rest[int(val_ratio * response_df.shape[0]):]\n",
    "# val_samples = rest[:int(val_ratio * response_df.shape[0])]\n",
    "\n",
    "# print(train_samples.shape, val_samples.shape, separated_samples.shape)"
   ]
  },
  {
   "cell_type": "code",
   "execution_count": 13,
   "metadata": {},
   "outputs": [],
   "source": [
    "# Shuffle all the samples\n",
    "response_df = response_df.sample(frac=1., random_state=2)"
   ]
  },
  {
   "cell_type": "code",
   "execution_count": 14,
   "metadata": {},
   "outputs": [
    {
     "name": "stdout",
     "output_type": "stream",
     "text": [
      "(52730, 3) (41321, 3) (5637, 3) (5772, 3)\n",
      "921 721 100 100\n"
     ]
    }
   ],
   "source": [
    "# Split the data into train, validation and test set, separating distinct cell lines\n",
    "# Specify how many cell lines go to validation and test sets\n",
    "num_cell_lines_val = 100\n",
    "num_cell_lines_test = 100\n",
    "\n",
    "# Extract test cell lines samples\n",
    "cell_lines_test = list(np.random.choice(response_df.COSMIC_ID.unique(), size=num_cell_lines_test,\n",
    "                                       replace=False))\n",
    "samples_test = response_df[response_df.COSMIC_ID.isin(cell_lines_test)]\n",
    "\n",
    "# Extract rest\n",
    "rest = response_df[~response_df.COSMIC_ID.isin(cell_lines_test)]\n",
    "\n",
    "# Extract validation cell lines samples\n",
    "cell_lines_val = list(np.random.choice(rest.COSMIC_ID.unique(), size=num_cell_lines_val,\n",
    "                                       replace=False))\n",
    "samples_val = rest[rest.COSMIC_ID.isin(cell_lines_val)]\n",
    "\n",
    "# Extract rest (training set)\n",
    "samples_train = rest[~rest.COSMIC_ID.isin(cell_lines_val)]\n",
    "\n",
    "print(response_df.shape, samples_train.shape, samples_val.shape, samples_test.shape)\n",
    "print(response_df.COSMIC_ID.nunique(), samples_train.COSMIC_ID.nunique(), samples_val.COSMIC_ID.nunique(),\n",
    "     samples_test.COSMIC_ID.nunique())"
   ]
  },
  {
   "cell_type": "code",
   "execution_count": 15,
   "metadata": {},
   "outputs": [
    {
     "data": {
      "text/plain": [
       "set()"
      ]
     },
     "execution_count": 15,
     "metadata": {},
     "output_type": "execute_result"
    }
   ],
   "source": [
    "set(samples_test.COSMIC_ID.unique()).intersection(set(samples_val.COSMIC_ID.unique()))"
   ]
  },
  {
   "cell_type": "code",
   "execution_count": null,
   "metadata": {},
   "outputs": [],
   "source": []
  },
  {
   "cell_type": "markdown",
   "metadata": {},
   "source": [
    "#### Normalize / standardize the data"
   ]
  },
  {
   "cell_type": "code",
   "execution_count": 16,
   "metadata": {},
   "outputs": [
    {
     "name": "stdout",
     "output_type": "stream",
     "text": [
      "(922, 224) 0.005707711310287684 194.58318467605653\n"
     ]
    }
   ],
   "source": [
    "# Cell line data\n",
    "cols_subset = [col for col in list(cell_line_data_df) if col.endswith(\"_exp\")]\n",
    "rows_subset = [x for x in cell_line_data_df.index if x not in cell_lines_test + cell_lines_val]\n",
    "\n",
    "cell_line_data_df = Dataset.standardize_data(cell_line_data_df, cols_subset=cols_subset,\n",
    "                                            rows_subset=rows_subset)\n",
    "print(cell_line_data_df.shape, cell_line_data_df.mean().mean(),\n",
    "     cell_line_data_df.std().sum())"
   ]
  },
  {
   "cell_type": "code",
   "execution_count": 17,
   "metadata": {},
   "outputs": [
    {
     "name": "stdout",
     "output_type": "stream",
     "text": [
      "(74, 294)\n",
      "(74, 294) 2.196104424744604e-17 294.0\n"
     ]
    }
   ],
   "source": [
    "# Drug data\n",
    "print(drug_data_df.shape)\n",
    "drug_data_df = Dataset.standardize_data(drug_data_df)\n",
    "print(drug_data_df.shape, drug_data_df.mean().mean(),\n",
    "     drug_data_df.std().sum())"
   ]
  },
  {
   "cell_type": "markdown",
   "metadata": {},
   "source": [
    "## Model definition"
   ]
  },
  {
   "cell_type": "code",
   "execution_count": 18,
   "metadata": {},
   "outputs": [],
   "source": [
    "# Model definition\n",
    "class LinearMatrixFactorizationWithFeatures(torch.nn.Module):\n",
    "    def __init__(self, drug_input_dim, cell_line_input_dim, output_dim, \n",
    "                 out_activation_func=None,\n",
    "                 drug_bias=True,\n",
    "                 cell_line_bias=True):\n",
    "        super(LinearMatrixFactorizationWithFeatures, self).__init__()\n",
    "        self.drug_linear = torch.nn.Linear(drug_input_dim, output_dim, bias=drug_bias)\n",
    "        self.cell_line_linear = torch.nn.Linear(cell_line_input_dim, output_dim, bias=cell_line_bias)\n",
    "        self.out_activation = out_activation_func\n",
    "        \n",
    "    def forward(self, drug_features, cell_line_features):\n",
    "        drug_outputs = self.drug_linear(drug_features)\n",
    "        cell_line_outputs = self.cell_line_linear(cell_line_features)\n",
    "        \n",
    "        final_outputs = torch.sum(torch.mul(drug_outputs, cell_line_outputs), dim=1).view(-1, 1)\n",
    "        if self.out_activation:\n",
    "            return self.out_activation(final_outputs)\n",
    "        return final_outputs"
   ]
  },
  {
   "cell_type": "markdown",
   "metadata": {},
   "source": [
    "## Model training"
   ]
  },
  {
   "cell_type": "code",
   "execution_count": 19,
   "metadata": {},
   "outputs": [
    {
     "name": "stdout",
     "output_type": "stream",
     "text": [
      "(1000, 3) 0.839491998\n"
     ]
    }
   ],
   "source": [
    "# Take sample of whole training data if needed\n",
    "samples_train = samples_train.sample(1000, random_state=2)\n",
    "print(samples_train.shape, samples_train[\"AUC\"].mean())"
   ]
  },
  {
   "cell_type": "markdown",
   "metadata": {},
   "source": [
    "#### Specify hyperparameters"
   ]
  },
  {
   "cell_type": "code",
   "execution_count": 21,
   "metadata": {},
   "outputs": [
    {
     "data": {
      "text/plain": [
       "LinearMatrixFactorizationWithFeatures(\n",
       "  (drug_linear): Linear(in_features=294, out_features=10, bias=True)\n",
       "  (cell_line_linear): Linear(in_features=224, out_features=10, bias=True)\n",
       ")"
      ]
     },
     "execution_count": 21,
     "metadata": {},
     "output_type": "execute_result"
    }
   ],
   "source": [
    "# Specify shape of input\n",
    "drug_dim = drug_data_df.shape[1]\n",
    "cell_line_dim = cell_line_data_df.shape[1]\n",
    "\n",
    "# Specify learning hyperparameters\n",
    "learning_rate = 0.04\n",
    "epochs = 100\n",
    "output_dim = 10\n",
    "batch_size = 32\n",
    "no_batches = samples_train.shape[0] // batch_size + 1\n",
    "\n",
    "model = LinearMatrixFactorizationWithFeatures(drug_dim, cell_line_dim, output_dim,\n",
    "                                             drug_bias=True,\n",
    "                                             cell_line_bias=True,\n",
    "                                             out_activation_func=torch.sigmoid)\n",
    "\n",
    "# Define loss function and optimizer\n",
    "weight_decay = 0.\n",
    "reg_lambda = 0.\n",
    "\n",
    "criterion = torch.nn.MSELoss()\n",
    "optimizer = torch.optim.SGD(model.parameters(), lr=learning_rate, weight_decay=weight_decay)\n",
    "\n",
    "# Display text representation of model\n",
    "model"
   ]
  },
  {
   "cell_type": "markdown",
   "metadata": {},
   "source": [
    "#### Training loop"
   ]
  },
  {
   "cell_type": "code",
   "execution_count": 22,
   "metadata": {},
   "outputs": [
    {
     "name": "stdout",
     "output_type": "stream",
     "text": [
      "Epoch 1, loss: 0.1414\n",
      "Epoch 2, loss: 0.0697\n",
      "Epoch 3, loss: 0.0445\n",
      "Epoch 4, loss: 0.0276\n",
      "Epoch 5, loss: 0.0164\n",
      "Epoch 6, loss: 0.0104\n",
      "Epoch 7, loss: 0.0075\n",
      "Epoch 8, loss: 0.0057\n",
      "Epoch 9, loss: 0.0043\n",
      "Epoch 10, loss: 0.0034\n",
      "Epoch 11, loss: 0.0028\n",
      "Epoch 12, loss: 0.0024\n",
      "Epoch 13, loss: 0.0021\n",
      "Epoch 14, loss: 0.0018\n",
      "Epoch 15, loss: 0.0016\n",
      "Epoch 16, loss: 0.0015\n",
      "Epoch 17, loss: 0.0013\n",
      "Epoch 18, loss: 0.0012\n",
      "Epoch 19, loss: 0.0011\n",
      "Epoch 20, loss: 0.0011\n",
      "Epoch 21, loss: 0.0010\n",
      "Epoch 22, loss: 0.0009\n",
      "Epoch 23, loss: 0.0009\n",
      "Epoch 24, loss: 0.0008\n",
      "Epoch 25, loss: 0.0008\n",
      "Epoch 26, loss: 0.0007\n",
      "Epoch 27, loss: 0.0007\n",
      "Epoch 28, loss: 0.0007\n",
      "Epoch 29, loss: 0.0006\n",
      "Epoch 30, loss: 0.0006\n",
      "Epoch 31, loss: 0.0006\n",
      "Epoch 32, loss: 0.0006\n",
      "Epoch 33, loss: 0.0006\n",
      "Epoch 34, loss: 0.0005\n",
      "Epoch 35, loss: 0.0005\n",
      "Epoch 36, loss: 0.0005\n",
      "Epoch 37, loss: 0.0005\n",
      "Epoch 38, loss: 0.0005\n",
      "Epoch 39, loss: 0.0005\n",
      "Epoch 40, loss: 0.0005\n",
      "Epoch 41, loss: 0.0005\n",
      "Epoch 42, loss: 0.0005\n",
      "Epoch 43, loss: 0.0004\n",
      "Epoch 44, loss: 0.0004\n",
      "Epoch 45, loss: 0.0004\n",
      "Epoch 46, loss: 0.0004\n",
      "Epoch 47, loss: 0.0004\n",
      "Epoch 48, loss: 0.0004\n",
      "Epoch 49, loss: 0.0004\n",
      "Epoch 50, loss: 0.0004\n",
      "Epoch 51, loss: 0.0004\n",
      "Epoch 52, loss: 0.0004\n",
      "Epoch 53, loss: 0.0004\n",
      "Epoch 54, loss: 0.0004\n",
      "Epoch 55, loss: 0.0004\n",
      "Epoch 56, loss: 0.0004\n",
      "Epoch 57, loss: 0.0005\n",
      "Epoch 58, loss: 0.0005\n",
      "Epoch 59, loss: 0.0004\n",
      "Epoch 60, loss: 0.0003\n",
      "Epoch 61, loss: 0.0003\n",
      "Epoch 62, loss: 0.0003\n",
      "Epoch 63, loss: 0.0003\n",
      "Epoch 64, loss: 0.0003\n",
      "Epoch 65, loss: 0.0003\n",
      "Epoch 66, loss: 0.0003\n",
      "Epoch 67, loss: 0.0003\n",
      "Epoch 68, loss: 0.0003\n",
      "Epoch 69, loss: 0.0003\n",
      "Epoch 70, loss: 0.0003\n",
      "Epoch 71, loss: 0.0003\n",
      "Epoch 72, loss: 0.0003\n",
      "Epoch 73, loss: 0.0003\n",
      "Epoch 74, loss: 0.0003\n",
      "Epoch 75, loss: 0.0003\n",
      "Epoch 76, loss: 0.0003\n",
      "Epoch 77, loss: 0.0003\n",
      "Epoch 78, loss: 0.0003\n",
      "Epoch 79, loss: 0.0003\n",
      "Epoch 80, loss: 0.0003\n",
      "Epoch 81, loss: 0.0002\n",
      "Epoch 82, loss: 0.0002\n",
      "Epoch 83, loss: 0.0002\n",
      "Epoch 84, loss: 0.0002\n",
      "Epoch 85, loss: 0.0002\n",
      "Epoch 86, loss: 0.0002\n",
      "Epoch 87, loss: 0.0002\n",
      "Epoch 88, loss: 0.0002\n",
      "Epoch 89, loss: 0.0002\n",
      "Epoch 90, loss: 0.0002\n",
      "Epoch 91, loss: 0.0002\n",
      "Epoch 92, loss: 0.0002\n",
      "Epoch 93, loss: 0.0002\n",
      "Epoch 94, loss: 0.0002\n",
      "Epoch 95, loss: 0.0002\n",
      "Epoch 96, loss: 0.0002\n",
      "Epoch 97, loss: 0.0002\n",
      "Epoch 98, loss: 0.0002\n",
      "Epoch 99, loss: 0.0002\n",
      "Epoch 100, loss: 0.0002\n"
     ]
    }
   ],
   "source": [
    "# Training the model\n",
    "model.train()\n",
    "for epoch in range(epochs):\n",
    "    for batch in range(no_batches):\n",
    "        # Separate response variable batch\n",
    "        if batch != no_batches:\n",
    "            samples_batch = samples_train.iloc[batch * batch_size:(batch + 1) * batch_size]\n",
    "        else:\n",
    "            samples_batch = samples_train.iloc[batch * batch_size:]\n",
    "            \n",
    "        # Extract output variable batch\n",
    "        y_batch = torch.from_numpy(samples_batch[\"AUC\"].values).view(-1, 1)\n",
    "        \n",
    "        # Extract cell lines IDs for which data shall be extracted\n",
    "        cl_ids = samples_batch[\"COSMIC_ID\"].values\n",
    "        # Extract corresponding cell line data\n",
    "        cell_line_input_batch = cell_line_data_df.loc[cl_ids].values\n",
    "        cell_line_input_batch = torch.from_numpy(cell_line_input_batch)\n",
    "        \n",
    "        # Extract drug IDs for which data shall be extracted\n",
    "        drug_ids = samples_batch[\"DRUG_ID\"].values\n",
    "        # Extract corresponding drug data\n",
    "        drug_input_batch = drug_data_df.loc[drug_ids].values\n",
    "        drug_input_batch = torch.from_numpy(drug_input_batch)\n",
    "        \n",
    "        # Clear gradient buffers because we don't want to accummulate gradients \n",
    "        optimizer.zero_grad()\n",
    "        \n",
    "        # Perform forward pass\n",
    "        batch_output = model(drug_input_batch.float(), cell_line_input_batch.float())\n",
    "        \n",
    "        reg = 0\n",
    "        for param in model.parameters():\n",
    "            reg += 0.5 * (param ** 2).sum()  # L2 norm\n",
    "        \n",
    "        # Compute the loss for this batch\n",
    "        loss = criterion(batch_output, y_batch.float()) + reg_lambda * reg\n",
    "        # Get the gradients w.r.t. the parameters\n",
    "        loss.backward()\n",
    "        # Update the parameters\n",
    "        optimizer.step()\n",
    "        \n",
    "        #print(\"Epoch {}, batch {}, loss: {:.3f}\".format(epoch + 1, batch + 1, loss.item()))\n",
    "    print(\"Epoch {}, loss: {:.4f}\".format(epoch + 1, loss.item()))"
   ]
  },
  {
   "cell_type": "markdown",
   "metadata": {},
   "source": [
    "## Model evaluation"
   ]
  },
  {
   "cell_type": "code",
   "execution_count": 23,
   "metadata": {},
   "outputs": [],
   "source": [
    "# Establish mean of AUC in training data for baseline model evaluation\n",
    "mean_training_auc = samples_train[\"AUC\"].mean()"
   ]
  },
  {
   "cell_type": "markdown",
   "metadata": {},
   "source": [
    "#### Evaluate on training data"
   ]
  },
  {
   "cell_type": "code",
   "execution_count": 24,
   "metadata": {},
   "outputs": [
    {
     "data": {
      "text/html": [
       "<div>\n",
       "<style scoped>\n",
       "    .dataframe tbody tr th:only-of-type {\n",
       "        vertical-align: middle;\n",
       "    }\n",
       "\n",
       "    .dataframe tbody tr th {\n",
       "        vertical-align: top;\n",
       "    }\n",
       "\n",
       "    .dataframe thead th {\n",
       "        text-align: right;\n",
       "    }\n",
       "</style>\n",
       "<table border=\"1\" class=\"dataframe\">\n",
       "  <thead>\n",
       "    <tr style=\"text-align: right;\">\n",
       "      <th></th>\n",
       "      <th>DRUG_ID</th>\n",
       "      <th>COSMIC_ID</th>\n",
       "      <th>AUC</th>\n",
       "    </tr>\n",
       "  </thead>\n",
       "  <tbody>\n",
       "    <tr>\n",
       "      <th>51375</th>\n",
       "      <td>1564</td>\n",
       "      <td>909770</td>\n",
       "      <td>0.763129</td>\n",
       "    </tr>\n",
       "    <tr>\n",
       "      <th>28656</th>\n",
       "      <td>157</td>\n",
       "      <td>1331032</td>\n",
       "      <td>0.627742</td>\n",
       "    </tr>\n",
       "    <tr>\n",
       "      <th>56049</th>\n",
       "      <td>203</td>\n",
       "      <td>753582</td>\n",
       "      <td>0.765652</td>\n",
       "    </tr>\n",
       "  </tbody>\n",
       "</table>\n",
       "</div>"
      ],
      "text/plain": [
       "       DRUG_ID  COSMIC_ID       AUC\n",
       "51375     1564     909770  0.763129\n",
       "28656      157    1331032  0.627742\n",
       "56049      203     753582  0.765652"
      ]
     },
     "execution_count": 24,
     "metadata": {},
     "output_type": "execute_result"
    }
   ],
   "source": [
    "# Do some sample predictions on trainig data\n",
    "# Sample data points\n",
    "sample = samples_train.sample(3)\n",
    "sample"
   ]
  },
  {
   "cell_type": "code",
   "execution_count": 25,
   "metadata": {},
   "outputs": [
    {
     "name": "stdout",
     "output_type": "stream",
     "text": [
      "tensor([[0.7744],\n",
      "        [0.6180],\n",
      "        [0.7385]]) torch.Size([3, 1])\n"
     ]
    }
   ],
   "source": [
    "# Do some predictions on training data\n",
    "cl_input = cell_line_data_df.loc[sample[\"COSMIC_ID\"].values].values\n",
    "drug_input = drug_data_df.loc[sample[\"DRUG_ID\"].values].values\n",
    "\n",
    "model.eval()\n",
    "with torch.no_grad():\n",
    "    predicted = model(torch.from_numpy(drug_input).float(), \n",
    "                     torch.from_numpy(cl_input).float())\n",
    "print(predicted, predicted.shape)"
   ]
  },
  {
   "cell_type": "code",
   "execution_count": 26,
   "metadata": {},
   "outputs": [
    {
     "name": "stdout",
     "output_type": "stream",
     "text": [
      "torch.Size([1]) tensor([1.2332], grad_fn=<AddBackward0>)\n"
     ]
    }
   ],
   "source": [
    "# Do predictions manually\n",
    "drug_out = torch.from_numpy(drug_input[0].reshape(-1, 294)).float() @ model.drug_linear.weight.t() + \\\n",
    "                                                                    model.drug_linear.bias\n",
    "cl_out = torch.from_numpy(cl_input[0].reshape(-1, 224)).float() @ model.cell_line_linear.weight.t() + \\\n",
    "                                                            model.cell_line_linear.bias\n",
    "final_out = torch.zeros(drug_out.shape[0])\n",
    "for k in range(drug_out.shape[1]):\n",
    "    final_out = final_out + drug_out[:, k] * cl_out[:, k]\n",
    "print(final_out.shape, final_out)"
   ]
  },
  {
   "cell_type": "code",
   "execution_count": 27,
   "metadata": {},
   "outputs": [
    {
     "name": "stdout",
     "output_type": "stream",
     "text": [
      "torch.Size([1000, 1]) tensor(0.9998) tensor(0.0032) tensor(0.8278)\n",
      "Baseline scores:\n",
      "RMSE: 0.1809899693056732\n",
      "Correlation: (nan, nan)\n",
      "\n",
      "Model scores:\n",
      "tensor(0.9998) tensor(0.0032) tensor(0.8278)\n",
      "RMSE: 0.03989179944196873\n",
      "Correlation: (0.9755886142030082, 0.0)\n"
     ]
    },
    {
     "name": "stderr",
     "output_type": "stream",
     "text": [
      "/home/krzysztof/.local/lib/python3.6/site-packages/scipy/stats/stats.py:3399: PearsonRConstantInputWarning: An input array is constant; the correlation coefficent is not defined.\n",
      "  warnings.warn(PearsonRConstantInputWarning())\n"
     ]
    }
   ],
   "source": [
    "# Predict on training data\n",
    "sample = samples_train.iloc[:]\n",
    "y_true = sample[\"AUC\"].values\n",
    "\n",
    "# Create baseline predictions(mean AUC)\n",
    "mean_preds = np.array([mean_training_auc] * sample.shape[0])\n",
    "\n",
    "cl_input = cell_line_data_df.loc[sample[\"COSMIC_ID\"].values].values\n",
    "drug_input = drug_data_df.loc[sample[\"DRUG_ID\"].values].values\n",
    "\n",
    "model.eval()\n",
    "with torch.no_grad():\n",
    "    predicted = model(torch.from_numpy(drug_input).float(), \n",
    "                     torch.from_numpy(cl_input).float())\n",
    "    \n",
    "del cl_input, drug_input\n",
    "\n",
    "print(predicted.shape, predicted.max(), predicted.min(), predicted.mean())\n",
    "print(\"Baseline scores:\")\n",
    "evaluate_predictions(y_true, mean_preds)\n",
    "print()\n",
    "print(\"Model scores:\")\n",
    "print(predicted.max(), predicted.min(), predicted.mean())\n",
    "evaluate_predictions(y_true, predicted.reshape(-1))"
   ]
  },
  {
   "cell_type": "code",
   "execution_count": 28,
   "metadata": {},
   "outputs": [
    {
     "name": "stdout",
     "output_type": "stream",
     "text": [
      "(73, 6) 73\n",
      "0.9562221880874111\n"
     ]
    },
    {
     "name": "stderr",
     "output_type": "stream",
     "text": [
      "/home/krzysztof/.local/lib/python3.6/site-packages/scipy/stats/stats.py:3399: PearsonRConstantInputWarning: An input array is constant; the correlation coefficent is not defined.\n",
      "  warnings.warn(PearsonRConstantInputWarning())\n"
     ]
    }
   ],
   "source": [
    "# Compute evaluation metrics per drug\n",
    "sample_with_predictions = sample.copy()\n",
    "sample_with_predictions[\"Predicted AUC\"] = predicted.numpy()\n",
    "\n",
    "drugs = []\n",
    "model_corrs = []\n",
    "model_rmses = []\n",
    "dummy_corrs = []\n",
    "dummy_rmses = []\n",
    "no_samples = []\n",
    "\n",
    "for drug in sample_with_predictions.DRUG_ID.unique():\n",
    "    df = sample_with_predictions[sample_with_predictions.DRUG_ID == drug]\n",
    "    dummy_preds = [mean_training_auc] * df.shape[0]\n",
    "    dummy_rmse = metrics.mean_squared_error(df[\"AUC\"], dummy_preds) ** 0.5\n",
    "    dummy_corr = pearsonr(df[\"AUC\"], dummy_preds)\n",
    "    \n",
    "    model_rmse = metrics.mean_squared_error(df[\"AUC\"], df[\"Predicted AUC\"]) ** 0.5\n",
    "    model_corr = pearsonr(df[\"AUC\"], df[\"Predicted AUC\"])\n",
    "    \n",
    "    drugs.append(drug)\n",
    "    dummy_rmses.append(dummy_rmse)\n",
    "    dummy_corrs.append(dummy_corr[0])\n",
    "    \n",
    "    model_rmses.append(model_rmse)\n",
    "    model_corrs.append(model_corr[0])\n",
    "    \n",
    "    no_samples.append(df.COSMIC_ID.nunique())\n",
    "\n",
    "corrs_per_drug = pd.DataFrame()\n",
    "corrs_per_drug[\"Drug ID\"] = drugs\n",
    "corrs_per_drug[\"Model RMSE\"] = model_rmses\n",
    "corrs_per_drug[\"Model correlation\"] = model_corrs\n",
    "\n",
    "corrs_per_drug[\"Dummy RMSE\"] = dummy_rmses\n",
    "corrs_per_drug[\"Dummy correlation\"] = dummy_corrs\n",
    "corrs_per_drug[\"No. samples\"] = no_samples\n",
    "\n",
    "print(corrs_per_drug.shape, corrs_per_drug[\"Drug ID\"].nunique())\n",
    "print(corrs_per_drug[\"Model correlation\"].median())"
   ]
  },
  {
   "cell_type": "code",
   "execution_count": 29,
   "metadata": {},
   "outputs": [
    {
     "data": {
      "text/html": [
       "<div>\n",
       "<style scoped>\n",
       "    .dataframe tbody tr th:only-of-type {\n",
       "        vertical-align: middle;\n",
       "    }\n",
       "\n",
       "    .dataframe tbody tr th {\n",
       "        vertical-align: top;\n",
       "    }\n",
       "\n",
       "    .dataframe thead th {\n",
       "        text-align: right;\n",
       "    }\n",
       "</style>\n",
       "<table border=\"1\" class=\"dataframe\">\n",
       "  <thead>\n",
       "    <tr style=\"text-align: right;\">\n",
       "      <th></th>\n",
       "      <th>Drug ID</th>\n",
       "      <th>Model RMSE</th>\n",
       "      <th>Model correlation</th>\n",
       "      <th>Dummy RMSE</th>\n",
       "      <th>Dummy correlation</th>\n",
       "      <th>No. samples</th>\n",
       "    </tr>\n",
       "  </thead>\n",
       "  <tbody>\n",
       "    <tr>\n",
       "      <th>53</th>\n",
       "      <td>374</td>\n",
       "      <td>0.009294</td>\n",
       "      <td>0.999395</td>\n",
       "      <td>0.242848</td>\n",
       "      <td>NaN</td>\n",
       "      <td>14</td>\n",
       "    </tr>\n",
       "    <tr>\n",
       "      <th>6</th>\n",
       "      <td>159</td>\n",
       "      <td>0.012356</td>\n",
       "      <td>0.998503</td>\n",
       "      <td>0.156630</td>\n",
       "      <td>NaN</td>\n",
       "      <td>13</td>\n",
       "    </tr>\n",
       "    <tr>\n",
       "      <th>10</th>\n",
       "      <td>371</td>\n",
       "      <td>0.015868</td>\n",
       "      <td>0.998382</td>\n",
       "      <td>0.263676</td>\n",
       "      <td>NaN</td>\n",
       "      <td>21</td>\n",
       "    </tr>\n",
       "    <tr>\n",
       "      <th>16</th>\n",
       "      <td>1161</td>\n",
       "      <td>0.008251</td>\n",
       "      <td>0.998074</td>\n",
       "      <td>0.128990</td>\n",
       "      <td>NaN</td>\n",
       "      <td>9</td>\n",
       "    </tr>\n",
       "    <tr>\n",
       "      <th>2</th>\n",
       "      <td>56</td>\n",
       "      <td>0.011818</td>\n",
       "      <td>0.997088</td>\n",
       "      <td>0.139967</td>\n",
       "      <td>NaN</td>\n",
       "      <td>12</td>\n",
       "    </tr>\n",
       "  </tbody>\n",
       "</table>\n",
       "</div>"
      ],
      "text/plain": [
       "    Drug ID  Model RMSE  Model correlation  Dummy RMSE  Dummy correlation  \\\n",
       "53      374    0.009294           0.999395    0.242848                NaN   \n",
       "6       159    0.012356           0.998503    0.156630                NaN   \n",
       "10      371    0.015868           0.998382    0.263676                NaN   \n",
       "16     1161    0.008251           0.998074    0.128990                NaN   \n",
       "2        56    0.011818           0.997088    0.139967                NaN   \n",
       "\n",
       "    No. samples  \n",
       "53           14  \n",
       "6            13  \n",
       "10           21  \n",
       "16            9  \n",
       "2            12  "
      ]
     },
     "execution_count": 29,
     "metadata": {},
     "output_type": "execute_result"
    }
   ],
   "source": [
    "corrs_per_drug.sort_values(\"Model correlation\", ascending=False).head()"
   ]
  },
  {
   "cell_type": "code",
   "execution_count": 30,
   "metadata": {},
   "outputs": [
    {
     "data": {
      "image/png": "[encoded data removed]",
      "text/plain": [
       "<Figure size 864x288 with 1 Axes>"
      ]
     },
     "metadata": {},
     "output_type": "display_data"
    }
   ],
   "source": [
    "# Plot per-drug results\n",
    "plt.figure(figsize=(12, 4))\n",
    "plt.xticks(rotation=90)\n",
    "sns.barplot(x=\"Drug ID\", y=\"Model correlation\", data=corrs_per_drug,\n",
    "           order=corrs_per_drug.sort_values(\"Model correlation\", ascending=False)[\"Drug ID\"])\n",
    "\n",
    "plt.show()"
   ]
  },
  {
   "cell_type": "markdown",
   "metadata": {},
   "source": [
    "#### Evaluation on validation set"
   ]
  },
  {
   "cell_type": "code",
   "execution_count": 63,
   "metadata": {},
   "outputs": [
    {
     "name": "stdout",
     "output_type": "stream",
     "text": [
      "(5866, 3)\n"
     ]
    }
   ],
   "source": [
    "print(samples_val.shape)"
   ]
  },
  {
   "cell_type": "code",
   "execution_count": 64,
   "metadata": {},
   "outputs": [
    {
     "name": "stdout",
     "output_type": "stream",
     "text": [
      "torch.Size([5866, 1]) tensor(2.3811) tensor(-4.0338) tensor(0.5972)\n",
      "Baseline scores:\n",
      "RMSE: 0.18352162371871672\n",
      "Correlation: (nan, nan)\n",
      "\n",
      "Model scores:\n",
      "tensor(2.3811) tensor(-4.0338) tensor(0.5972)\n",
      "RMSE: 0.5463192625697165\n",
      "Correlation: (0.11624790267467003, 4.1911948227930274e-19)\n"
     ]
    },
    {
     "name": "stderr",
     "output_type": "stream",
     "text": [
      "/home/krzysztof/.local/lib/python3.6/site-packages/scipy/stats/stats.py:3399: PearsonRConstantInputWarning: An input array is constant; the correlation coefficent is not defined.\n",
      "  warnings.warn(PearsonRConstantInputWarning())\n"
     ]
    }
   ],
   "source": [
    "# Predict on validation data and evaluate\n",
    "sample = samples_val[:]\n",
    "y_true = sample[\"AUC\"].values\n",
    "\n",
    "# Create baseline predictions(mean AUC)\n",
    "mean_preds = np.array([mean_training_auc] * sample.shape[0])\n",
    "\n",
    "cl_input = cell_line_data_df.loc[sample[\"COSMIC_ID\"].values].values\n",
    "drug_input = drug_data_df.loc[sample[\"DRUG_ID\"].values].values\n",
    "\n",
    "model.eval()\n",
    "with torch.no_grad():\n",
    "    predicted = model(torch.from_numpy(drug_input).float(), \n",
    "                     torch.from_numpy(cl_input).float())\n",
    "    \n",
    "del cl_input, drug_input\n",
    "\n",
    "print(predicted.shape, predicted.max(), predicted.min(), predicted.mean())\n",
    "print(\"Baseline scores:\")\n",
    "evaluate_predictions(y_true, mean_preds)\n",
    "print()\n",
    "\n",
    "print(\"Model scores:\")\n",
    "print(predicted.max(), predicted.min(), predicted.mean())\n",
    "evaluate_predictions(y_true, predicted.view(-1))"
   ]
  },
  {
   "cell_type": "code",
   "execution_count": 65,
   "metadata": {},
   "outputs": [
    {
     "name": "stdout",
     "output_type": "stream",
     "text": [
      "(74, 6) 74\n",
      "0.032948457949925736\n"
     ]
    },
    {
     "name": "stderr",
     "output_type": "stream",
     "text": [
      "/home/krzysztof/.local/lib/python3.6/site-packages/scipy/stats/stats.py:3399: PearsonRConstantInputWarning: An input array is constant; the correlation coefficent is not defined.\n",
      "  warnings.warn(PearsonRConstantInputWarning())\n"
     ]
    }
   ],
   "source": [
    "# Compute evaluation metrics per drug\n",
    "sample_with_predictions = sample.copy()\n",
    "sample_with_predictions[\"Predicted AUC\"] = predicted.numpy()\n",
    "\n",
    "drugs = []\n",
    "model_corrs = []\n",
    "model_rmses = []\n",
    "dummy_corrs = []\n",
    "dummy_rmses = []\n",
    "no_samples = []\n",
    "\n",
    "for drug in sample_with_predictions.DRUG_ID.unique():\n",
    "    df = sample_with_predictions[sample_with_predictions.DRUG_ID == drug]\n",
    "    dummy_preds = [mean_training_auc] * df.shape[0]\n",
    "    dummy_rmse = metrics.mean_squared_error(df[\"AUC\"], dummy_preds) ** 0.5\n",
    "    dummy_corr = pearsonr(df[\"AUC\"], dummy_preds)\n",
    "    \n",
    "    model_rmse = metrics.mean_squared_error(df[\"AUC\"], df[\"Predicted AUC\"]) ** 0.5\n",
    "    model_corr = pearsonr(df[\"AUC\"], df[\"Predicted AUC\"])\n",
    "    \n",
    "    drugs.append(drug)\n",
    "    dummy_rmses.append(dummy_rmse)\n",
    "    dummy_corrs.append(dummy_corr[0])\n",
    "    \n",
    "    model_rmses.append(model_rmse)\n",
    "    model_corrs.append(model_corr[0])\n",
    "    \n",
    "    no_samples.append(df.COSMIC_ID.nunique())\n",
    "\n",
    "corrs_per_drug = pd.DataFrame()\n",
    "corrs_per_drug[\"Drug ID\"] = drugs\n",
    "corrs_per_drug[\"Model RMSE\"] = model_rmses\n",
    "corrs_per_drug[\"Model correlation\"] = model_corrs\n",
    "\n",
    "corrs_per_drug[\"Dummy RMSE\"] = dummy_rmses\n",
    "corrs_per_drug[\"Dummy correlation\"] = dummy_corrs\n",
    "corrs_per_drug[\"No. samples\"] = no_samples\n",
    "\n",
    "print(corrs_per_drug.shape, corrs_per_drug[\"Drug ID\"].nunique())\n",
    "print(corrs_per_drug[\"Model correlation\"].median())"
   ]
  },
  {
   "cell_type": "code",
   "execution_count": 66,
   "metadata": {},
   "outputs": [
    {
     "data": {
      "image/png": "[encoded data removed]",
      "text/plain": [
       "<Figure size 720x288 with 1 Axes>"
      ]
     },
     "metadata": {},
     "output_type": "display_data"
    }
   ],
   "source": [
    "# Plot per-drug results\n",
    "plt.figure(figsize=(12, 4))\n",
    "plt.xticks(rotation=90)\n",
    "sns.barplot(x=\"Drug ID\", y=\"Model correlation\", data=corrs_per_drug,\n",
    "           order=corrs_per_drug.sort_values(\"Model correlation\", ascending=False)[\"Drug ID\"])\n",
    "\n",
    "plt.show()"
   ]
  },
  {
   "cell_type": "markdown",
   "metadata": {},
   "source": [
    "#### Evaluate on unseen cell lines"
   ]
  },
  {
   "cell_type": "code",
   "execution_count": 67,
   "metadata": {},
   "outputs": [
    {
     "name": "stdout",
     "output_type": "stream",
     "text": [
      "tensor(2.1030) tensor(-3.6626) tensor(0.5473)\n",
      "RMSE: 0.5226993060739263\n",
      "Correlation: (0.1527588729585517, 5.247973552308591e-31)\n"
     ]
    }
   ],
   "source": [
    "# Predict on unseen cell lines and evaluate\n",
    "sample = samples_test\n",
    "y_true = sample[\"AUC\"].values\n",
    "\n",
    "cl_input = cell_line_data_df.loc[sample[\"COSMIC_ID\"].values].values\n",
    "drug_input = drug_data_df.loc[sample[\"DRUG_ID\"].values].values\n",
    "\n",
    "model.eval()\n",
    "with torch.no_grad():\n",
    "    predicted = model(torch.from_numpy(drug_input).float(), \n",
    "                     torch.from_numpy(cl_input).float())\n",
    "    \n",
    "del cl_input, drug_input\n",
    "\n",
    "print(predicted.max(), predicted.min(), predicted.mean())\n",
    "evaluate_predictions(y_true, predicted.view(-1))"
   ]
  },
  {
   "cell_type": "code",
   "execution_count": 68,
   "metadata": {},
   "outputs": [
    {
     "name": "stdout",
     "output_type": "stream",
     "text": [
      "(74, 6) 74\n",
      "0.05985532956288445\n"
     ]
    },
    {
     "name": "stderr",
     "output_type": "stream",
     "text": [
      "/home/krzysztof/.local/lib/python3.6/site-packages/scipy/stats/stats.py:3399: PearsonRConstantInputWarning: An input array is constant; the correlation coefficent is not defined.\n",
      "  warnings.warn(PearsonRConstantInputWarning())\n"
     ]
    }
   ],
   "source": [
    "# Compute evaluation metrics per drug\n",
    "sample_with_predictions = sample.copy()\n",
    "sample_with_predictions[\"Predicted AUC\"] = predicted.numpy()\n",
    "\n",
    "drugs = []\n",
    "model_corrs = []\n",
    "model_rmses = []\n",
    "dummy_corrs = []\n",
    "dummy_rmses = []\n",
    "no_samples = []\n",
    "\n",
    "for drug in sample_with_predictions.DRUG_ID.unique():\n",
    "    df = sample_with_predictions[sample_with_predictions.DRUG_ID == drug]\n",
    "    dummy_preds = [mean_training_auc] * df.shape[0]\n",
    "    dummy_rmse = metrics.mean_squared_error(df[\"AUC\"], dummy_preds) ** 0.5\n",
    "    dummy_corr = pearsonr(df[\"AUC\"], dummy_preds)\n",
    "    \n",
    "    model_rmse = metrics.mean_squared_error(df[\"AUC\"], df[\"Predicted AUC\"]) ** 0.5\n",
    "    model_corr = pearsonr(df[\"AUC\"], df[\"Predicted AUC\"])\n",
    "    \n",
    "    drugs.append(drug)\n",
    "    dummy_rmses.append(dummy_rmse)\n",
    "    dummy_corrs.append(dummy_corr[0])\n",
    "    \n",
    "    model_rmses.append(model_rmse)\n",
    "    model_corrs.append(model_corr[0])\n",
    "    \n",
    "    no_samples.append(df.COSMIC_ID.nunique())\n",
    "\n",
    "corrs_per_drug = pd.DataFrame()\n",
    "corrs_per_drug[\"Drug ID\"] = drugs\n",
    "corrs_per_drug[\"Model RMSE\"] = model_rmses\n",
    "corrs_per_drug[\"Model correlation\"] = model_corrs\n",
    "\n",
    "corrs_per_drug[\"Dummy RMSE\"] = dummy_rmses\n",
    "corrs_per_drug[\"Dummy correlation\"] = dummy_corrs\n",
    "corrs_per_drug[\"No. samples\"] = no_samples\n",
    "\n",
    "print(corrs_per_drug.shape, corrs_per_drug[\"Drug ID\"].nunique())\n",
    "print(corrs_per_drug[\"Model correlation\"].median())"
   ]
  },
  {
   "cell_type": "code",
   "execution_count": 69,
   "metadata": {},
   "outputs": [
    {
     "data": {
      "image/png": "[encoded data removed]",
      "text/plain": [
       "<Figure size 720x288 with 1 Axes>"
      ]
     },
     "metadata": {},
     "output_type": "display_data"
    }
   ],
   "source": [
    "# Plot per-drug results\n",
    "plt.figure(figsize=(12, 4))\n",
    "plt.xticks(rotation=90)\n",
    "sns.barplot(x=\"Drug ID\", y=\"Model correlation\", data=corrs_per_drug,\n",
    "           order=corrs_per_drug.sort_values(\"Model correlation\", ascending=False)[\"Drug ID\"])\n",
    "\n",
    "plt.show()"
   ]
  },
  {
   "cell_type": "code",
   "execution_count": null,
   "metadata": {},
   "outputs": [],
   "source": []
  },
  {
   "cell_type": "markdown",
   "metadata": {},
   "source": [
    "## Prototype Model class"
   ]
  },
  {
   "cell_type": "code",
   "execution_count": 61,
   "metadata": {},
   "outputs": [],
   "source": [
    "class Model:\n",
    "    def __init__(self, name, network):\n",
    "        self.name = name\n",
    "        self.network = network\n",
    "        \n",
    "    def train(self, train_samples, cell_line_features, drug_features,\n",
    "             batch_size, optimizer, criterion, reg_lambda=0, log=True):\n",
    "        \"\"\"Perform training process by looping over training set in batches (one epoch) of the\n",
    "        training.\"\"\"\n",
    "        no_batches = train_samples.shape[0] // batch_size + 1\n",
    "        \n",
    "        # Training the model\n",
    "        self.network.train()\n",
    "        for batch in range(no_batches):\n",
    "            # Separate response variable batch\n",
    "            if batch != no_batches:\n",
    "                samples_batch = train_samples.iloc[batch * batch_size:(batch + 1) * batch_size]\n",
    "            else:\n",
    "                samples_batch = train_samples.iloc[batch * batch_size:]\n",
    "\n",
    "            # Extract output variable batch\n",
    "            y_batch = torch.from_numpy(samples_batch[\"AUC\"].values).view(-1, 1)\n",
    "\n",
    "            # Extract cell lines IDs for which data shall be extracted\n",
    "            cl_ids = samples_batch[\"COSMIC_ID\"].values\n",
    "            # Extract corresponding cell line data\n",
    "            cell_line_input_batch = cell_line_features.loc[cl_ids].values\n",
    "            cell_line_input_batch = torch.from_numpy(cell_line_input_batch)\n",
    "\n",
    "            # Extract drug IDs for which data shall be extracted\n",
    "            drug_ids = samples_batch[\"DRUG_ID\"].values\n",
    "            # Extract corresponding drug data\n",
    "            drug_input_batch = drug_features.loc[drug_ids].values\n",
    "            drug_input_batch = torch.from_numpy(drug_input_batch)\n",
    "\n",
    "            # Clear gradient buffers because we don't want to accummulate gradients \n",
    "            optimizer.zero_grad()\n",
    "\n",
    "            # Perform forward pass\n",
    "            batch_output = self.network(drug_input_batch.float(), cell_line_input_batch.float())\n",
    "\n",
    "            reg_sum = 0\n",
    "            for param in self.network.parameters():\n",
    "                reg_sum += 0.5 * (param ** 2).sum()  # L2 norm\n",
    "\n",
    "            # Compute the loss for this batch\n",
    "            loss = criterion(batch_output, y_batch.float()) + reg_lambda * reg_sum\n",
    "            # Get the gradients w.r.t. the parameters\n",
    "            loss.backward()\n",
    "            # Update the parameters\n",
    "            optimizer.step()\n",
    "        return loss\n",
    "    \n",
    "    def predict(self, samples, cell_line_features, drug_features):\n",
    "        \"\"\"Predict response on a given set of samples\"\"\"\n",
    "        y_true = sample[\"AUC\"].values\n",
    "\n",
    "        cl_input = cell_line_features.loc[samples[\"COSMIC_ID\"].values].values\n",
    "        drug_input = drug_features.loc[samples[\"DRUG_ID\"].values].values\n",
    "\n",
    "        self.network.eval()\n",
    "        with torch.no_grad():\n",
    "            predicted = model_test.network(torch.from_numpy(drug_input).float(), \n",
    "                             torch.from_numpy(cl_input).float())\n",
    "        return predicted, y_true\n",
    "    \n",
    "    @staticmethod\n",
    "    def predicted_vs_actual_df(samples, predicted):\n",
    "        \"\"\"Compute evaluation metrics per drug and return them in a DataFrame\"\"\"\n",
    "        sample_with_predictions = samples.copy()\n",
    "        sample_with_predictions[\"Predicted AUC\"] = predicted.numpy()\n",
    "\n",
    "        drugs = []\n",
    "        model_corrs = []\n",
    "        model_rmses = []\n",
    "        dummy_corrs = []\n",
    "        dummy_rmses = []\n",
    "        no_samples = []\n",
    "\n",
    "        for drug in sample_with_predictions.DRUG_ID.unique():\n",
    "            df = sample_with_predictions[sample_with_predictions.DRUG_ID == drug]\n",
    "            dummy_preds = [mean_training_auc] * df.shape[0]\n",
    "            dummy_rmse = metrics.mean_squared_error(df[\"AUC\"], dummy_preds) ** 0.5\n",
    "            dummy_corr = pearsonr(df[\"AUC\"], dummy_preds)\n",
    "\n",
    "            model_rmse = metrics.mean_squared_error(df[\"AUC\"], df[\"Predicted AUC\"]) ** 0.5\n",
    "            model_corr = pearsonr(df[\"AUC\"], df[\"Predicted AUC\"])\n",
    "\n",
    "            drugs.append(drug)\n",
    "            dummy_rmses.append(dummy_rmse)\n",
    "            dummy_corrs.append(dummy_corr[0])\n",
    "\n",
    "            model_rmses.append(model_rmse)\n",
    "            model_corrs.append(model_corr[0])\n",
    "\n",
    "            no_samples.append(df.COSMIC_ID.nunique())\n",
    "\n",
    "        performance_per_drug = pd.DataFrame()\n",
    "        performance_per_drug[\"Drug ID\"] = drugs\n",
    "        performance_per_drug[\"Model RMSE\"] = model_rmses\n",
    "        performance_per_drug[\"Model correlation\"] = model_corrs\n",
    "\n",
    "        performance_per_drug[\"Dummy RMSE\"] = dummy_rmses\n",
    "        performance_per_drug[\"Dummy correlation\"] = dummy_corrs\n",
    "        performance_per_drug[\"No. samples\"] = no_samples\n",
    "\n",
    "        return corrs_per_drug\n",
    "        \n",
    "    @staticmethod\n",
    "    def evaluate_predictions(y_true, preds):\n",
    "        \"\"\"Compute RMSE and correlation with true values for model predictions\"\"\"\n",
    "        return metrics.mean_squared_error(y_true, preds) ** 0.5, pearsonr(y_true, preds)"
   ]
  },
  {
   "cell_type": "code",
   "execution_count": 62,
   "metadata": {},
   "outputs": [
    {
     "data": {
      "text/plain": [
       "LinearMatrixFactorizationWithFeatures(\n",
       "  (drug_linear): Linear(in_features=294, out_features=10, bias=True)\n",
       "  (cell_line_linear): Linear(in_features=224, out_features=10, bias=True)\n",
       ")"
      ]
     },
     "execution_count": 62,
     "metadata": {},
     "output_type": "execute_result"
    }
   ],
   "source": [
    "# Specify network shapes\n",
    "drug_dim = drug_data_df.shape[1]\n",
    "cell_line_dim = cell_line_data_df.shape[1]\n",
    "output_dim = 10\n",
    "\n",
    "# Specify network\n",
    "network = LinearMatrixFactorizationWithFeatures(drug_dim, cell_line_dim, output_dim,\n",
    "                                             drug_bias=True,\n",
    "                                             cell_line_bias=True,\n",
    "                                             out_activation_func=torch.sigmoid)\n",
    "# Create Model instance\n",
    "model_test = Model(\"Test model instance\", network)\n",
    "\n",
    "# Display text representation of model\n",
    "model_test.network"
   ]
  },
  {
   "cell_type": "code",
   "execution_count": 63,
   "metadata": {},
   "outputs": [
    {
     "name": "stdout",
     "output_type": "stream",
     "text": [
      "Epoch 1, loss: 0.1655\n",
      "Epoch 2, loss: 0.0839\n",
      "Epoch 3, loss: 0.0601\n",
      "Epoch 4, loss: 0.0464\n",
      "Epoch 5, loss: 0.0358\n",
      "Epoch 6, loss: 0.0272\n",
      "Epoch 7, loss: 0.0204\n",
      "Epoch 8, loss: 0.0153\n",
      "Epoch 9, loss: 0.0117\n",
      "Epoch 10, loss: 0.0092\n",
      "Epoch 11, loss: 0.0074\n",
      "Epoch 12, loss: 0.0061\n",
      "Epoch 13, loss: 0.0051\n",
      "Epoch 14, loss: 0.0044\n",
      "Epoch 15, loss: 0.0038\n",
      "Epoch 16, loss: 0.0035\n",
      "Epoch 17, loss: 0.0032\n",
      "Epoch 18, loss: 0.0031\n",
      "Epoch 19, loss: 0.0029\n",
      "Epoch 20, loss: 0.0027\n",
      "Epoch 21, loss: 0.0025\n",
      "Epoch 22, loss: 0.0024\n",
      "Epoch 23, loss: 0.0023\n",
      "Epoch 24, loss: 0.0022\n",
      "Epoch 25, loss: 0.0021\n",
      "Epoch 26, loss: 0.0020\n",
      "Epoch 27, loss: 0.0019\n",
      "Epoch 28, loss: 0.0018\n",
      "Epoch 29, loss: 0.0017\n",
      "Epoch 30, loss: 0.0016\n"
     ]
    }
   ],
   "source": [
    "# Do the training\n",
    "# Specify learning parameters\n",
    "batch_size = 32\n",
    "learning_rate = 0.04\n",
    "weight_decay = 0.\n",
    "reg_lambda = 0.\n",
    "\n",
    "criterion = torch.nn.MSELoss()\n",
    "optimizer = torch.optim.SGD(model_test.network.parameters(), lr=learning_rate, weight_decay=weight_decay)\n",
    "\n",
    "# Training loops\n",
    "epochs = 30\n",
    "\n",
    "for epoch in range(epochs):\n",
    "    loss = model_test.train(samples_train, cell_line_data_df, drug_data_df, batch_size,\n",
    "                    optimizer, criterion, reg_lambda=reg_lambda)\n",
    "    \n",
    "    print(\"Epoch {}, loss: {:.4f}\".format(epoch + 1, loss.item()))"
   ]
  },
  {
   "cell_type": "code",
   "execution_count": 25,
   "metadata": {},
   "outputs": [],
   "source": [
    "mean_training_auc = samples_train[\"AUC\"].mean()"
   ]
  },
  {
   "cell_type": "code",
   "execution_count": 119,
   "metadata": {},
   "outputs": [
    {
     "name": "stdout",
     "output_type": "stream",
     "text": [
      "RMSE: 0.0514340603164783\n",
      "Correlation: (0.9606547328767453, 0.0)\n"
     ]
    }
   ],
   "source": [
    "predicted, y_true = model_test.predict(sample, cell_line_data_df, drug_data_df)\n",
    "evaluate_predictions(y_true, predicted.reshape(-1))"
   ]
  },
  {
   "cell_type": "code",
   "execution_count": 120,
   "metadata": {},
   "outputs": [
    {
     "name": "stdout",
     "output_type": "stream",
     "text": [
      "(73, 6) 73\n",
      "0.9251053807930224\n"
     ]
    },
    {
     "name": "stderr",
     "output_type": "stream",
     "text": [
      "/home/krzysztof/.local/lib/python3.6/site-packages/scipy/stats/stats.py:3399: PearsonRConstantInputWarning: An input array is constant; the correlation coefficent is not defined.\n",
      "  warnings.warn(PearsonRConstantInputWarning())\n"
     ]
    }
   ],
   "source": [
    "df = model_test.predicted_vs_actual_df(sample, predicted)\n",
    "print(df.shape, df[\"Drug ID\"].nunique())\n",
    "print(df[\"Model correlation\"].median())"
   ]
  },
  {
   "cell_type": "markdown",
   "metadata": {},
   "source": [
    "## Prototype hyperparameter tuning with Tune library"
   ]
  },
  {
   "cell_type": "code",
   "execution_count": 64,
   "metadata": {},
   "outputs": [],
   "source": [
    "import ray\n",
    "from ray import tune\n",
    "from ray.tune import track"
   ]
  },
  {
   "cell_type": "code",
   "execution_count": 83,
   "metadata": {},
   "outputs": [
    {
     "data": {
      "text/plain": [
       "LinearMatrixFactorizationWithFeatures(\n",
       "  (drug_linear): Linear(in_features=294, out_features=10, bias=True)\n",
       "  (cell_line_linear): Linear(in_features=224, out_features=10, bias=True)\n",
       ")"
      ]
     },
     "execution_count": 83,
     "metadata": {},
     "output_type": "execute_result"
    }
   ],
   "source": [
    "# Specify network shapes\n",
    "drug_dim = drug_data_df.shape[1]\n",
    "cell_line_dim = cell_line_data_df.shape[1]\n",
    "output_dim = 10\n",
    "\n",
    "# Specify network\n",
    "network = LinearMatrixFactorizationWithFeatures(drug_dim, cell_line_dim, output_dim,\n",
    "                                             drug_bias=True,\n",
    "                                             cell_line_bias=True,\n",
    "                                             out_activation_func=torch.sigmoid)\n",
    "# Create Model instance\n",
    "model_test = Model(\"Test model instance\", network)\n",
    "\n",
    "# Display text representation of model\n",
    "model_test.network"
   ]
  },
  {
   "cell_type": "code",
   "execution_count": 84,
   "metadata": {},
   "outputs": [],
   "source": [
    "# Do the training\n",
    "# Specify learning parameters\n",
    "\n",
    "criterion = torch.nn.MSELoss()\n",
    "# for epoch in range(epochs):\n",
    "#     loss = model_test.train(samples_train, cell_line_data_df, drug_data_df, batch_size,\n",
    "#                     optimizer, criterion, reg_lambda=reg_lambda)\n"
   ]
  },
  {
   "cell_type": "code",
   "execution_count": 85,
   "metadata": {},
   "outputs": [
    {
     "data": {
      "text/plain": [
       "tensor(-2.6713, grad_fn=<SumBackward0>)"
      ]
     },
     "execution_count": 85,
     "metadata": {},
     "output_type": "execute_result"
    }
   ],
   "source": [
    "model_test.network.drug_linear.weight.sum()"
   ]
  },
  {
   "cell_type": "code",
   "execution_count": 94,
   "metadata": {},
   "outputs": [],
   "source": [
    "def trainable_for_tuning(config):\n",
    "    optimizer = torch.optim.SGD(model_test.network.parameters(), lr=config[\"lr\"])\n",
    "    \n",
    "    for epoch in range(1, epochs + 1):\n",
    "        # Iterate over traning set\n",
    "        loss = model_test.train(samples_train, cell_line_data_df, drug_data_df, config[\"batch_size\"],\n",
    "                     optimizer, criterion, reg_lambda=config[\"l2_lambda\"])\n",
    "        # Make predictions\n",
    "        predicted, y_true = model_test.predict(samples_train, cell_line_data_df, drug_data_df)\n",
    "        rmse, corr = Model.evaluate_predictions(y_true, predicted.reshape(-1))\n",
    "        \n",
    "        print(rmse, corr)"
   ]
  },
  {
   "cell_type": "code",
   "execution_count": 95,
   "metadata": {},
   "outputs": [
    {
     "name": "stdout",
     "output_type": "stream",
     "text": [
      "0.25438775648860745 (0.4970489192762197, 1.6168150665539803e-63)\n",
      "0.23979431637483556 (0.5378460920457976, 4.6622922464724026e-76)\n",
      "0.22604690673507952 (0.5744182356016918, 7.372557842045007e-89)\n"
     ]
    }
   ],
   "source": [
    "epochs = 3\n",
    "search_space = {\n",
    "    \"lr\": 0.04,\n",
    "    \"batch_size\": 32,\n",
    "    \"l2_lambda\": 0.\n",
    "}\n",
    "\n",
    "trainable_for_tuning(search_space)"
   ]
  },
  {
   "cell_type": "code",
   "execution_count": 88,
   "metadata": {},
   "outputs": [
    {
     "data": {
      "text/plain": [
       "tensor(-0.8624, grad_fn=<SumBackward0>)"
      ]
     },
     "execution_count": 88,
     "metadata": {},
     "output_type": "execute_result"
    }
   ],
   "source": [
    "model_test.network.drug_linear.weight.sum()"
   ]
  },
  {
   "cell_type": "code",
   "execution_count": null,
   "metadata": {},
   "outputs": [],
   "source": [
    "predicted, y_true = model_test.predict(sample, cell_line_data_df, drug_data_df)"
   ]
  },
  {
   "cell_type": "code",
   "execution_count": 91,
   "metadata": {},
   "outputs": [],
   "source": [
    "rmse, corr = Model.evaluate_predictions(y_true, predicted.reshape(-1))"
   ]
  },
  {
   "cell_type": "code",
   "execution_count": null,
   "metadata": {},
   "outputs": [],
   "source": []
  },
  {
   "cell_type": "code",
   "execution_count": 79,
   "metadata": {},
   "outputs": [
    {
     "name": "stderr",
     "output_type": "stream",
     "text": [
      "2019-12-11 00:27:26,267\tWARNING worker.py:1268 -- WARNING: Not updating worker name since `setproctitle` is not installed. Install this with `pip install setproctitle` (or ray[debug]) to enable monitoring of worker processes.\n",
      "2019-12-11 00:27:26,270\tINFO resource_spec.py:205 -- Starting Ray with 0.73 GiB memory available for workers and up to 0.38 GiB for objects. You can adjust these settings with ray.init(memory=<bytes>, object_store_memory=<bytes>).\n",
      "2019-12-11 00:27:26,680\tINFO function_runner.py:254 -- tune.track signature detected.\n",
      "2019-12-11 00:27:26,976\tWARNING logger.py:343 -- Could not instantiate tf2_compat_logger: module 'tensorflow.compat' has no attribute 'v1'.\n"
     ]
    },
    {
     "name": "stdout",
     "output_type": "stream",
     "text": [
      "== Status ==\n",
      "Using FIFO scheduling algorithm.\n",
      "Resources requested: 0/1 CPUs, 0/0 GPUs, 0.0/0.73 GiB heap, 0.0/0.24 GiB objects\n",
      "Memory usage on this node: 4.0/7.5 GiB\n",
      "\n",
      "== Status ==\n",
      "Using FIFO scheduling algorithm.\n",
      "Resources requested: 1/1 CPUs, 0/0 GPUs, 0.0/0.73 GiB heap, 0.0/0.24 GiB objects\n",
      "Memory usage on this node: 4.1/7.5 GiB\n",
      "Result logdir: /media/krzysztof/Nowy/Doktorat - Modelling drug efficacy in cancer/Recommender System Approach/Scripts/Prototypes and baseline models/Hyperparameter Tuning Tune Results/train\n",
      "Number of trials: 2 ({'RUNNING': 1, 'PENDING': 1})\n",
      "PENDING trials:\n",
      " - train_1_lr=0.71234,momentum=0.40297:\tPENDING\n",
      "RUNNING trials:\n",
      " - train_0_lr=2.3305e-06,momentum=0.27159:\tRUNNING\n",
      "\n",
      "Result for train_0_lr=2.3305e-06,momentum=0.27159:\n",
      "  date: 2019-12-11_00-27-28\n",
      "  done: false\n",
      "  experiment_id: 93b21607ab1048ee908750c58aa507af\n",
      "  hostname: krzysztof-ThinkPad-X1-Carbon-3rd\n",
      "  iterations_since_restore: 1\n",
      "  mean_accuracy: 0.10330780595541\n",
      "  mean_loss: 1.10330780595541\n",
      "  neg_mean_loss: -1.10330780595541\n",
      "  node_ip: 192.168.0.78\n",
      "  pid: 14141\n",
      "  time_since_restore: 0.2177281379699707\n",
      "  time_this_iter_s: 0.2177281379699707\n",
      "  time_total_s: 0.2177281379699707\n",
      "  timestamp: 1576020448\n",
      "  timesteps_since_restore: 0\n",
      "  training_iteration: 0\n",
      "  trial_id: a075262c\n",
      "  \n",
      "== Status ==\n",
      "Using FIFO scheduling algorithm.\n",
      "Resources requested: 1/1 CPUs, 0/0 GPUs, 0.0/0.73 GiB heap, 0.0/0.24 GiB objects\n",
      "Memory usage on this node: 4.2/7.5 GiB\n",
      "Result logdir: /media/krzysztof/Nowy/Doktorat - Modelling drug efficacy in cancer/Recommender System Approach/Scripts/Prototypes and baseline models/Hyperparameter Tuning Tune Results/train\n",
      "Number of trials: 2 ({'RUNNING': 1, 'PENDING': 1})\n",
      "PENDING trials:\n",
      " - train_1_lr=0.71234,momentum=0.40297:\tPENDING\n",
      "RUNNING trials:\n",
      " - train_0_lr=2.3305e-06,momentum=0.27159:\tRUNNING, [1 CPUs, 0 GPUs], [pid=14141], 3 s, 18 iter, 1.1 loss, 0.103 acc\n",
      "\n",
      "Result for train_0_lr=2.3305e-06,momentum=0.27159:\n",
      "  date: 2019-12-11_00-27-34\n",
      "  done: false\n",
      "  experiment_id: 93b21607ab1048ee908750c58aa507af\n",
      "  hostname: krzysztof-ThinkPad-X1-Carbon-3rd\n",
      "  iterations_since_restore: 27\n",
      "  mean_accuracy: 0.10297565162181854\n",
      "  mean_loss: 1.1029756516218185\n",
      "  neg_mean_loss: -1.1029756516218185\n",
      "  node_ip: 192.168.0.78\n",
      "  pid: 14141\n",
      "  time_since_restore: 5.288489580154419\n",
      "  time_this_iter_s: 0.15886402130126953\n",
      "  time_total_s: 5.288489580154419\n",
      "  timestamp: 1576020454\n",
      "  timesteps_since_restore: 0\n",
      "  training_iteration: 26\n",
      "  trial_id: a075262c\n",
      "  \n"
     ]
    },
    {
     "name": "stderr",
     "output_type": "stream",
     "text": [
      "2019-12-11 00:27:34,523\tWARNING logger.py:343 -- Could not instantiate tf2_compat_logger: module 'tensorflow.compat' has no attribute 'v1'.\n"
     ]
    },
    {
     "name": "stdout",
     "output_type": "stream",
     "text": [
      "Result for train_1_lr=0.71234,momentum=0.40297:\n",
      "  date: 2019-12-11_00-27-36\n",
      "  done: false\n",
      "  experiment_id: 16e3f226a91b4a2884e9bfa0c5ef2585\n",
      "  hostname: krzysztof-ThinkPad-X1-Carbon-3rd\n",
      "  iterations_since_restore: 1\n",
      "  mean_accuracy: 0.34623363614082336\n",
      "  mean_loss: 1.3462336361408234\n",
      "  neg_mean_loss: -1.3462336361408234\n",
      "  node_ip: 192.168.0.78\n",
      "  pid: 14185\n",
      "  time_since_restore: 0.15075206756591797\n",
      "  time_this_iter_s: 0.15075206756591797\n",
      "  time_total_s: 0.15075206756591797\n",
      "  timestamp: 1576020456\n",
      "  timesteps_since_restore: 0\n",
      "  training_iteration: 0\n",
      "  trial_id: a0798fdc\n",
      "  \n",
      "== Status ==\n",
      "Using FIFO scheduling algorithm.\n",
      "Resources requested: 1/1 CPUs, 0/0 GPUs, 0.0/0.73 GiB heap, 0.0/0.24 GiB objects\n",
      "Memory usage on this node: 4.1/7.5 GiB\n",
      "Result logdir: /media/krzysztof/Nowy/Doktorat - Modelling drug efficacy in cancer/Recommender System Approach/Scripts/Prototypes and baseline models/Hyperparameter Tuning Tune Results/train\n",
      "Number of trials: 2 ({'TERMINATED': 1, 'RUNNING': 1})\n",
      "RUNNING trials:\n",
      " - train_1_lr=0.71234,momentum=0.40297:\tRUNNING, [1 CPUs, 0 GPUs], [pid=14185], 1 s, 7 iter, 1.25 loss, 0.251 acc\n",
      "TERMINATED trials:\n",
      " - train_0_lr=2.3305e-06,momentum=0.27159:\tTERMINATED, [1 CPUs, 0 GPUs], [pid=14141], 5 s, 29 iter, 1.1 loss, 0.103 acc\n",
      "\n"
     ]
    },
    {
     "name": "stderr",
     "output_type": "stream",
     "text": [
      "2019-12-11 00:27:41,215\tINFO tune.py:276 -- Returning an analysis object by default. You can call `analysis.trials` to retrieve a list of trials. This message will be removed in future versions of Tune.\n"
     ]
    },
    {
     "name": "stdout",
     "output_type": "stream",
     "text": [
      "Result for train_1_lr=0.71234,momentum=0.40297:\n",
      "  date: 2019-12-11_00-27-41\n",
      "  done: false\n",
      "  experiment_id: 16e3f226a91b4a2884e9bfa0c5ef2585\n",
      "  hostname: krzysztof-ThinkPad-X1-Carbon-3rd\n",
      "  iterations_since_restore: 30\n",
      "  mean_accuracy: 0.46582314372062683\n",
      "  mean_loss: 1.4658231437206268\n",
      "  neg_mean_loss: -1.4658231437206268\n",
      "  node_ip: 192.168.0.78\n",
      "  pid: 14185\n",
      "  time_since_restore: 5.18181300163269\n",
      "  time_this_iter_s: 0.15746188163757324\n",
      "  time_total_s: 5.18181300163269\n",
      "  timestamp: 1576020461\n",
      "  timesteps_since_restore: 0\n",
      "  training_iteration: 29\n",
      "  trial_id: a0798fdc\n",
      "  \n",
      "== Status ==\n",
      "Using FIFO scheduling algorithm.\n",
      "Resources requested: 0/1 CPUs, 0/0 GPUs, 0.0/0.73 GiB heap, 0.0/0.24 GiB objects\n",
      "Memory usage on this node: 4.2/7.5 GiB\n",
      "Result logdir: /media/krzysztof/Nowy/Doktorat - Modelling drug efficacy in cancer/Recommender System Approach/Scripts/Prototypes and baseline models/Hyperparameter Tuning Tune Results/train\n",
      "Number of trials: 2 ({'TERMINATED': 2})\n",
      "TERMINATED trials:\n",
      " - train_0_lr=2.3305e-06,momentum=0.27159:\tTERMINATED, [1 CPUs, 0 GPUs], [pid=14141], 5 s, 29 iter, 1.1 loss, 0.103 acc\n",
      " - train_1_lr=0.71234,momentum=0.40297:\tTERMINATED, [1 CPUs, 0 GPUs], [pid=14185], 5 s, 29 iter, 1.47 loss, 0.466 acc\n",
      "\n"
     ]
    }
   ],
   "source": [
    "search_space = {\n",
    "    \"lr\": tune.sample_from(lambda spec: 10**(-10 * np.random.rand())),\n",
    "    \"momentum\": tune.uniform(0.1, 0.9)\n",
    "}\n",
    "\n",
    "ray.shutdown()\n",
    "ray.init(num_cpus=1, num_gpus=0)\n",
    "\n",
    "results_dir = \"./Hyperparameter Tuning Tune Results\"\n",
    "analysis = tune.run(train, config=search_space, num_samples=2, local_dir=results_dir)"
   ]
  },
  {
   "cell_type": "code",
   "execution_count": 27,
   "metadata": {},
   "outputs": [],
   "source": [
    "! rm -r \"./Hyperparameter Tuning Tune Results\""
   ]
  },
  {
   "cell_type": "code",
   "execution_count": 59,
   "metadata": {},
   "outputs": [
    {
     "name": "stdout",
     "output_type": "stream",
     "text": [
      "<class 'pandas.core.frame.DataFrame'>\n",
      "<class 'pandas.core.frame.DataFrame'>\n"
     ]
    },
    {
     "data": {
      "text/plain": [
       "[<matplotlib.axes._subplots.AxesSubplot at 0x7f5ac01066d8>,\n",
       " <matplotlib.axes._subplots.AxesSubplot at 0x7f5ac01066d8>]"
      ]
     },
     "execution_count": 59,
     "metadata": {},
     "output_type": "execute_result"
    },
    {
     "data": {
      "image/png": "[encoded data removed]",
      "text/plain": [
       "<Figure size 432x288 with 1 Axes>"
      ]
     },
     "metadata": {},
     "output_type": "display_data"
    }
   ],
   "source": [
    "dfs = analysis.trial_dataframes\n",
    "for d in dfs.values():\n",
    "    print(type(d))\n",
    "[d.mean_accuracy.plot() for d in dfs.values()]"
   ]
  },
  {
   "cell_type": "code",
   "execution_count": 41,
   "metadata": {},
   "outputs": [],
   "source": [
    "for k in dfs:\n",
    "    df = dfs[k]\n",
    "    break"
   ]
  },
  {
   "cell_type": "code",
   "execution_count": 42,
   "metadata": {},
   "outputs": [
    {
     "data": {
      "text/plain": [
       "(30, 19)"
      ]
     },
     "execution_count": 42,
     "metadata": {},
     "output_type": "execute_result"
    }
   ],
   "source": [
    "df.shape"
   ]
  },
  {
   "cell_type": "code",
   "execution_count": 43,
   "metadata": {},
   "outputs": [
    {
     "data": {
      "text/html": [
       "<div>\n",
       "<style scoped>\n",
       "    .dataframe tbody tr th:only-of-type {\n",
       "        vertical-align: middle;\n",
       "    }\n",
       "\n",
       "    .dataframe tbody tr th {\n",
       "        vertical-align: top;\n",
       "    }\n",
       "\n",
       "    .dataframe thead th {\n",
       "        text-align: right;\n",
       "    }\n",
       "</style>\n",
       "<table border=\"1\" class=\"dataframe\">\n",
       "  <thead>\n",
       "    <tr style=\"text-align: right;\">\n",
       "      <th></th>\n",
       "      <th>mean_accuracy</th>\n",
       "      <th>mean_loss</th>\n",
       "      <th>trial_id</th>\n",
       "      <th>training_iteration</th>\n",
       "      <th>time_this_iter_s</th>\n",
       "      <th>done</th>\n",
       "      <th>timesteps_total</th>\n",
       "      <th>episodes_total</th>\n",
       "      <th>neg_mean_loss</th>\n",
       "      <th>experiment_id</th>\n",
       "      <th>date</th>\n",
       "      <th>timestamp</th>\n",
       "      <th>time_total_s</th>\n",
       "      <th>pid</th>\n",
       "      <th>hostname</th>\n",
       "      <th>node_ip</th>\n",
       "      <th>time_since_restore</th>\n",
       "      <th>timesteps_since_restore</th>\n",
       "      <th>iterations_since_restore</th>\n",
       "    </tr>\n",
       "  </thead>\n",
       "  <tbody>\n",
       "    <tr>\n",
       "      <th>0</th>\n",
       "      <td>0.156613</td>\n",
       "      <td>1.156613</td>\n",
       "      <td>f5ab6c9e</td>\n",
       "      <td>0</td>\n",
       "      <td>0.158537</td>\n",
       "      <td>False</td>\n",
       "      <td>NaN</td>\n",
       "      <td>NaN</td>\n",
       "      <td>-1.156613</td>\n",
       "      <td>996947082ea0473cab4c7cd585fe9438</td>\n",
       "      <td>2019-12-11_00-08-23</td>\n",
       "      <td>1576019303</td>\n",
       "      <td>0.158537</td>\n",
       "      <td>13497</td>\n",
       "      <td>krzysztof-ThinkPad-X1-Carbon-3rd</td>\n",
       "      <td>192.168.0.78</td>\n",
       "      <td>0.158537</td>\n",
       "      <td>0</td>\n",
       "      <td>1</td>\n",
       "    </tr>\n",
       "    <tr>\n",
       "      <th>1</th>\n",
       "      <td>0.144161</td>\n",
       "      <td>1.144161</td>\n",
       "      <td>f5ab6c9e</td>\n",
       "      <td>1</td>\n",
       "      <td>0.144723</td>\n",
       "      <td>False</td>\n",
       "      <td>NaN</td>\n",
       "      <td>NaN</td>\n",
       "      <td>-1.144161</td>\n",
       "      <td>996947082ea0473cab4c7cd585fe9438</td>\n",
       "      <td>2019-12-11_00-08-23</td>\n",
       "      <td>1576019303</td>\n",
       "      <td>0.303260</td>\n",
       "      <td>13497</td>\n",
       "      <td>krzysztof-ThinkPad-X1-Carbon-3rd</td>\n",
       "      <td>192.168.0.78</td>\n",
       "      <td>0.303260</td>\n",
       "      <td>0</td>\n",
       "      <td>2</td>\n",
       "    </tr>\n",
       "    <tr>\n",
       "      <th>2</th>\n",
       "      <td>0.132025</td>\n",
       "      <td>1.132025</td>\n",
       "      <td>f5ab6c9e</td>\n",
       "      <td>2</td>\n",
       "      <td>0.169007</td>\n",
       "      <td>False</td>\n",
       "      <td>NaN</td>\n",
       "      <td>NaN</td>\n",
       "      <td>-1.132025</td>\n",
       "      <td>996947082ea0473cab4c7cd585fe9438</td>\n",
       "      <td>2019-12-11_00-08-23</td>\n",
       "      <td>1576019303</td>\n",
       "      <td>0.472267</td>\n",
       "      <td>13497</td>\n",
       "      <td>krzysztof-ThinkPad-X1-Carbon-3rd</td>\n",
       "      <td>192.168.0.78</td>\n",
       "      <td>0.472267</td>\n",
       "      <td>0</td>\n",
       "      <td>3</td>\n",
       "    </tr>\n",
       "    <tr>\n",
       "      <th>3</th>\n",
       "      <td>0.120559</td>\n",
       "      <td>1.120559</td>\n",
       "      <td>f5ab6c9e</td>\n",
       "      <td>3</td>\n",
       "      <td>0.139969</td>\n",
       "      <td>False</td>\n",
       "      <td>NaN</td>\n",
       "      <td>NaN</td>\n",
       "      <td>-1.120559</td>\n",
       "      <td>996947082ea0473cab4c7cd585fe9438</td>\n",
       "      <td>2019-12-11_00-08-23</td>\n",
       "      <td>1576019303</td>\n",
       "      <td>0.612236</td>\n",
       "      <td>13497</td>\n",
       "      <td>krzysztof-ThinkPad-X1-Carbon-3rd</td>\n",
       "      <td>192.168.0.78</td>\n",
       "      <td>0.612236</td>\n",
       "      <td>0</td>\n",
       "      <td>4</td>\n",
       "    </tr>\n",
       "    <tr>\n",
       "      <th>4</th>\n",
       "      <td>0.110188</td>\n",
       "      <td>1.110188</td>\n",
       "      <td>f5ab6c9e</td>\n",
       "      <td>4</td>\n",
       "      <td>0.150290</td>\n",
       "      <td>False</td>\n",
       "      <td>NaN</td>\n",
       "      <td>NaN</td>\n",
       "      <td>-1.110188</td>\n",
       "      <td>996947082ea0473cab4c7cd585fe9438</td>\n",
       "      <td>2019-12-11_00-08-23</td>\n",
       "      <td>1576019303</td>\n",
       "      <td>0.762525</td>\n",
       "      <td>13497</td>\n",
       "      <td>krzysztof-ThinkPad-X1-Carbon-3rd</td>\n",
       "      <td>192.168.0.78</td>\n",
       "      <td>0.762525</td>\n",
       "      <td>0</td>\n",
       "      <td>5</td>\n",
       "    </tr>\n",
       "    <tr>\n",
       "      <th>5</th>\n",
       "      <td>0.101269</td>\n",
       "      <td>1.101269</td>\n",
       "      <td>f5ab6c9e</td>\n",
       "      <td>5</td>\n",
       "      <td>0.179209</td>\n",
       "      <td>False</td>\n",
       "      <td>NaN</td>\n",
       "      <td>NaN</td>\n",
       "      <td>-1.101269</td>\n",
       "      <td>996947082ea0473cab4c7cd585fe9438</td>\n",
       "      <td>2019-12-11_00-08-24</td>\n",
       "      <td>1576019304</td>\n",
       "      <td>0.941734</td>\n",
       "      <td>13497</td>\n",
       "      <td>krzysztof-ThinkPad-X1-Carbon-3rd</td>\n",
       "      <td>192.168.0.78</td>\n",
       "      <td>0.941734</td>\n",
       "      <td>0</td>\n",
       "      <td>6</td>\n",
       "    </tr>\n",
       "    <tr>\n",
       "      <th>6</th>\n",
       "      <td>0.093948</td>\n",
       "      <td>1.093948</td>\n",
       "      <td>f5ab6c9e</td>\n",
       "      <td>6</td>\n",
       "      <td>0.247928</td>\n",
       "      <td>False</td>\n",
       "      <td>NaN</td>\n",
       "      <td>NaN</td>\n",
       "      <td>-1.093948</td>\n",
       "      <td>996947082ea0473cab4c7cd585fe9438</td>\n",
       "      <td>2019-12-11_00-08-24</td>\n",
       "      <td>1576019304</td>\n",
       "      <td>1.189662</td>\n",
       "      <td>13497</td>\n",
       "      <td>krzysztof-ThinkPad-X1-Carbon-3rd</td>\n",
       "      <td>192.168.0.78</td>\n",
       "      <td>1.189662</td>\n",
       "      <td>0</td>\n",
       "      <td>7</td>\n",
       "    </tr>\n",
       "    <tr>\n",
       "      <th>7</th>\n",
       "      <td>0.088124</td>\n",
       "      <td>1.088124</td>\n",
       "      <td>f5ab6c9e</td>\n",
       "      <td>7</td>\n",
       "      <td>0.171880</td>\n",
       "      <td>False</td>\n",
       "      <td>NaN</td>\n",
       "      <td>NaN</td>\n",
       "      <td>-1.088124</td>\n",
       "      <td>996947082ea0473cab4c7cd585fe9438</td>\n",
       "      <td>2019-12-11_00-08-24</td>\n",
       "      <td>1576019304</td>\n",
       "      <td>1.361542</td>\n",
       "      <td>13497</td>\n",
       "      <td>krzysztof-ThinkPad-X1-Carbon-3rd</td>\n",
       "      <td>192.168.0.78</td>\n",
       "      <td>1.361542</td>\n",
       "      <td>0</td>\n",
       "      <td>8</td>\n",
       "    </tr>\n",
       "    <tr>\n",
       "      <th>8</th>\n",
       "      <td>0.083548</td>\n",
       "      <td>1.083548</td>\n",
       "      <td>f5ab6c9e</td>\n",
       "      <td>8</td>\n",
       "      <td>0.144833</td>\n",
       "      <td>False</td>\n",
       "      <td>NaN</td>\n",
       "      <td>NaN</td>\n",
       "      <td>-1.083548</td>\n",
       "      <td>996947082ea0473cab4c7cd585fe9438</td>\n",
       "      <td>2019-12-11_00-08-24</td>\n",
       "      <td>1576019304</td>\n",
       "      <td>1.506375</td>\n",
       "      <td>13497</td>\n",
       "      <td>krzysztof-ThinkPad-X1-Carbon-3rd</td>\n",
       "      <td>192.168.0.78</td>\n",
       "      <td>1.506375</td>\n",
       "      <td>0</td>\n",
       "      <td>9</td>\n",
       "    </tr>\n",
       "    <tr>\n",
       "      <th>9</th>\n",
       "      <td>0.079937</td>\n",
       "      <td>1.079937</td>\n",
       "      <td>f5ab6c9e</td>\n",
       "      <td>9</td>\n",
       "      <td>0.145505</td>\n",
       "      <td>False</td>\n",
       "      <td>NaN</td>\n",
       "      <td>NaN</td>\n",
       "      <td>-1.079937</td>\n",
       "      <td>996947082ea0473cab4c7cd585fe9438</td>\n",
       "      <td>2019-12-11_00-08-24</td>\n",
       "      <td>1576019304</td>\n",
       "      <td>1.651880</td>\n",
       "      <td>13497</td>\n",
       "      <td>krzysztof-ThinkPad-X1-Carbon-3rd</td>\n",
       "      <td>192.168.0.78</td>\n",
       "      <td>1.651880</td>\n",
       "      <td>0</td>\n",
       "      <td>10</td>\n",
       "    </tr>\n",
       "    <tr>\n",
       "      <th>10</th>\n",
       "      <td>0.077046</td>\n",
       "      <td>1.077046</td>\n",
       "      <td>f5ab6c9e</td>\n",
       "      <td>10</td>\n",
       "      <td>0.153963</td>\n",
       "      <td>False</td>\n",
       "      <td>NaN</td>\n",
       "      <td>NaN</td>\n",
       "      <td>-1.077046</td>\n",
       "      <td>996947082ea0473cab4c7cd585fe9438</td>\n",
       "      <td>2019-12-11_00-08-25</td>\n",
       "      <td>1576019305</td>\n",
       "      <td>1.805843</td>\n",
       "      <td>13497</td>\n",
       "      <td>krzysztof-ThinkPad-X1-Carbon-3rd</td>\n",
       "      <td>192.168.0.78</td>\n",
       "      <td>1.805843</td>\n",
       "      <td>0</td>\n",
       "      <td>11</td>\n",
       "    </tr>\n",
       "    <tr>\n",
       "      <th>11</th>\n",
       "      <td>0.074686</td>\n",
       "      <td>1.074686</td>\n",
       "      <td>f5ab6c9e</td>\n",
       "      <td>11</td>\n",
       "      <td>0.166965</td>\n",
       "      <td>False</td>\n",
       "      <td>NaN</td>\n",
       "      <td>NaN</td>\n",
       "      <td>-1.074686</td>\n",
       "      <td>996947082ea0473cab4c7cd585fe9438</td>\n",
       "      <td>2019-12-11_00-08-25</td>\n",
       "      <td>1576019305</td>\n",
       "      <td>1.972807</td>\n",
       "      <td>13497</td>\n",
       "      <td>krzysztof-ThinkPad-X1-Carbon-3rd</td>\n",
       "      <td>192.168.0.78</td>\n",
       "      <td>1.972807</td>\n",
       "      <td>0</td>\n",
       "      <td>12</td>\n",
       "    </tr>\n",
       "    <tr>\n",
       "      <th>12</th>\n",
       "      <td>0.072719</td>\n",
       "      <td>1.072719</td>\n",
       "      <td>f5ab6c9e</td>\n",
       "      <td>12</td>\n",
       "      <td>0.234763</td>\n",
       "      <td>False</td>\n",
       "      <td>NaN</td>\n",
       "      <td>NaN</td>\n",
       "      <td>-1.072719</td>\n",
       "      <td>996947082ea0473cab4c7cd585fe9438</td>\n",
       "      <td>2019-12-11_00-08-25</td>\n",
       "      <td>1576019305</td>\n",
       "      <td>2.207571</td>\n",
       "      <td>13497</td>\n",
       "      <td>krzysztof-ThinkPad-X1-Carbon-3rd</td>\n",
       "      <td>192.168.0.78</td>\n",
       "      <td>2.207571</td>\n",
       "      <td>0</td>\n",
       "      <td>13</td>\n",
       "    </tr>\n",
       "    <tr>\n",
       "      <th>13</th>\n",
       "      <td>0.071047</td>\n",
       "      <td>1.071047</td>\n",
       "      <td>f5ab6c9e</td>\n",
       "      <td>13</td>\n",
       "      <td>0.168184</td>\n",
       "      <td>False</td>\n",
       "      <td>NaN</td>\n",
       "      <td>NaN</td>\n",
       "      <td>-1.071047</td>\n",
       "      <td>996947082ea0473cab4c7cd585fe9438</td>\n",
       "      <td>2019-12-11_00-08-25</td>\n",
       "      <td>1576019305</td>\n",
       "      <td>2.375755</td>\n",
       "      <td>13497</td>\n",
       "      <td>krzysztof-ThinkPad-X1-Carbon-3rd</td>\n",
       "      <td>192.168.0.78</td>\n",
       "      <td>2.375755</td>\n",
       "      <td>0</td>\n",
       "      <td>14</td>\n",
       "    </tr>\n",
       "    <tr>\n",
       "      <th>14</th>\n",
       "      <td>0.069602</td>\n",
       "      <td>1.069602</td>\n",
       "      <td>f5ab6c9e</td>\n",
       "      <td>14</td>\n",
       "      <td>0.180917</td>\n",
       "      <td>False</td>\n",
       "      <td>NaN</td>\n",
       "      <td>NaN</td>\n",
       "      <td>-1.069602</td>\n",
       "      <td>996947082ea0473cab4c7cd585fe9438</td>\n",
       "      <td>2019-12-11_00-08-25</td>\n",
       "      <td>1576019305</td>\n",
       "      <td>2.556672</td>\n",
       "      <td>13497</td>\n",
       "      <td>krzysztof-ThinkPad-X1-Carbon-3rd</td>\n",
       "      <td>192.168.0.78</td>\n",
       "      <td>2.556672</td>\n",
       "      <td>0</td>\n",
       "      <td>15</td>\n",
       "    </tr>\n",
       "    <tr>\n",
       "      <th>15</th>\n",
       "      <td>0.068333</td>\n",
       "      <td>1.068333</td>\n",
       "      <td>f5ab6c9e</td>\n",
       "      <td>15</td>\n",
       "      <td>0.257240</td>\n",
       "      <td>False</td>\n",
       "      <td>NaN</td>\n",
       "      <td>NaN</td>\n",
       "      <td>-1.068333</td>\n",
       "      <td>996947082ea0473cab4c7cd585fe9438</td>\n",
       "      <td>2019-12-11_00-08-26</td>\n",
       "      <td>1576019306</td>\n",
       "      <td>2.813911</td>\n",
       "      <td>13497</td>\n",
       "      <td>krzysztof-ThinkPad-X1-Carbon-3rd</td>\n",
       "      <td>192.168.0.78</td>\n",
       "      <td>2.813911</td>\n",
       "      <td>0</td>\n",
       "      <td>16</td>\n",
       "    </tr>\n",
       "    <tr>\n",
       "      <th>16</th>\n",
       "      <td>0.067205</td>\n",
       "      <td>1.067205</td>\n",
       "      <td>f5ab6c9e</td>\n",
       "      <td>16</td>\n",
       "      <td>0.145011</td>\n",
       "      <td>False</td>\n",
       "      <td>NaN</td>\n",
       "      <td>NaN</td>\n",
       "      <td>-1.067205</td>\n",
       "      <td>996947082ea0473cab4c7cd585fe9438</td>\n",
       "      <td>2019-12-11_00-08-26</td>\n",
       "      <td>1576019306</td>\n",
       "      <td>2.958922</td>\n",
       "      <td>13497</td>\n",
       "      <td>krzysztof-ThinkPad-X1-Carbon-3rd</td>\n",
       "      <td>192.168.0.78</td>\n",
       "      <td>2.958922</td>\n",
       "      <td>0</td>\n",
       "      <td>17</td>\n",
       "    </tr>\n",
       "    <tr>\n",
       "      <th>17</th>\n",
       "      <td>0.066191</td>\n",
       "      <td>1.066191</td>\n",
       "      <td>f5ab6c9e</td>\n",
       "      <td>17</td>\n",
       "      <td>0.178160</td>\n",
       "      <td>False</td>\n",
       "      <td>NaN</td>\n",
       "      <td>NaN</td>\n",
       "      <td>-1.066191</td>\n",
       "      <td>996947082ea0473cab4c7cd585fe9438</td>\n",
       "      <td>2019-12-11_00-08-26</td>\n",
       "      <td>1576019306</td>\n",
       "      <td>3.137082</td>\n",
       "      <td>13497</td>\n",
       "      <td>krzysztof-ThinkPad-X1-Carbon-3rd</td>\n",
       "      <td>192.168.0.78</td>\n",
       "      <td>3.137082</td>\n",
       "      <td>0</td>\n",
       "      <td>18</td>\n",
       "    </tr>\n",
       "    <tr>\n",
       "      <th>18</th>\n",
       "      <td>0.065273</td>\n",
       "      <td>1.065273</td>\n",
       "      <td>f5ab6c9e</td>\n",
       "      <td>18</td>\n",
       "      <td>0.228139</td>\n",
       "      <td>False</td>\n",
       "      <td>NaN</td>\n",
       "      <td>NaN</td>\n",
       "      <td>-1.065273</td>\n",
       "      <td>996947082ea0473cab4c7cd585fe9438</td>\n",
       "      <td>2019-12-11_00-08-26</td>\n",
       "      <td>1576019306</td>\n",
       "      <td>3.365221</td>\n",
       "      <td>13497</td>\n",
       "      <td>krzysztof-ThinkPad-X1-Carbon-3rd</td>\n",
       "      <td>192.168.0.78</td>\n",
       "      <td>3.365221</td>\n",
       "      <td>0</td>\n",
       "      <td>19</td>\n",
       "    </tr>\n",
       "    <tr>\n",
       "      <th>19</th>\n",
       "      <td>0.064434</td>\n",
       "      <td>1.064434</td>\n",
       "      <td>f5ab6c9e</td>\n",
       "      <td>19</td>\n",
       "      <td>0.173993</td>\n",
       "      <td>False</td>\n",
       "      <td>NaN</td>\n",
       "      <td>NaN</td>\n",
       "      <td>-1.064434</td>\n",
       "      <td>996947082ea0473cab4c7cd585fe9438</td>\n",
       "      <td>2019-12-11_00-08-26</td>\n",
       "      <td>1576019306</td>\n",
       "      <td>3.539214</td>\n",
       "      <td>13497</td>\n",
       "      <td>krzysztof-ThinkPad-X1-Carbon-3rd</td>\n",
       "      <td>192.168.0.78</td>\n",
       "      <td>3.539214</td>\n",
       "      <td>0</td>\n",
       "      <td>20</td>\n",
       "    </tr>\n",
       "    <tr>\n",
       "      <th>20</th>\n",
       "      <td>0.063662</td>\n",
       "      <td>1.063662</td>\n",
       "      <td>f5ab6c9e</td>\n",
       "      <td>20</td>\n",
       "      <td>0.160969</td>\n",
       "      <td>False</td>\n",
       "      <td>NaN</td>\n",
       "      <td>NaN</td>\n",
       "      <td>-1.063662</td>\n",
       "      <td>996947082ea0473cab4c7cd585fe9438</td>\n",
       "      <td>2019-12-11_00-08-26</td>\n",
       "      <td>1576019306</td>\n",
       "      <td>3.700183</td>\n",
       "      <td>13497</td>\n",
       "      <td>krzysztof-ThinkPad-X1-Carbon-3rd</td>\n",
       "      <td>192.168.0.78</td>\n",
       "      <td>3.700183</td>\n",
       "      <td>0</td>\n",
       "      <td>21</td>\n",
       "    </tr>\n",
       "    <tr>\n",
       "      <th>21</th>\n",
       "      <td>0.062949</td>\n",
       "      <td>1.062949</td>\n",
       "      <td>f5ab6c9e</td>\n",
       "      <td>21</td>\n",
       "      <td>0.220860</td>\n",
       "      <td>False</td>\n",
       "      <td>NaN</td>\n",
       "      <td>NaN</td>\n",
       "      <td>-1.062949</td>\n",
       "      <td>996947082ea0473cab4c7cd585fe9438</td>\n",
       "      <td>2019-12-11_00-08-27</td>\n",
       "      <td>1576019307</td>\n",
       "      <td>3.921043</td>\n",
       "      <td>13497</td>\n",
       "      <td>krzysztof-ThinkPad-X1-Carbon-3rd</td>\n",
       "      <td>192.168.0.78</td>\n",
       "      <td>3.921043</td>\n",
       "      <td>0</td>\n",
       "      <td>22</td>\n",
       "    </tr>\n",
       "    <tr>\n",
       "      <th>22</th>\n",
       "      <td>0.062287</td>\n",
       "      <td>1.062287</td>\n",
       "      <td>f5ab6c9e</td>\n",
       "      <td>22</td>\n",
       "      <td>0.185360</td>\n",
       "      <td>False</td>\n",
       "      <td>NaN</td>\n",
       "      <td>NaN</td>\n",
       "      <td>-1.062287</td>\n",
       "      <td>996947082ea0473cab4c7cd585fe9438</td>\n",
       "      <td>2019-12-11_00-08-27</td>\n",
       "      <td>1576019307</td>\n",
       "      <td>4.106403</td>\n",
       "      <td>13497</td>\n",
       "      <td>krzysztof-ThinkPad-X1-Carbon-3rd</td>\n",
       "      <td>192.168.0.78</td>\n",
       "      <td>4.106403</td>\n",
       "      <td>0</td>\n",
       "      <td>23</td>\n",
       "    </tr>\n",
       "    <tr>\n",
       "      <th>23</th>\n",
       "      <td>0.061668</td>\n",
       "      <td>1.061668</td>\n",
       "      <td>f5ab6c9e</td>\n",
       "      <td>23</td>\n",
       "      <td>0.197485</td>\n",
       "      <td>False</td>\n",
       "      <td>NaN</td>\n",
       "      <td>NaN</td>\n",
       "      <td>-1.061668</td>\n",
       "      <td>996947082ea0473cab4c7cd585fe9438</td>\n",
       "      <td>2019-12-11_00-08-27</td>\n",
       "      <td>1576019307</td>\n",
       "      <td>4.303888</td>\n",
       "      <td>13497</td>\n",
       "      <td>krzysztof-ThinkPad-X1-Carbon-3rd</td>\n",
       "      <td>192.168.0.78</td>\n",
       "      <td>4.303888</td>\n",
       "      <td>0</td>\n",
       "      <td>24</td>\n",
       "    </tr>\n",
       "    <tr>\n",
       "      <th>24</th>\n",
       "      <td>0.061087</td>\n",
       "      <td>1.061087</td>\n",
       "      <td>f5ab6c9e</td>\n",
       "      <td>24</td>\n",
       "      <td>0.223798</td>\n",
       "      <td>False</td>\n",
       "      <td>NaN</td>\n",
       "      <td>NaN</td>\n",
       "      <td>-1.061087</td>\n",
       "      <td>996947082ea0473cab4c7cd585fe9438</td>\n",
       "      <td>2019-12-11_00-08-27</td>\n",
       "      <td>1576019307</td>\n",
       "      <td>4.527686</td>\n",
       "      <td>13497</td>\n",
       "      <td>krzysztof-ThinkPad-X1-Carbon-3rd</td>\n",
       "      <td>192.168.0.78</td>\n",
       "      <td>4.527686</td>\n",
       "      <td>0</td>\n",
       "      <td>25</td>\n",
       "    </tr>\n",
       "    <tr>\n",
       "      <th>25</th>\n",
       "      <td>0.060541</td>\n",
       "      <td>1.060541</td>\n",
       "      <td>f5ab6c9e</td>\n",
       "      <td>25</td>\n",
       "      <td>0.142425</td>\n",
       "      <td>False</td>\n",
       "      <td>NaN</td>\n",
       "      <td>NaN</td>\n",
       "      <td>-1.060541</td>\n",
       "      <td>996947082ea0473cab4c7cd585fe9438</td>\n",
       "      <td>2019-12-11_00-08-27</td>\n",
       "      <td>1576019307</td>\n",
       "      <td>4.670110</td>\n",
       "      <td>13497</td>\n",
       "      <td>krzysztof-ThinkPad-X1-Carbon-3rd</td>\n",
       "      <td>192.168.0.78</td>\n",
       "      <td>4.670110</td>\n",
       "      <td>0</td>\n",
       "      <td>26</td>\n",
       "    </tr>\n",
       "    <tr>\n",
       "      <th>26</th>\n",
       "      <td>0.060024</td>\n",
       "      <td>1.060024</td>\n",
       "      <td>f5ab6c9e</td>\n",
       "      <td>26</td>\n",
       "      <td>0.142433</td>\n",
       "      <td>False</td>\n",
       "      <td>NaN</td>\n",
       "      <td>NaN</td>\n",
       "      <td>-1.060024</td>\n",
       "      <td>996947082ea0473cab4c7cd585fe9438</td>\n",
       "      <td>2019-12-11_00-08-28</td>\n",
       "      <td>1576019308</td>\n",
       "      <td>4.812543</td>\n",
       "      <td>13497</td>\n",
       "      <td>krzysztof-ThinkPad-X1-Carbon-3rd</td>\n",
       "      <td>192.168.0.78</td>\n",
       "      <td>4.812543</td>\n",
       "      <td>0</td>\n",
       "      <td>27</td>\n",
       "    </tr>\n",
       "    <tr>\n",
       "      <th>27</th>\n",
       "      <td>0.059534</td>\n",
       "      <td>1.059534</td>\n",
       "      <td>f5ab6c9e</td>\n",
       "      <td>27</td>\n",
       "      <td>0.159334</td>\n",
       "      <td>False</td>\n",
       "      <td>NaN</td>\n",
       "      <td>NaN</td>\n",
       "      <td>-1.059534</td>\n",
       "      <td>996947082ea0473cab4c7cd585fe9438</td>\n",
       "      <td>2019-12-11_00-08-28</td>\n",
       "      <td>1576019308</td>\n",
       "      <td>4.971878</td>\n",
       "      <td>13497</td>\n",
       "      <td>krzysztof-ThinkPad-X1-Carbon-3rd</td>\n",
       "      <td>192.168.0.78</td>\n",
       "      <td>4.971878</td>\n",
       "      <td>0</td>\n",
       "      <td>28</td>\n",
       "    </tr>\n",
       "    <tr>\n",
       "      <th>28</th>\n",
       "      <td>0.059067</td>\n",
       "      <td>1.059067</td>\n",
       "      <td>f5ab6c9e</td>\n",
       "      <td>28</td>\n",
       "      <td>0.142195</td>\n",
       "      <td>False</td>\n",
       "      <td>NaN</td>\n",
       "      <td>NaN</td>\n",
       "      <td>-1.059067</td>\n",
       "      <td>996947082ea0473cab4c7cd585fe9438</td>\n",
       "      <td>2019-12-11_00-08-28</td>\n",
       "      <td>1576019308</td>\n",
       "      <td>5.114073</td>\n",
       "      <td>13497</td>\n",
       "      <td>krzysztof-ThinkPad-X1-Carbon-3rd</td>\n",
       "      <td>192.168.0.78</td>\n",
       "      <td>5.114073</td>\n",
       "      <td>0</td>\n",
       "      <td>29</td>\n",
       "    </tr>\n",
       "    <tr>\n",
       "      <th>29</th>\n",
       "      <td>0.058620</td>\n",
       "      <td>1.058620</td>\n",
       "      <td>f5ab6c9e</td>\n",
       "      <td>29</td>\n",
       "      <td>0.171469</td>\n",
       "      <td>False</td>\n",
       "      <td>NaN</td>\n",
       "      <td>NaN</td>\n",
       "      <td>-1.058620</td>\n",
       "      <td>996947082ea0473cab4c7cd585fe9438</td>\n",
       "      <td>2019-12-11_00-08-28</td>\n",
       "      <td>1576019308</td>\n",
       "      <td>5.285542</td>\n",
       "      <td>13497</td>\n",
       "      <td>krzysztof-ThinkPad-X1-Carbon-3rd</td>\n",
       "      <td>192.168.0.78</td>\n",
       "      <td>5.285542</td>\n",
       "      <td>0</td>\n",
       "      <td>30</td>\n",
       "    </tr>\n",
       "  </tbody>\n",
       "</table>\n",
       "</div>"
      ],
      "text/plain": [
       "    mean_accuracy  mean_loss  trial_id  training_iteration  time_this_iter_s  \\\n",
       "0        0.156613   1.156613  f5ab6c9e                   0          0.158537   \n",
       "1        0.144161   1.144161  f5ab6c9e                   1          0.144723   \n",
       "2        0.132025   1.132025  f5ab6c9e                   2          0.169007   \n",
       "3        0.120559   1.120559  f5ab6c9e                   3          0.139969   \n",
       "4        0.110188   1.110188  f5ab6c9e                   4          0.150290   \n",
       "5        0.101269   1.101269  f5ab6c9e                   5          0.179209   \n",
       "6        0.093948   1.093948  f5ab6c9e                   6          0.247928   \n",
       "7        0.088124   1.088124  f5ab6c9e                   7          0.171880   \n",
       "8        0.083548   1.083548  f5ab6c9e                   8          0.144833   \n",
       "9        0.079937   1.079937  f5ab6c9e                   9          0.145505   \n",
       "10       0.077046   1.077046  f5ab6c9e                  10          0.153963   \n",
       "11       0.074686   1.074686  f5ab6c9e                  11          0.166965   \n",
       "12       0.072719   1.072719  f5ab6c9e                  12          0.234763   \n",
       "13       0.071047   1.071047  f5ab6c9e                  13          0.168184   \n",
       "14       0.069602   1.069602  f5ab6c9e                  14          0.180917   \n",
       "15       0.068333   1.068333  f5ab6c9e                  15          0.257240   \n",
       "16       0.067205   1.067205  f5ab6c9e                  16          0.145011   \n",
       "17       0.066191   1.066191  f5ab6c9e                  17          0.178160   \n",
       "18       0.065273   1.065273  f5ab6c9e                  18          0.228139   \n",
       "19       0.064434   1.064434  f5ab6c9e                  19          0.173993   \n",
       "20       0.063662   1.063662  f5ab6c9e                  20          0.160969   \n",
       "21       0.062949   1.062949  f5ab6c9e                  21          0.220860   \n",
       "22       0.062287   1.062287  f5ab6c9e                  22          0.185360   \n",
       "23       0.061668   1.061668  f5ab6c9e                  23          0.197485   \n",
       "24       0.061087   1.061087  f5ab6c9e                  24          0.223798   \n",
       "25       0.060541   1.060541  f5ab6c9e                  25          0.142425   \n",
       "26       0.060024   1.060024  f5ab6c9e                  26          0.142433   \n",
       "27       0.059534   1.059534  f5ab6c9e                  27          0.159334   \n",
       "28       0.059067   1.059067  f5ab6c9e                  28          0.142195   \n",
       "29       0.058620   1.058620  f5ab6c9e                  29          0.171469   \n",
       "\n",
       "     done  timesteps_total  episodes_total  neg_mean_loss  \\\n",
       "0   False              NaN             NaN      -1.156613   \n",
       "1   False              NaN             NaN      -1.144161   \n",
       "2   False              NaN             NaN      -1.132025   \n",
       "3   False              NaN             NaN      -1.120559   \n",
       "4   False              NaN             NaN      -1.110188   \n",
       "5   False              NaN             NaN      -1.101269   \n",
       "6   False              NaN             NaN      -1.093948   \n",
       "7   False              NaN             NaN      -1.088124   \n",
       "8   False              NaN             NaN      -1.083548   \n",
       "9   False              NaN             NaN      -1.079937   \n",
       "10  False              NaN             NaN      -1.077046   \n",
       "11  False              NaN             NaN      -1.074686   \n",
       "12  False              NaN             NaN      -1.072719   \n",
       "13  False              NaN             NaN      -1.071047   \n",
       "14  False              NaN             NaN      -1.069602   \n",
       "15  False              NaN             NaN      -1.068333   \n",
       "16  False              NaN             NaN      -1.067205   \n",
       "17  False              NaN             NaN      -1.066191   \n",
       "18  False              NaN             NaN      -1.065273   \n",
       "19  False              NaN             NaN      -1.064434   \n",
       "20  False              NaN             NaN      -1.063662   \n",
       "21  False              NaN             NaN      -1.062949   \n",
       "22  False              NaN             NaN      -1.062287   \n",
       "23  False              NaN             NaN      -1.061668   \n",
       "24  False              NaN             NaN      -1.061087   \n",
       "25  False              NaN             NaN      -1.060541   \n",
       "26  False              NaN             NaN      -1.060024   \n",
       "27  False              NaN             NaN      -1.059534   \n",
       "28  False              NaN             NaN      -1.059067   \n",
       "29  False              NaN             NaN      -1.058620   \n",
       "\n",
       "                       experiment_id                 date   timestamp  \\\n",
       "0   996947082ea0473cab4c7cd585fe9438  2019-12-11_00-08-23  1576019303   \n",
       "1   996947082ea0473cab4c7cd585fe9438  2019-12-11_00-08-23  1576019303   \n",
       "2   996947082ea0473cab4c7cd585fe9438  2019-12-11_00-08-23  1576019303   \n",
       "3   996947082ea0473cab4c7cd585fe9438  2019-12-11_00-08-23  1576019303   \n",
       "4   996947082ea0473cab4c7cd585fe9438  2019-12-11_00-08-23  1576019303   \n",
       "5   996947082ea0473cab4c7cd585fe9438  2019-12-11_00-08-24  1576019304   \n",
       "6   996947082ea0473cab4c7cd585fe9438  2019-12-11_00-08-24  1576019304   \n",
       "7   996947082ea0473cab4c7cd585fe9438  2019-12-11_00-08-24  1576019304   \n",
       "8   996947082ea0473cab4c7cd585fe9438  2019-12-11_00-08-24  1576019304   \n",
       "9   996947082ea0473cab4c7cd585fe9438  2019-12-11_00-08-24  1576019304   \n",
       "10  996947082ea0473cab4c7cd585fe9438  2019-12-11_00-08-25  1576019305   \n",
       "11  996947082ea0473cab4c7cd585fe9438  2019-12-11_00-08-25  1576019305   \n",
       "12  996947082ea0473cab4c7cd585fe9438  2019-12-11_00-08-25  1576019305   \n",
       "13  996947082ea0473cab4c7cd585fe9438  2019-12-11_00-08-25  1576019305   \n",
       "14  996947082ea0473cab4c7cd585fe9438  2019-12-11_00-08-25  1576019305   \n",
       "15  996947082ea0473cab4c7cd585fe9438  2019-12-11_00-08-26  1576019306   \n",
       "16  996947082ea0473cab4c7cd585fe9438  2019-12-11_00-08-26  1576019306   \n",
       "17  996947082ea0473cab4c7cd585fe9438  2019-12-11_00-08-26  1576019306   \n",
       "18  996947082ea0473cab4c7cd585fe9438  2019-12-11_00-08-26  1576019306   \n",
       "19  996947082ea0473cab4c7cd585fe9438  2019-12-11_00-08-26  1576019306   \n",
       "20  996947082ea0473cab4c7cd585fe9438  2019-12-11_00-08-26  1576019306   \n",
       "21  996947082ea0473cab4c7cd585fe9438  2019-12-11_00-08-27  1576019307   \n",
       "22  996947082ea0473cab4c7cd585fe9438  2019-12-11_00-08-27  1576019307   \n",
       "23  996947082ea0473cab4c7cd585fe9438  2019-12-11_00-08-27  1576019307   \n",
       "24  996947082ea0473cab4c7cd585fe9438  2019-12-11_00-08-27  1576019307   \n",
       "25  996947082ea0473cab4c7cd585fe9438  2019-12-11_00-08-27  1576019307   \n",
       "26  996947082ea0473cab4c7cd585fe9438  2019-12-11_00-08-28  1576019308   \n",
       "27  996947082ea0473cab4c7cd585fe9438  2019-12-11_00-08-28  1576019308   \n",
       "28  996947082ea0473cab4c7cd585fe9438  2019-12-11_00-08-28  1576019308   \n",
       "29  996947082ea0473cab4c7cd585fe9438  2019-12-11_00-08-28  1576019308   \n",
       "\n",
       "    time_total_s    pid                          hostname       node_ip  \\\n",
       "0       0.158537  13497  krzysztof-ThinkPad-X1-Carbon-3rd  192.168.0.78   \n",
       "1       0.303260  13497  krzysztof-ThinkPad-X1-Carbon-3rd  192.168.0.78   \n",
       "2       0.472267  13497  krzysztof-ThinkPad-X1-Carbon-3rd  192.168.0.78   \n",
       "3       0.612236  13497  krzysztof-ThinkPad-X1-Carbon-3rd  192.168.0.78   \n",
       "4       0.762525  13497  krzysztof-ThinkPad-X1-Carbon-3rd  192.168.0.78   \n",
       "5       0.941734  13497  krzysztof-ThinkPad-X1-Carbon-3rd  192.168.0.78   \n",
       "6       1.189662  13497  krzysztof-ThinkPad-X1-Carbon-3rd  192.168.0.78   \n",
       "7       1.361542  13497  krzysztof-ThinkPad-X1-Carbon-3rd  192.168.0.78   \n",
       "8       1.506375  13497  krzysztof-ThinkPad-X1-Carbon-3rd  192.168.0.78   \n",
       "9       1.651880  13497  krzysztof-ThinkPad-X1-Carbon-3rd  192.168.0.78   \n",
       "10      1.805843  13497  krzysztof-ThinkPad-X1-Carbon-3rd  192.168.0.78   \n",
       "11      1.972807  13497  krzysztof-ThinkPad-X1-Carbon-3rd  192.168.0.78   \n",
       "12      2.207571  13497  krzysztof-ThinkPad-X1-Carbon-3rd  192.168.0.78   \n",
       "13      2.375755  13497  krzysztof-ThinkPad-X1-Carbon-3rd  192.168.0.78   \n",
       "14      2.556672  13497  krzysztof-ThinkPad-X1-Carbon-3rd  192.168.0.78   \n",
       "15      2.813911  13497  krzysztof-ThinkPad-X1-Carbon-3rd  192.168.0.78   \n",
       "16      2.958922  13497  krzysztof-ThinkPad-X1-Carbon-3rd  192.168.0.78   \n",
       "17      3.137082  13497  krzysztof-ThinkPad-X1-Carbon-3rd  192.168.0.78   \n",
       "18      3.365221  13497  krzysztof-ThinkPad-X1-Carbon-3rd  192.168.0.78   \n",
       "19      3.539214  13497  krzysztof-ThinkPad-X1-Carbon-3rd  192.168.0.78   \n",
       "20      3.700183  13497  krzysztof-ThinkPad-X1-Carbon-3rd  192.168.0.78   \n",
       "21      3.921043  13497  krzysztof-ThinkPad-X1-Carbon-3rd  192.168.0.78   \n",
       "22      4.106403  13497  krzysztof-ThinkPad-X1-Carbon-3rd  192.168.0.78   \n",
       "23      4.303888  13497  krzysztof-ThinkPad-X1-Carbon-3rd  192.168.0.78   \n",
       "24      4.527686  13497  krzysztof-ThinkPad-X1-Carbon-3rd  192.168.0.78   \n",
       "25      4.670110  13497  krzysztof-ThinkPad-X1-Carbon-3rd  192.168.0.78   \n",
       "26      4.812543  13497  krzysztof-ThinkPad-X1-Carbon-3rd  192.168.0.78   \n",
       "27      4.971878  13497  krzysztof-ThinkPad-X1-Carbon-3rd  192.168.0.78   \n",
       "28      5.114073  13497  krzysztof-ThinkPad-X1-Carbon-3rd  192.168.0.78   \n",
       "29      5.285542  13497  krzysztof-ThinkPad-X1-Carbon-3rd  192.168.0.78   \n",
       "\n",
       "    time_since_restore  timesteps_since_restore  iterations_since_restore  \n",
       "0             0.158537                        0                         1  \n",
       "1             0.303260                        0                         2  \n",
       "2             0.472267                        0                         3  \n",
       "3             0.612236                        0                         4  \n",
       "4             0.762525                        0                         5  \n",
       "5             0.941734                        0                         6  \n",
       "6             1.189662                        0                         7  \n",
       "7             1.361542                        0                         8  \n",
       "8             1.506375                        0                         9  \n",
       "9             1.651880                        0                        10  \n",
       "10            1.805843                        0                        11  \n",
       "11            1.972807                        0                        12  \n",
       "12            2.207571                        0                        13  \n",
       "13            2.375755                        0                        14  \n",
       "14            2.556672                        0                        15  \n",
       "15            2.813911                        0                        16  \n",
       "16            2.958922                        0                        17  \n",
       "17            3.137082                        0                        18  \n",
       "18            3.365221                        0                        19  \n",
       "19            3.539214                        0                        20  \n",
       "20            3.700183                        0                        21  \n",
       "21            3.921043                        0                        22  \n",
       "22            4.106403                        0                        23  \n",
       "23            4.303888                        0                        24  \n",
       "24            4.527686                        0                        25  \n",
       "25            4.670110                        0                        26  \n",
       "26            4.812543                        0                        27  \n",
       "27            4.971878                        0                        28  \n",
       "28            5.114073                        0                        29  \n",
       "29            5.285542                        0                        30  "
      ]
     },
     "execution_count": 43,
     "metadata": {},
     "output_type": "execute_result"
    }
   ],
   "source": [
    "df"
   ]
  },
  {
   "cell_type": "code",
   "execution_count": null,
   "metadata": {},
   "outputs": [],
   "source": []
  },
  {
   "cell_type": "code",
   "execution_count": 38,
   "metadata": {},
   "outputs": [
    {
     "name": "stderr",
     "output_type": "stream",
     "text": [
      "2019-12-11 00:12:50,948\tWARNING experiment_analysis.py:119 -- Couldn't read config from 2 paths\n"
     ]
    }
   ],
   "source": [
    "df = analysis.dataframe()"
   ]
  },
  {
   "cell_type": "code",
   "execution_count": 39,
   "metadata": {},
   "outputs": [
    {
     "data": {
      "text/plain": [
       "(2, 19)"
      ]
     },
     "execution_count": 39,
     "metadata": {},
     "output_type": "execute_result"
    }
   ],
   "source": [
    "df.shape"
   ]
  },
  {
   "cell_type": "code",
   "execution_count": 40,
   "metadata": {},
   "outputs": [
    {
     "data": {
      "text/html": [
       "<div>\n",
       "<style scoped>\n",
       "    .dataframe tbody tr th:only-of-type {\n",
       "        vertical-align: middle;\n",
       "    }\n",
       "\n",
       "    .dataframe tbody tr th {\n",
       "        vertical-align: top;\n",
       "    }\n",
       "\n",
       "    .dataframe thead th {\n",
       "        text-align: right;\n",
       "    }\n",
       "</style>\n",
       "<table border=\"1\" class=\"dataframe\">\n",
       "  <thead>\n",
       "    <tr style=\"text-align: right;\">\n",
       "      <th></th>\n",
       "      <th>date</th>\n",
       "      <th>done</th>\n",
       "      <th>episodes_total</th>\n",
       "      <th>experiment_id</th>\n",
       "      <th>hostname</th>\n",
       "      <th>iterations_since_restore</th>\n",
       "      <th>mean_accuracy</th>\n",
       "      <th>mean_loss</th>\n",
       "      <th>neg_mean_loss</th>\n",
       "      <th>node_ip</th>\n",
       "      <th>pid</th>\n",
       "      <th>time_since_restore</th>\n",
       "      <th>time_this_iter_s</th>\n",
       "      <th>time_total_s</th>\n",
       "      <th>timestamp</th>\n",
       "      <th>timesteps_since_restore</th>\n",
       "      <th>timesteps_total</th>\n",
       "      <th>training_iteration</th>\n",
       "      <th>trial_id</th>\n",
       "    </tr>\n",
       "  </thead>\n",
       "  <tbody>\n",
       "    <tr>\n",
       "      <th>0</th>\n",
       "      <td>2019-12-11_00-08-28</td>\n",
       "      <td>False</td>\n",
       "      <td>NaN</td>\n",
       "      <td>996947082ea0473cab4c7cd585fe9438</td>\n",
       "      <td>krzysztof-ThinkPad-X1-Carbon-3rd</td>\n",
       "      <td>30</td>\n",
       "      <td>0.058620</td>\n",
       "      <td>1.058620</td>\n",
       "      <td>-1.058620</td>\n",
       "      <td>192.168.0.78</td>\n",
       "      <td>13497</td>\n",
       "      <td>5.285542</td>\n",
       "      <td>0.171469</td>\n",
       "      <td>5.285542</td>\n",
       "      <td>1576019308</td>\n",
       "      <td>0</td>\n",
       "      <td>NaN</td>\n",
       "      <td>29</td>\n",
       "      <td>f5ab6c9e</td>\n",
       "    </tr>\n",
       "    <tr>\n",
       "      <th>1</th>\n",
       "      <td>2019-12-11_00-08-36</td>\n",
       "      <td>False</td>\n",
       "      <td>NaN</td>\n",
       "      <td>8306d4cbd8ea49cd80f3b27140bc1e69</td>\n",
       "      <td>krzysztof-ThinkPad-X1-Carbon-3rd</td>\n",
       "      <td>30</td>\n",
       "      <td>0.010954</td>\n",
       "      <td>1.010954</td>\n",
       "      <td>-1.010954</td>\n",
       "      <td>192.168.0.78</td>\n",
       "      <td>13541</td>\n",
       "      <td>6.017578</td>\n",
       "      <td>0.145703</td>\n",
       "      <td>6.017578</td>\n",
       "      <td>1576019316</td>\n",
       "      <td>0</td>\n",
       "      <td>NaN</td>\n",
       "      <td>29</td>\n",
       "      <td>f5b1b2de</td>\n",
       "    </tr>\n",
       "  </tbody>\n",
       "</table>\n",
       "</div>"
      ],
      "text/plain": [
       "                  date   done  episodes_total  \\\n",
       "0  2019-12-11_00-08-28  False             NaN   \n",
       "1  2019-12-11_00-08-36  False             NaN   \n",
       "\n",
       "                      experiment_id                          hostname  \\\n",
       "0  996947082ea0473cab4c7cd585fe9438  krzysztof-ThinkPad-X1-Carbon-3rd   \n",
       "1  8306d4cbd8ea49cd80f3b27140bc1e69  krzysztof-ThinkPad-X1-Carbon-3rd   \n",
       "\n",
       "   iterations_since_restore  mean_accuracy  mean_loss  neg_mean_loss  \\\n",
       "0                        30       0.058620   1.058620      -1.058620   \n",
       "1                        30       0.010954   1.010954      -1.010954   \n",
       "\n",
       "        node_ip    pid  time_since_restore  time_this_iter_s  time_total_s  \\\n",
       "0  192.168.0.78  13497            5.285542          0.171469      5.285542   \n",
       "1  192.168.0.78  13541            6.017578          0.145703      6.017578   \n",
       "\n",
       "    timestamp  timesteps_since_restore  timesteps_total  training_iteration  \\\n",
       "0  1576019308                        0              NaN                  29   \n",
       "1  1576019316                        0              NaN                  29   \n",
       "\n",
       "   trial_id  \n",
       "0  f5ab6c9e  \n",
       "1  f5b1b2de  "
      ]
     },
     "execution_count": 40,
     "metadata": {},
     "output_type": "execute_result"
    }
   ],
   "source": [
    "df"
   ]
  },
  {
   "cell_type": "code",
   "execution_count": 34,
   "metadata": {},
   "outputs": [
    {
     "name": "stdout",
     "output_type": "stream",
     "text": [
      "Best config is {'lr': 1.2750763656960608e-09, 'momentum': 0.37545547582131755}\n"
     ]
    }
   ],
   "source": [
    "print(\"Best config is\", analysis.get_best_config(metric=\"mean_accuracy\"))"
   ]
  },
  {
   "cell_type": "code",
   "execution_count": 46,
   "metadata": {},
   "outputs": [
    {
     "data": {
      "text/plain": [
       "Index(['config/lr', 'config/momentum', 'date', 'done', 'episodes_total',\n",
       "       'experiment_id', 'hostname', 'iterations_since_restore', 'logdir',\n",
       "       'mean_accuracy', 'mean_loss', 'neg_mean_loss', 'node_ip', 'pid',\n",
       "       'time_since_restore', 'time_this_iter_s', 'time_total_s', 'timestamp',\n",
       "       'timesteps_since_restore', 'timesteps_total', 'training_iteration',\n",
       "       'trial_id'],\n",
       "      dtype='object')"
      ]
     },
     "execution_count": 46,
     "metadata": {},
     "output_type": "execute_result"
    }
   ],
   "source": [
    "df.columns"
   ]
  },
  {
   "cell_type": "code",
   "execution_count": 80,
   "metadata": {},
   "outputs": [
    {
     "data": {
      "text/plain": [
       "['_experiment_state',\n",
       " '_checkpoints',\n",
       " 'trials',\n",
       " '_experiment_dir',\n",
       " '_configs',\n",
       " '_trial_dataframes',\n",
       " '__module__',\n",
       " '__doc__',\n",
       " '__init__',\n",
       " 'stats',\n",
       " 'runner_data',\n",
       " '_get_trial_paths',\n",
       " 'dataframe',\n",
       " 'get_best_config',\n",
       " 'get_best_logdir',\n",
       " 'fetch_trial_dataframes',\n",
       " 'get_all_configs',\n",
       " '_retrieve_rows',\n",
       " 'trial_dataframes',\n",
       " '__dict__',\n",
       " '__weakref__',\n",
       " '__repr__',\n",
       " '__hash__',\n",
       " '__str__',\n",
       " '__getattribute__',\n",
       " '__setattr__',\n",
       " '__delattr__',\n",
       " '__lt__',\n",
       " '__le__',\n",
       " '__eq__',\n",
       " '__ne__',\n",
       " '__gt__',\n",
       " '__ge__',\n",
       " '__new__',\n",
       " '__reduce_ex__',\n",
       " '__reduce__',\n",
       " '__subclasshook__',\n",
       " '__init_subclass__',\n",
       " '__format__',\n",
       " '__sizeof__',\n",
       " '__dir__',\n",
       " '__class__']"
      ]
     },
     "execution_count": 80,
     "metadata": {},
     "output_type": "execute_result"
    }
   ],
   "source": [
    "analysis.__dir__()"
   ]
  },
  {
   "cell_type": "code",
   "execution_count": 51,
   "metadata": {},
   "outputs": [
    {
     "name": "stdout",
     "output_type": "stream",
     "text": [
      "2\n",
      "<class 'ray.tune.trial.Trial'>\n"
     ]
    },
    {
     "data": {
      "text/plain": [
       "[train_0_lr=0.00036282,momentum=0.62465, train_1_lr=0.17721,momentum=0.34218]"
      ]
     },
     "execution_count": 51,
     "metadata": {},
     "output_type": "execute_result"
    }
   ],
   "source": [
    "print(len(analysis.trials))\n",
    "print(type(analysis.trials[0]))\n",
    "analysis.trials"
   ]
  },
  {
   "cell_type": "code",
   "execution_count": 53,
   "metadata": {},
   "outputs": [
    {
     "data": {
      "text/plain": [
       "'train_0_lr=0.00036282,momentum=0.62465'"
      ]
     },
     "execution_count": 53,
     "metadata": {},
     "output_type": "execute_result"
    }
   ],
   "source": [
    "str(analysis.trials[0])"
   ]
  }
 ],
 "metadata": {
  "kernelspec": {
   "display_name": "Python (modeling_drug_efficacy)",
   "language": "python",
   "name": "modeling_drug_efficacy"
  },
  "language_info": {
   "codemirror_mode": {
    "name": "ipython",
    "version": 3
   },
   "file_extension": ".py",
   "mimetype": "text/x-python",
   "name": "python",
   "nbconvert_exporter": "python",
   "pygments_lexer": "ipython3",
   "version": "3.6.5"
  }
 },
 "nbformat": 4,
 "nbformat_minor": 2
}
